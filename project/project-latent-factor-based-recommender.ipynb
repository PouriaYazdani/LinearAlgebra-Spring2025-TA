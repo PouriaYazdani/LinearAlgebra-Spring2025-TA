{
 "cells": [
  {
   "cell_type": "code",
   "execution_count": null,
   "id": "74bd9be5",
   "metadata": {},
   "outputs": [],
   "source": [
    "import pandas as pd\n",
    "import numpy as np\n",
    "from scipy.sparse import coo_matrix\n",
    "import plotly.graph_objects as go\n",
    "from scipy.sparse.linalg import svds\n",
    "from numpy.linalg import svd"
   ]
  },
  {
   "cell_type": "code",
   "execution_count": 114,
   "id": "ff36ff3f",
   "metadata": {},
   "outputs": [],
   "source": [
    "df = pd.read_csv(\"full_data.csv\")"
   ]
  },
  {
   "cell_type": "code",
   "execution_count": 3,
   "id": "9480221d",
   "metadata": {},
   "outputs": [
    {
     "data": {
      "text/html": [
       "<div>\n",
       "<style scoped>\n",
       "    .dataframe tbody tr th:only-of-type {\n",
       "        vertical-align: middle;\n",
       "    }\n",
       "\n",
       "    .dataframe tbody tr th {\n",
       "        vertical-align: top;\n",
       "    }\n",
       "\n",
       "    .dataframe thead th {\n",
       "        text-align: right;\n",
       "    }\n",
       "</style>\n",
       "<table border=\"1\" class=\"dataframe\">\n",
       "  <thead>\n",
       "    <tr style=\"text-align: right;\">\n",
       "      <th></th>\n",
       "      <th>user_id</th>\n",
       "      <th>item_id</th>\n",
       "      <th>rating</th>\n",
       "      <th>timestamp</th>\n",
       "      <th>title</th>\n",
       "    </tr>\n",
       "  </thead>\n",
       "  <tbody>\n",
       "    <tr>\n",
       "      <th>0</th>\n",
       "      <td>196</td>\n",
       "      <td>242</td>\n",
       "      <td>3</td>\n",
       "      <td>881250949</td>\n",
       "      <td>Kolya (1996)</td>\n",
       "    </tr>\n",
       "    <tr>\n",
       "      <th>1</th>\n",
       "      <td>186</td>\n",
       "      <td>302</td>\n",
       "      <td>3</td>\n",
       "      <td>891717742</td>\n",
       "      <td>L.A. Confidential (1997)</td>\n",
       "    </tr>\n",
       "    <tr>\n",
       "      <th>2</th>\n",
       "      <td>22</td>\n",
       "      <td>377</td>\n",
       "      <td>1</td>\n",
       "      <td>878887116</td>\n",
       "      <td>Heavyweights (1994)</td>\n",
       "    </tr>\n",
       "    <tr>\n",
       "      <th>3</th>\n",
       "      <td>244</td>\n",
       "      <td>51</td>\n",
       "      <td>2</td>\n",
       "      <td>880606923</td>\n",
       "      <td>Legends of the Fall (1994)</td>\n",
       "    </tr>\n",
       "    <tr>\n",
       "      <th>4</th>\n",
       "      <td>166</td>\n",
       "      <td>346</td>\n",
       "      <td>1</td>\n",
       "      <td>886397596</td>\n",
       "      <td>Jackie Brown (1997)</td>\n",
       "    </tr>\n",
       "  </tbody>\n",
       "</table>\n",
       "</div>"
      ],
      "text/plain": [
       "   user_id  item_id  rating  timestamp                       title\n",
       "0      196      242       3  881250949                Kolya (1996)\n",
       "1      186      302       3  891717742    L.A. Confidential (1997)\n",
       "2       22      377       1  878887116         Heavyweights (1994)\n",
       "3      244       51       2  880606923  Legends of the Fall (1994)\n",
       "4      166      346       1  886397596         Jackie Brown (1997)"
      ]
     },
     "execution_count": 3,
     "metadata": {},
     "output_type": "execute_result"
    }
   ],
   "source": [
    "df.head()"
   ]
  },
  {
   "cell_type": "code",
   "execution_count": 4,
   "id": "4d51e0f2",
   "metadata": {},
   "outputs": [
    {
     "name": "stdout",
     "output_type": "stream",
     "text": [
      "users count: 943\n",
      "movies count: 1682\n",
      "1586126\n",
      "sparsity ratio: 0.06304669364224531\n"
     ]
    }
   ],
   "source": [
    "print(f\"users count: {df['user_id'].nunique()}\")\n",
    "print(f\"movies count: {df['item_id'].nunique()}\")\n",
    "complete_num_entries = df['item_id'].nunique()*df['user_id'].nunique() \n",
    "print(complete_num_entries)\n",
    "print(f'sparsity ratio: {len(df)/complete_num_entries}')"
   ]
  },
  {
   "cell_type": "code",
   "execution_count": 5,
   "id": "2f27e919",
   "metadata": {},
   "outputs": [],
   "source": [
    "df.drop(columns=['timestamp'], inplace=True)"
   ]
  },
  {
   "cell_type": "code",
   "execution_count": 6,
   "id": "c15d2c73",
   "metadata": {},
   "outputs": [
    {
     "data": {
      "text/plain": [
       "Index(['user_id', 'item_id', 'rating', 'title'], dtype='object')"
      ]
     },
     "execution_count": 6,
     "metadata": {},
     "output_type": "execute_result"
    }
   ],
   "source": [
    "df.columns"
   ]
  },
  {
   "cell_type": "code",
   "execution_count": 70,
   "id": "9cbfd1f1",
   "metadata": {},
   "outputs": [],
   "source": [
    "train_df = pd.read_csv(\"data.csv\") \n",
    "test_df = pd.read_csv(\"test.csv\") # test actually"
   ]
  },
  {
   "cell_type": "code",
   "execution_count": 72,
   "id": "4e707b99",
   "metadata": {},
   "outputs": [
    {
     "data": {
      "text/plain": [
       "(81016, 4)"
      ]
     },
     "execution_count": 72,
     "metadata": {},
     "output_type": "execute_result"
    }
   ],
   "source": [
    "train_df.shape"
   ]
  },
  {
   "cell_type": "code",
   "execution_count": null,
   "id": "9aa9cb66",
   "metadata": {},
   "outputs": [
    {
     "name": "stdout",
     "output_type": "stream",
     "text": [
      "Train  set size: 90,012 ratings\n",
      "Test   set size: 9,988 ratings\n",
      "Utility matrix shape: (943, 1667)\n",
      "Non‑zero entries   : 90012\n"
     ]
    }
   ],
   "source": [
    "# ---- 1. Train / Test split  ---------------------------------------------\n",
    "# Hold out 10 % of ratings *per user* so that every user still\n",
    "# has at least one rating left in the training set.\n",
    "\n",
    "TEST_FRAC = 0.10 \n",
    "RANDOM_STATE = 42 \n",
    "rng = np.random.default_rng(RANDOM_STATE)\n",
    "\n",
    "def stratified_user_split(ratings_df, test_frac=0.10, rng=None):\n",
    "    \"\"\"Return train_df, test_df with ≈ `test_frac` ratings per user.\"\"\"\n",
    "    if rng is None:\n",
    "        rng = np.random.default_rng()\n",
    "    test_mask = np.zeros(len(ratings_df), dtype=bool)\n",
    "\n",
    "    # groupby preserves index positions, so we can mark rows directly\n",
    "    for _, idx in ratings_df.groupby('user_id').groups.items():\n",
    "        idx = np.asarray(idx)           # row indices for this user\n",
    "        n_test = max(1, int(round(len(idx) * test_frac)))\n",
    "        choose = rng.choice(idx, size=n_test, replace=False)\n",
    "        test_mask[choose] = True\n",
    "\n",
    "    test_df  = ratings_df.loc[test_mask].reset_index(drop=True)\n",
    "    train_df = ratings_df.loc[~test_mask].reset_index(drop=True)\n",
    "    return train_df, test_df\n",
    "\n",
    "train_df, test_df = stratified_user_split(df, TEST_FRAC, rng)\n",
    "\n",
    "print(f\"Train  set size: {len(train_df):,} ratings\")\n",
    "print(f\"Test   set size: {len(test_df):,} ratings\")\n",
    "\n",
    "# ---- 2. Build sparse utility matrix from *train* data --------------------\n",
    "# Map the external IDs to 0‑based row / col indices\n",
    "user_codes, user_uniques = pd.factorize(train_df['user_id'])\n",
    "item_codes, item_uniques = pd.factorize(train_df['item_id'])\n",
    "\n",
    "n_users = len(user_uniques)\n",
    "n_items = len(item_uniques)\n",
    "\n",
    "train_matrix = coo_matrix(\n",
    "    (train_df['rating'].astype(np.float32), (user_codes, item_codes)),\n",
    "    shape=(n_users, n_items),\n",
    "    dtype=np.float32\n",
    ").tocsr()      # CSR preferred for fast row slicing\n",
    "\n",
    "print(f\"Utility matrix shape: {train_matrix.shape}\")\n",
    "print(f\"Non‑zero entries   : {train_matrix.nnz}\")    \n",
    "\n",
    "# ---- 3. Prepare test coordinates for RMSE -------------------------------\n",
    "# Discard test rows that reference users or items unseen in training,\n",
    "# because an SVD model built on `train_matrix` cannot predict them.\n",
    "known_user = test_df['user_id'].isin(user_uniques)\n",
    "known_item = test_df['item_id'].isin(item_uniques)\n",
    "test_df = test_df[known_user & known_item].reset_index(drop=True)\n",
    "\n",
    "# Convert IDs to integer row/col indices using the encoding from factorize\n",
    "user_lookup = dict(zip(user_uniques, range(n_users)))\n",
    "item_lookup = dict(zip(item_uniques, range(n_items)))\n",
    "\n",
    "test_rows = test_df['user_id'].map(user_lookup).to_numpy()\n",
    "test_cols = test_df['item_id'].map(item_lookup).to_numpy()\n",
    "test_ratings = test_df['rating'].to_numpy(dtype=np.float32)\n",
    "\n",
    "# You will later use (test_rows, test_cols, test_ratings)\n",
    "# to compute RMSE against the predictions."
   ]
  },
  {
   "cell_type": "code",
   "execution_count": 91,
   "id": "365ef434",
   "metadata": {},
   "outputs": [
    {
     "name": "stdout",
     "output_type": "stream",
     "text": [
      "Utility matrix shape: (943, 1667)\n",
      "Non-zero entries   : 90012\n"
     ]
    }
   ],
   "source": [
    "user_codes, user_uniques = pd.factorize(train_df['user_id'])\n",
    "item_codes, item_uniques = pd.factorize(train_df['item_id'])\n",
    "\n",
    "n_users = len(user_uniques)\n",
    "n_items = len(item_uniques)\n",
    "\n",
    "train_matrix = coo_matrix(\n",
    "    (train_df['rating'].astype(np.float32), (user_codes, item_codes)),\n",
    "    shape=(n_users, n_items),\n",
    "    dtype=np.float32\n",
    ").tocsr()      # CSR preferred for fast row slicing\n",
    "\n",
    "print(f\"Utility matrix shape: {train_matrix.shape}\")\n",
    "print(f\"Non-zero entries   : {train_matrix.nnz}\")    \n",
    "\n",
    "# ---- 3. Prepare test coordinates for RMSE -------------------------------\n",
    "# Discard test rows that reference users or items unseen in training,\n",
    "# because an SVD model built on `train_matrix` cannot predict them.\n",
    "known_user = test_df['user_id'].isin(user_uniques)\n",
    "known_item = test_df['item_id'].isin(item_uniques)\n",
    "test_df = test_df[known_user & known_item].reset_index(drop=True)\n",
    "\n",
    "# Convert IDs to integer row/col indices using the encoding from factorize\n",
    "user_lookup = dict(zip(user_uniques, range(n_users)))\n",
    "item_lookup = dict(zip(item_uniques, range(n_items)))\n",
    "\n",
    "test_rows = test_df['user_id'].map(user_lookup).to_numpy()\n",
    "test_cols = test_df['item_id'].map(item_lookup).to_numpy()\n",
    "test_ratings = test_df['rating'].to_numpy(dtype=np.float32)\n"
   ]
  },
  {
   "cell_type": "markdown",
   "id": "8a2cdc2b",
   "metadata": {},
   "source": [
    "### Approach 1 – Raw Zero‑Fill SVD\n",
    " Logic:\n",
    " * Build a sparse ratings matrix (already done: `train_matrix`)\n",
    " * Replace every missing entry implicitly with 0 – nothing extra to do\n",
    " * Compute truncated SVD (rank k)\n",
    " * Reconstruct low‑rank approximation and evaluate RMSE on the test set\n",
    "   NOTE: The 0 padding biases predictions but keeps the pipeline minimal."
   ]
  },
  {
   "cell_type": "code",
   "execution_count": null,
   "id": "200582fe",
   "metadata": {},
   "outputs": [
    {
     "name": "stdout",
     "output_type": "stream",
     "text": [
      "Raw Zero‑Fill SVD  | RMSE = 2.2966\n"
     ]
    }
   ],
   "source": [
    "\n",
    "k = 30  # latent dimension\n",
    "\n",
    "# Sparse SVD returns singular values in ascending order – reverse them\n",
    "U, S, Vt = svds(train_matrix, k=k)\n",
    "idx = np.argsort(-S)\n",
    "U, S, Vt = U[:, idx], S[idx], Vt[idx, :]\n",
    "\n",
    "# Full reconstruction (dense ~ 6 MB) – fine for MovieLens‑100k size\n",
    "raw_pred = (U @ np.diag(S) @ Vt)\n",
    "raw_pred_clipped = np.clip(raw_pred, 1, 5)\n",
    "\n",
    "rmse_raw = np.sqrt(\n",
    "    np.mean((raw_pred_clipped[test_rows, test_cols] - test_ratings) ** 2)\n",
    ")\n",
    "print(f\"Raw Zero‑Fill SVD  | RMSE = {rmse_raw:.4f}\")\n",
    "\n"
   ]
  },
  {
   "cell_type": "markdown",
   "id": "b223b8dc",
   "metadata": {},
   "source": [
    "### Approach 2 – Mean‑Centred SVD\n",
    " Logic:\n",
    " * Subtract each user’s mean rating from their observed ratings.\n",
    "   Unknown cells stay at 0 (≈ “no residual”).\n",
    " * Run truncated SVD on this centred residual matrix.\n",
    " * Add the user mean back to get final predictions, clip to [1,5], RMSE."
   ]
  },
  {
   "cell_type": "code",
   "execution_count": 93,
   "id": "b98a4d6f",
   "metadata": {},
   "outputs": [
    {
     "name": "stdout",
     "output_type": "stream",
     "text": [
      "Mean‑Centred SVD   | RMSE = 0.9855\n"
     ]
    }
   ],
   "source": [
    "# Compute user means from *training* data only\n",
    "user_sum = np.array(train_matrix.sum(axis=1)).flatten()\n",
    "user_count = np.diff(train_matrix.indptr)\n",
    "user_mean = user_sum / np.maximum(user_count, 1)       # avoid divide‑by‑0\n",
    "\n",
    "# Build centred dense matrix\n",
    "centred = train_matrix.toarray().astype(np.float32)\n",
    "for u in range(centred.shape[0]):\n",
    "    centred[u, centred[u, :] != 0] -= user_mean[u]     # subtract only on obs\n",
    "\n",
    "# Note: zeros remain zeros in missing cells\n",
    "Uc, Sc, Vtc = svds(centred, k=k)\n",
    "idx = np.argsort(-Sc)\n",
    "Uc, Sc, Vtc = Uc[:, idx], Sc[idx], Vtc[idx, :]\n",
    "centred_pred = Uc @ np.diag(Sc) @ Vtc\n",
    "\n",
    "# Add user mean baseline back\n",
    "mean_pred = centred_pred + user_mean[:, None]\n",
    "mean_pred_clipped = np.clip(mean_pred, 1, 5)\n",
    "\n",
    "rmse_mean = np.sqrt(\n",
    "    np.mean((mean_pred_clipped[test_rows, test_cols] - test_ratings) ** 2)\n",
    ")\n",
    "print(f\"Mean‑Centred SVD   | RMSE = {rmse_mean:.4f}\")\n",
    "\n",
    "\n",
    "\n"
   ]
  },
  {
   "cell_type": "markdown",
   "id": "04098830",
   "metadata": {},
   "source": [
    "### Approach 3 – Z‑Score Normalised SVD\n",
    " Logic:\n",
    " * After mean‑centring, divide by each user’s standard deviation.\n",
    " * Run SVD on the z‑scored residuals.\n",
    " * Reverse the scaling (×σ + μ), clip, RMSE."
   ]
  },
  {
   "cell_type": "code",
   "execution_count": 94,
   "id": "8718df8d",
   "metadata": {},
   "outputs": [
    {
     "name": "stdout",
     "output_type": "stream",
     "text": [
      "Z‑Score SVD        | RMSE = 0.9852\n"
     ]
    }
   ],
   "source": [
    "# Compute user standard deviation on observed ratings\n",
    "residual = train_matrix.toarray().astype(np.float32)\n",
    "for u in range(residual.shape[0]):\n",
    "    mask = residual[u, :] != 0\n",
    "    residual[u, mask] -= user_mean[u]\n",
    "\n",
    "user_var = np.zeros_like(user_mean)\n",
    "for u in range(residual.shape[0]):\n",
    "    mask = residual[u, :] != 0\n",
    "    if mask.sum():\n",
    "        user_var[u] = np.mean(residual[u, mask] ** 2)\n",
    "user_std = np.sqrt(np.maximum(user_var, 1e-12))   # avoid divide‑by‑0\n",
    "\n",
    "zscored = residual.copy()\n",
    "for u in range(zscored.shape[0]):\n",
    "    zscored[u, zscored[u, :] != 0] /= user_std[u]\n",
    "\n",
    "Uz, Sz, Vtz = svds(zscored, k=k)\n",
    "idx = np.argsort(-Sz)\n",
    "Uz, Sz, Vtz = Uz[:, idx], Sz[idx], Vtz[idx, :]\n",
    "z_pred = Uz @ np.diag(Sz) @ Vtz\n",
    "\n",
    "# Reverse z‑score\n",
    "z_pred_rescaled = (z_pred * user_std[:, None]) + user_mean[:, None]\n",
    "z_pred_clipped = np.clip(z_pred_rescaled, 1, 5)\n",
    "\n",
    "rmse_z = np.sqrt(\n",
    "    np.mean((z_pred_clipped[test_rows, test_cols] - test_ratings) ** 2)\n",
    ")\n",
    "print(f\"Z‑Score SVD        | RMSE = {rmse_z:.4f}\")"
   ]
  },
  {
   "cell_type": "markdown",
   "id": "10184198",
   "metadata": {},
   "source": [
    "### Approach 4 – Iterative SVD‑Impute\n",
    " Logic:\n",
    " * Start with user‑mean initial guess for missing cells -> dense matrix X\n",
    " * Loop:\n",
    "     a) rank‑k SVD of X -> P  (low‑rank projection)\n",
    "     b) put the *true* ratings back into X (mask)\n",
    " * Stop after N iterations or when change < ε.\n",
    " * Evaluate RMSE on final projection.\n"
   ]
  },
  {
   "cell_type": "code",
   "execution_count": 95,
   "id": "f5d15b0d",
   "metadata": {},
   "outputs": [
    {
     "name": "stdout",
     "output_type": "stream",
     "text": [
      "Iter 1: rel_change = 2.1579e-02\n",
      "Iter 2: rel_change = 1.4402e-02\n"
     ]
    },
    {
     "name": "stdout",
     "output_type": "stream",
     "text": [
      "Iter 3: rel_change = 1.1320e-02\n",
      "Iter 4: rel_change = 9.4860e-03\n",
      "Iter 5: rel_change = 8.2364e-03\n",
      "Iterative SVD‑Impute| RMSE = 0.9786\n"
     ]
    }
   ],
   "source": [
    "from numpy.linalg import svd\n",
    "\n",
    "n_iters = 5\n",
    "ε = 1e-3\n",
    "\n",
    "m, n = train_matrix.shape\n",
    "X = np.zeros((m, n), dtype=np.float32)\n",
    "\n",
    "# Initial fill with user mean\n",
    "for u in range(m):\n",
    "    X[u, :] = user_mean[u]\n",
    "coo = train_matrix.tocoo()\n",
    "X[coo.row, coo.col] = coo.data            # enforce observed ratings\n",
    "\n",
    "mask_obs = np.zeros_like(X, dtype=bool)\n",
    "mask_obs[coo.row, coo.col] = True\n",
    "\n",
    "for t in range(n_iters):\n",
    "    # SVD via dense routine (matrix only 6 MB)\n",
    "    U_i, S_i, Vt_i = svd(X, full_matrices=False)\n",
    "    U_i, S_i, Vt_i = U_i[:, :k], S_i[:k], Vt_i[:k, :]\n",
    "    P = U_i @ np.diag(S_i) @ Vt_i\n",
    "\n",
    "    delta = np.linalg.norm((~mask_obs) * (P - X)) / np.linalg.norm((~mask_obs) * X)\n",
    "    X[~mask_obs] = P[~mask_obs]   # update only missing cells\n",
    "    print(f\"Iter {t+1}: rel_change = {delta:.4e}\")\n",
    "    if delta < ε:\n",
    "        break\n",
    "\n",
    "impute_pred = np.clip(P, 1, 5)\n",
    "rmse_imp = np.sqrt(\n",
    "    np.mean((impute_pred[test_rows, test_cols] - test_ratings) ** 2)\n",
    ")\n",
    "print(f\"Iterative SVD‑Impute| RMSE = {rmse_imp:.4f}\")"
   ]
  },
  {
   "cell_type": "markdown",
   "id": "25dad168",
   "metadata": {},
   "source": [
    "### Approach 5 - \"baseline + latent factors\"\n",
    "* μ  : overall mean\n",
    "* b_u: user bias\n",
    "* b_i: item bias\n",
    "* P  : rank-k SVD of residuals\n",
    "* final prediction  r̂_ui = μ + b_u + b_i + P_ui"
   ]
  },
  {
   "cell_type": "code",
   "execution_count": 96,
   "id": "03b493c9",
   "metadata": {},
   "outputs": [
    {
     "name": "stdout",
     "output_type": "stream",
     "text": [
      "Baseline-only          | RMSE = 0.9708\n",
      "Bias + Residual-SVD    | RMSE = 0.9358\n",
      "A = Q · Pᵀ  | RMSE = 0.9358\n"
     ]
    }
   ],
   "source": [
    "from scipy.sparse.linalg import svds\n",
    "import numpy as np\n",
    "\n",
    "k = 10                   # latent dimension  (tweak 20-50 for MovieLens-100k)\n",
    "\n",
    "# --- 1. baselines ----------------------------------------------------------\n",
    "mu = train_df['rating'].mean()\n",
    "\n",
    "# user bias  b_u\n",
    "user_mean = train_df.groupby('user_id')['rating'].mean()\n",
    "b_u = (user_mean - mu).reindex(user_uniques).fillna(0.0).to_numpy()\n",
    "\n",
    "# item bias  b_i\n",
    "item_mean = train_df.groupby('item_id')['rating'].mean()\n",
    "b_i = (item_mean - mu).reindex(item_uniques).fillna(0.0).to_numpy()\n",
    "\n",
    "# --- 2. residual matrix ----------------------------------------------------\n",
    "# Build dense matrix of residuals (MovieLens-100k ↔ ~13 MB float32)\n",
    "residual = train_matrix.toarray().astype(np.float32)\n",
    "\n",
    "# subtract μ + b_u + b_i **only** on observed entries\n",
    "rows, cols = train_matrix.nonzero()\n",
    "residual[rows, cols] -= (mu + b_u[rows] + b_i[cols])\n",
    "\n",
    "# --- 3. rank-k SVD on residuals -------------------------------------------\n",
    "U, S, Vt = svds(residual, k=k)\n",
    "idx = np.argsort(-S)           # put largest σ first\n",
    "U, S, Vt = U[:, idx], S[idx], Vt[idx, :]\n",
    "\n",
    "P = U @ np.diag(S) @ Vt        # low-rank residuals\n",
    "\n",
    "# --- 4. compose final predictions -----------------------------------------\n",
    "pred = mu + b_u[:, None] + b_i[None, :] + P\n",
    "pred_clipped = np.clip(pred, 1, 5)\n",
    "\n",
    "# --- 5. evaluation ---------------------------------------------------------\n",
    "rmse_bias_only = np.sqrt(\n",
    "    np.mean((mu + b_u[test_rows] + b_i[test_cols] - test_ratings) ** 2)\n",
    ")\n",
    "rmse_bias_svd  = np.sqrt(\n",
    "    np.mean((pred_clipped[test_rows, test_cols] - test_ratings) ** 2)\n",
    ")\n",
    "\n",
    "print(f\"Baseline-only          | RMSE = {rmse_bias_only:.4f}\")\n",
    "print(f\"Bias + Residual-SVD    | RMSE = {rmse_bias_svd :.4f}\")\n",
    "\n",
    "\n",
    "##################################################################################\n",
    "# ①  Build latent user/item factors  (R ≈ Q · Pᵀ)  and test RMSE\n",
    "# --------------------------------------------------------------------------\n",
    "# Requires:  U, S, Vt  from the Bias-Residual SVD cell (k=10 there)\n",
    "#            mu, b_u, b_i, user_uniques, item_uniques,\n",
    "#            test_rows, test_cols, test_ratings\n",
    "# --------------------------------------------------------------------------\n",
    "sqrt_S   = np.sqrt(S)\n",
    "\n",
    "# P_factors = U * sqrt_S            # users  (m × k)\n",
    "# Q_factors = (Vt.T) * sqrt_S       # items  (n × k)\n",
    "\n",
    "Q_factors = U                        # shape: (m × k)\n",
    "P_t = np.diag(S) @ Vt                # shape: (k × n)\n",
    "P_factors = P_t.T                    # shape: (n × k)\n",
    "\n",
    "def predict_dot_only(u_row, i_col):\n",
    "    \"\"\"Residual interaction  q_u · p_i  (correct orientation).\"\"\"\n",
    "    return float(Q_factors[u_row] @ P_factors[i_col])\n",
    "\n",
    "def predict_full(u_row, i_col):\n",
    "    return mu + b_u[u_row] + b_i[i_col] + predict_dot_only(u_row, i_col)\n",
    "\n",
    "full_preds = np.clip(\n",
    "    np.array([predict_full(u, i) for u, i in zip(test_rows, test_cols)]),\n",
    "    1, 5\n",
    ")\n",
    "\n",
    "rmse_full = np.sqrt(np.mean((full_preds - test_ratings) ** 2))\n",
    "print(f\"A = Q · Pᵀ  | RMSE = {rmse_full:.4f}\")\n",
    "\n"
   ]
  },
  {
   "cell_type": "code",
   "execution_count": 97,
   "id": "19abd8a3",
   "metadata": {},
   "outputs": [
    {
     "data": {
      "text/plain": [
       "(943, 1667)"
      ]
     },
     "execution_count": 97,
     "metadata": {},
     "output_type": "execute_result"
    }
   ],
   "source": [
    "residual.shape"
   ]
  },
  {
   "cell_type": "code",
   "execution_count": 98,
   "id": "a684e4a6",
   "metadata": {},
   "outputs": [
    {
     "name": "stdout",
     "output_type": "stream",
     "text": [
      "Using latent factors 0, 1, 2 (the three largest singular values).\n"
     ]
    },
    {
     "data": {
      "application/vnd.plotly.v1+json": {
       "config": {
        "plotlyServerURL": "https://plot.ly"
       },
       "data": [
        {
         "hoverinfo": "text",
         "hovertext": [
          "L.A. Confidential (1997)",
          "Men in Black (1997)",
          "Star Trek: First Contact (1996)",
          "Die Hard (1988)",
          "Twister (1996)",
          "Toy Story (1995)",
          "Aladdin (1992)",
          "Jaws (1975)",
          "Silence of the Lambs, The (1991)",
          "Sting, The (1973)",
          "Murder at 1600 (1997)",
          "Return of the Jedi (1983)",
          "Dead Poets Society (1989)",
          "Scream (1996)",
          "To Kill a Mockingbird (1962)",
          "Mr. Holland's Opus (1995)",
          "Jerry Maguire (1996)",
          "Truth About Cats & Dogs, The (1996)",
          "Birdcage, The (1996)",
          "Sense and Sensibility (1995)",
          "Liar Liar (1997)",
          "Conspiracy Theory (1997)",
          "It's a Wonderful Life (1946)",
          "Wizard of Oz, The (1939)",
          "Raiders of the Lost Ark (1981)",
          "Willy Wonka and the Chocolate Factory (1971)",
          "Terminator, The (1984)",
          "Hunt for Red October, The (1990)",
          "Devil's Own, The (1997)",
          "2001: A Space Odyssey (1968)",
          "Chasing Amy (1997)",
          "Rock, The (1996)",
          "Heat (1995)",
          "Dante's Peak (1997)",
          "Fugitive, The (1993)",
          "Empire Strikes Back, The (1980)",
          "When Harry Met Sally... (1989)",
          "Mission: Impossible (1996)",
          "Casablanca (1942)",
          "Saint, The (1997)",
          "Courage Under Fire (1996)",
          "Groundhog Day (1993)",
          "Star Trek: The Wrath of Khan (1982)",
          "Godfather, The (1972)",
          "Schindler's List (1993)",
          "Speed (1994)",
          "Twelve Monkeys (1995)",
          "Contact (1997)",
          "Pulp Fiction (1994)",
          "Blade Runner (1982)",
          "Fish Called Wanda, A (1988)",
          "Sound of Music, The (1965)",
          "Terminator 2: Judgment Day (1991)",
          "Seven (Se7en) (1995)",
          "Jurassic Park (1993)",
          "Broken Arrow (1996)",
          "Shawshank Redemption, The (1994)",
          "One Flew Over the Cuckoo's Nest (1975)",
          "Back to the Future (1985)",
          "Amadeus (1984)",
          "Alien (1979)",
          "Graduate, The (1967)",
          "Volcano (1997)",
          "Game, The (1997)",
          "English Patient, The (1996)",
          "Usual Suspects, The (1995)",
          "Blues Brothers, The (1980)",
          "Lion King, The (1994)",
          "Aliens (1986)",
          "Dances with Wolves (1990)",
          "Princess Bride, The (1987)",
          "Raising Arizona (1987)",
          "Indiana Jones and the Last Crusade (1989)",
          "Trainspotting (1996)",
          "Star Wars (1977)",
          "Evita (1996)",
          "Psycho (1960)",
          "Ransom (1996)",
          "Monty Python and the Holy Grail (1974)",
          "Babe (1995)",
          "Independence Day (ID4) (1996)",
          "In & Out (1997)",
          "Braveheart (1995)",
          "Fargo (1996)",
          "Four Weddings and a Funeral (1994)",
          "Stand by Me (1986)",
          "Top Gun (1986)",
          "E.T. the Extra-Terrestrial (1982)",
          "Apollo 13 (1995)",
          "Forrest Gump (1994)",
          "Full Monty, The (1997)",
          "Clockwork Orange, A (1971)",
          "Dead Man Walking (1995)",
          "GoodFellas (1990)",
          "Phenomenon (1996)",
          "Apocalypse Now (1979)",
          "Time to Kill, A (1996)",
          "Air Force One (1997)",
          "Leaving Las Vegas (1995)",
          "Titanic (1997)"
         ],
         "marker": {
          "color": "blue",
          "opacity": 0.8,
          "size": 4
         },
         "mode": "markers",
         "type": "scatter3d",
         "x": {
          "bdata": "UjYWvO7OjzwgIGO96iQ1Pe5Adj30tGm9PnKpvObE4bqM4Lg7khwSPMJBrDpo9Do8TbdOPfaVBb2QUYE8VTlIOux7a71vmho7VjS7PE7mUrzzBsI9FUzluvoPijxLg428OITgPDqVtrylQAA+hg8APInco7sCEme861IsvXQXPD2mBsq7hRE7PB8GMrt2Ybs8rdVrPGVkN7u4una89OAQuxJLdDyTVGu6mmUAO4zNEj25iCq7LqBSO9Spx7wq8R08TbP6ua6rf7r8S4a89MHFO45GsrtkWFQ7pLaPu1zyALr8cAq9JooCPAC5srx6/OU8yBw+Oy9XCbsB2ss7c0rROwWzkDtL3yE8oNWiO/nCLTvK+5A7GPYoPBnC77tgr389swD0OpsXrDrC9Hw9q25Pvf0gFb0YT728xA4tO2r7kDuBxpy7iRy8vNGMnjv54NO8/zVDuW2/3b0eham8Jla2PPj607tVB5k8yTYFPOjATLwOLAm9h0Zou23sgr01D+a8lPG/PFxwBbyclQQ9W2vpOw==",
          "dtype": "f4"
         },
         "y": {
          "bdata": "I6EOvXkWcz3aRRA66MhmOyNg1TywnT+9arcuvKvvL7y3UJw5Q+6CPHSSAr2eh5w9R+HqvGXqsj3dUfu7bEQ7O6bA/rolJ0I7v11BPJ37A71PcuU9DZWyPG9egLz/NWE60dWCvD0BBzsc8MA9zWZnuw/ooj1Q0NQ8mBOYvCM4Obwv3Q47F0gJPAbqy7u57Y28aJKiu88fSLyqWey78SYPvLtPBz3yJFm79c3iO03dfLqaxCk5/J/5u3NMAb1wuoK6+tXFulzctLwN2bC8W6wwO2UFZbtbNqA7dqAQvcQMe7uSq+28/umhOJcWDj1YJqK6n1SHu9BGi7wRc+u5VXGouyb4/bp6JpC6uOJRu9JxKrsjeyY8ijBIPM+PD7zcbpc8ID9mvC+oyTqGVXs9Np3GvFepojz0Nre8VABcu7JTtbuq7r44kdeVvAyKlLzT3Qu9qFP2ukQQf7zb4Ze8GUmVPA/gRT2+6P4715RMu+ezgjyUUxa92PKyuOoHkL3x9BO9zbGUuxgjq7zQnk68SD0KOg==",
          "dtype": "f4"
         },
         "z": {
          "bdata": "IEVZO71STr03wXE8F2ObO7/NfDw7kWY9W3ekvF5aOjy7Diu7g5Flu2e8rDqA8iG77IenPRJLir7ZKDw85ZTyOUhFrDobNtS7FtZLvPklGrwzxe282ewQOvm1ZjzL82S8HNIkPYXdBrzPM5I8fBTBOhlg4r0/y8i9N7SaPGIeJj1hRIc7RsGGPFhKZjuceXE83bruPAg+47qVsqC8IcFWOxKMeTy9pp88Jbr3uvGdOT0u5g67hG6NPON4ZrzeviM8vz2IOwOrrDuA72w8fTT5OxBhGLycLc87Xqy4PGg0uTrKKwm9f5q4OylUFrv5j0y8gskwPMIvRbs6thA8zXj+uzdwITyBFEg6c3cSPAMPZjxdqmU4KvFAus44izy9/bA9SAgdO5R1bztUIMg89A1IvcrLHL1nLh+7o+Dou15va7xFe1k70QaqPA/a4zz1iAW8YWc/O4QmmLzcWp27e/OZOytNgr3Iaos8vN3ZO6NIVrxZnXm8EWmduvF1HLxMgiW9MPkevdY3JjzxDik9oLJ3Ow==",
          "dtype": "f4"
         }
        }
       ],
       "layout": {
        "margin": {
         "b": 0,
         "l": 0,
         "r": 0,
         "t": 40
        },
        "scene": {
         "xaxis": {
          "title": {
           "text": "Latent factor 1"
          }
         },
         "yaxis": {
          "title": {
           "text": "Latent factor 2"
          }
         },
         "zaxis": {
          "title": {
           "text": "Latent factor 3"
          }
         }
        },
        "template": {
         "data": {
          "bar": [
           {
            "error_x": {
             "color": "#2a3f5f"
            },
            "error_y": {
             "color": "#2a3f5f"
            },
            "marker": {
             "line": {
              "color": "#E5ECF6",
              "width": 0.5
             },
             "pattern": {
              "fillmode": "overlay",
              "size": 10,
              "solidity": 0.2
             }
            },
            "type": "bar"
           }
          ],
          "barpolar": [
           {
            "marker": {
             "line": {
              "color": "#E5ECF6",
              "width": 0.5
             },
             "pattern": {
              "fillmode": "overlay",
              "size": 10,
              "solidity": 0.2
             }
            },
            "type": "barpolar"
           }
          ],
          "carpet": [
           {
            "aaxis": {
             "endlinecolor": "#2a3f5f",
             "gridcolor": "white",
             "linecolor": "white",
             "minorgridcolor": "white",
             "startlinecolor": "#2a3f5f"
            },
            "baxis": {
             "endlinecolor": "#2a3f5f",
             "gridcolor": "white",
             "linecolor": "white",
             "minorgridcolor": "white",
             "startlinecolor": "#2a3f5f"
            },
            "type": "carpet"
           }
          ],
          "choropleth": [
           {
            "colorbar": {
             "outlinewidth": 0,
             "ticks": ""
            },
            "type": "choropleth"
           }
          ],
          "contour": [
           {
            "colorbar": {
             "outlinewidth": 0,
             "ticks": ""
            },
            "colorscale": [
             [
              0,
              "#0d0887"
             ],
             [
              0.1111111111111111,
              "#46039f"
             ],
             [
              0.2222222222222222,
              "#7201a8"
             ],
             [
              0.3333333333333333,
              "#9c179e"
             ],
             [
              0.4444444444444444,
              "#bd3786"
             ],
             [
              0.5555555555555556,
              "#d8576b"
             ],
             [
              0.6666666666666666,
              "#ed7953"
             ],
             [
              0.7777777777777778,
              "#fb9f3a"
             ],
             [
              0.8888888888888888,
              "#fdca26"
             ],
             [
              1,
              "#f0f921"
             ]
            ],
            "type": "contour"
           }
          ],
          "contourcarpet": [
           {
            "colorbar": {
             "outlinewidth": 0,
             "ticks": ""
            },
            "type": "contourcarpet"
           }
          ],
          "heatmap": [
           {
            "colorbar": {
             "outlinewidth": 0,
             "ticks": ""
            },
            "colorscale": [
             [
              0,
              "#0d0887"
             ],
             [
              0.1111111111111111,
              "#46039f"
             ],
             [
              0.2222222222222222,
              "#7201a8"
             ],
             [
              0.3333333333333333,
              "#9c179e"
             ],
             [
              0.4444444444444444,
              "#bd3786"
             ],
             [
              0.5555555555555556,
              "#d8576b"
             ],
             [
              0.6666666666666666,
              "#ed7953"
             ],
             [
              0.7777777777777778,
              "#fb9f3a"
             ],
             [
              0.8888888888888888,
              "#fdca26"
             ],
             [
              1,
              "#f0f921"
             ]
            ],
            "type": "heatmap"
           }
          ],
          "histogram": [
           {
            "marker": {
             "pattern": {
              "fillmode": "overlay",
              "size": 10,
              "solidity": 0.2
             }
            },
            "type": "histogram"
           }
          ],
          "histogram2d": [
           {
            "colorbar": {
             "outlinewidth": 0,
             "ticks": ""
            },
            "colorscale": [
             [
              0,
              "#0d0887"
             ],
             [
              0.1111111111111111,
              "#46039f"
             ],
             [
              0.2222222222222222,
              "#7201a8"
             ],
             [
              0.3333333333333333,
              "#9c179e"
             ],
             [
              0.4444444444444444,
              "#bd3786"
             ],
             [
              0.5555555555555556,
              "#d8576b"
             ],
             [
              0.6666666666666666,
              "#ed7953"
             ],
             [
              0.7777777777777778,
              "#fb9f3a"
             ],
             [
              0.8888888888888888,
              "#fdca26"
             ],
             [
              1,
              "#f0f921"
             ]
            ],
            "type": "histogram2d"
           }
          ],
          "histogram2dcontour": [
           {
            "colorbar": {
             "outlinewidth": 0,
             "ticks": ""
            },
            "colorscale": [
             [
              0,
              "#0d0887"
             ],
             [
              0.1111111111111111,
              "#46039f"
             ],
             [
              0.2222222222222222,
              "#7201a8"
             ],
             [
              0.3333333333333333,
              "#9c179e"
             ],
             [
              0.4444444444444444,
              "#bd3786"
             ],
             [
              0.5555555555555556,
              "#d8576b"
             ],
             [
              0.6666666666666666,
              "#ed7953"
             ],
             [
              0.7777777777777778,
              "#fb9f3a"
             ],
             [
              0.8888888888888888,
              "#fdca26"
             ],
             [
              1,
              "#f0f921"
             ]
            ],
            "type": "histogram2dcontour"
           }
          ],
          "mesh3d": [
           {
            "colorbar": {
             "outlinewidth": 0,
             "ticks": ""
            },
            "type": "mesh3d"
           }
          ],
          "parcoords": [
           {
            "line": {
             "colorbar": {
              "outlinewidth": 0,
              "ticks": ""
             }
            },
            "type": "parcoords"
           }
          ],
          "pie": [
           {
            "automargin": true,
            "type": "pie"
           }
          ],
          "scatter": [
           {
            "fillpattern": {
             "fillmode": "overlay",
             "size": 10,
             "solidity": 0.2
            },
            "type": "scatter"
           }
          ],
          "scatter3d": [
           {
            "line": {
             "colorbar": {
              "outlinewidth": 0,
              "ticks": ""
             }
            },
            "marker": {
             "colorbar": {
              "outlinewidth": 0,
              "ticks": ""
             }
            },
            "type": "scatter3d"
           }
          ],
          "scattercarpet": [
           {
            "marker": {
             "colorbar": {
              "outlinewidth": 0,
              "ticks": ""
             }
            },
            "type": "scattercarpet"
           }
          ],
          "scattergeo": [
           {
            "marker": {
             "colorbar": {
              "outlinewidth": 0,
              "ticks": ""
             }
            },
            "type": "scattergeo"
           }
          ],
          "scattergl": [
           {
            "marker": {
             "colorbar": {
              "outlinewidth": 0,
              "ticks": ""
             }
            },
            "type": "scattergl"
           }
          ],
          "scattermap": [
           {
            "marker": {
             "colorbar": {
              "outlinewidth": 0,
              "ticks": ""
             }
            },
            "type": "scattermap"
           }
          ],
          "scattermapbox": [
           {
            "marker": {
             "colorbar": {
              "outlinewidth": 0,
              "ticks": ""
             }
            },
            "type": "scattermapbox"
           }
          ],
          "scatterpolar": [
           {
            "marker": {
             "colorbar": {
              "outlinewidth": 0,
              "ticks": ""
             }
            },
            "type": "scatterpolar"
           }
          ],
          "scatterpolargl": [
           {
            "marker": {
             "colorbar": {
              "outlinewidth": 0,
              "ticks": ""
             }
            },
            "type": "scatterpolargl"
           }
          ],
          "scatterternary": [
           {
            "marker": {
             "colorbar": {
              "outlinewidth": 0,
              "ticks": ""
             }
            },
            "type": "scatterternary"
           }
          ],
          "surface": [
           {
            "colorbar": {
             "outlinewidth": 0,
             "ticks": ""
            },
            "colorscale": [
             [
              0,
              "#0d0887"
             ],
             [
              0.1111111111111111,
              "#46039f"
             ],
             [
              0.2222222222222222,
              "#7201a8"
             ],
             [
              0.3333333333333333,
              "#9c179e"
             ],
             [
              0.4444444444444444,
              "#bd3786"
             ],
             [
              0.5555555555555556,
              "#d8576b"
             ],
             [
              0.6666666666666666,
              "#ed7953"
             ],
             [
              0.7777777777777778,
              "#fb9f3a"
             ],
             [
              0.8888888888888888,
              "#fdca26"
             ],
             [
              1,
              "#f0f921"
             ]
            ],
            "type": "surface"
           }
          ],
          "table": [
           {
            "cells": {
             "fill": {
              "color": "#EBF0F8"
             },
             "line": {
              "color": "white"
             }
            },
            "header": {
             "fill": {
              "color": "#C8D4E3"
             },
             "line": {
              "color": "white"
             }
            },
            "type": "table"
           }
          ]
         },
         "layout": {
          "annotationdefaults": {
           "arrowcolor": "#2a3f5f",
           "arrowhead": 0,
           "arrowwidth": 1
          },
          "autotypenumbers": "strict",
          "coloraxis": {
           "colorbar": {
            "outlinewidth": 0,
            "ticks": ""
           }
          },
          "colorscale": {
           "diverging": [
            [
             0,
             "#8e0152"
            ],
            [
             0.1,
             "#c51b7d"
            ],
            [
             0.2,
             "#de77ae"
            ],
            [
             0.3,
             "#f1b6da"
            ],
            [
             0.4,
             "#fde0ef"
            ],
            [
             0.5,
             "#f7f7f7"
            ],
            [
             0.6,
             "#e6f5d0"
            ],
            [
             0.7,
             "#b8e186"
            ],
            [
             0.8,
             "#7fbc41"
            ],
            [
             0.9,
             "#4d9221"
            ],
            [
             1,
             "#276419"
            ]
           ],
           "sequential": [
            [
             0,
             "#0d0887"
            ],
            [
             0.1111111111111111,
             "#46039f"
            ],
            [
             0.2222222222222222,
             "#7201a8"
            ],
            [
             0.3333333333333333,
             "#9c179e"
            ],
            [
             0.4444444444444444,
             "#bd3786"
            ],
            [
             0.5555555555555556,
             "#d8576b"
            ],
            [
             0.6666666666666666,
             "#ed7953"
            ],
            [
             0.7777777777777778,
             "#fb9f3a"
            ],
            [
             0.8888888888888888,
             "#fdca26"
            ],
            [
             1,
             "#f0f921"
            ]
           ],
           "sequentialminus": [
            [
             0,
             "#0d0887"
            ],
            [
             0.1111111111111111,
             "#46039f"
            ],
            [
             0.2222222222222222,
             "#7201a8"
            ],
            [
             0.3333333333333333,
             "#9c179e"
            ],
            [
             0.4444444444444444,
             "#bd3786"
            ],
            [
             0.5555555555555556,
             "#d8576b"
            ],
            [
             0.6666666666666666,
             "#ed7953"
            ],
            [
             0.7777777777777778,
             "#fb9f3a"
            ],
            [
             0.8888888888888888,
             "#fdca26"
            ],
            [
             1,
             "#f0f921"
            ]
           ]
          },
          "colorway": [
           "#636efa",
           "#EF553B",
           "#00cc96",
           "#ab63fa",
           "#FFA15A",
           "#19d3f3",
           "#FF6692",
           "#B6E880",
           "#FF97FF",
           "#FECB52"
          ],
          "font": {
           "color": "#2a3f5f"
          },
          "geo": {
           "bgcolor": "white",
           "lakecolor": "white",
           "landcolor": "#E5ECF6",
           "showlakes": true,
           "showland": true,
           "subunitcolor": "white"
          },
          "hoverlabel": {
           "align": "left"
          },
          "hovermode": "closest",
          "mapbox": {
           "style": "light"
          },
          "paper_bgcolor": "white",
          "plot_bgcolor": "#E5ECF6",
          "polar": {
           "angularaxis": {
            "gridcolor": "white",
            "linecolor": "white",
            "ticks": ""
           },
           "bgcolor": "#E5ECF6",
           "radialaxis": {
            "gridcolor": "white",
            "linecolor": "white",
            "ticks": ""
           }
          },
          "scene": {
           "xaxis": {
            "backgroundcolor": "#E5ECF6",
            "gridcolor": "white",
            "gridwidth": 2,
            "linecolor": "white",
            "showbackground": true,
            "ticks": "",
            "zerolinecolor": "white"
           },
           "yaxis": {
            "backgroundcolor": "#E5ECF6",
            "gridcolor": "white",
            "gridwidth": 2,
            "linecolor": "white",
            "showbackground": true,
            "ticks": "",
            "zerolinecolor": "white"
           },
           "zaxis": {
            "backgroundcolor": "#E5ECF6",
            "gridcolor": "white",
            "gridwidth": 2,
            "linecolor": "white",
            "showbackground": true,
            "ticks": "",
            "zerolinecolor": "white"
           }
          },
          "shapedefaults": {
           "line": {
            "color": "#2a3f5f"
           }
          },
          "ternary": {
           "aaxis": {
            "gridcolor": "white",
            "linecolor": "white",
            "ticks": ""
           },
           "baxis": {
            "gridcolor": "white",
            "linecolor": "white",
            "ticks": ""
           },
           "bgcolor": "#E5ECF6",
           "caxis": {
            "gridcolor": "white",
            "linecolor": "white",
            "ticks": ""
           }
          },
          "title": {
           "x": 0.05
          },
          "xaxis": {
           "automargin": true,
           "gridcolor": "white",
           "linecolor": "white",
           "ticks": "",
           "title": {
            "standoff": 15
           },
           "zerolinecolor": "white",
           "zerolinewidth": 2
          },
          "yaxis": {
           "automargin": true,
           "gridcolor": "white",
           "linecolor": "white",
           "ticks": "",
           "title": {
            "standoff": 15
           },
           "zerolinecolor": "white",
           "zerolinewidth": 2
          }
         }
        },
        "title": {
         "text": "Top 100 Movies in 3D Latent Space (Factors 1, 2, 3)"
        }
       }
      }
     },
     "metadata": {},
     "output_type": "display_data"
    },
    {
     "data": {
      "application/vnd.plotly.v1+json": {
       "config": {
        "plotlyServerURL": "https://plot.ly"
       },
       "data": [
        {
         "hoverinfo": "text",
         "hovertext": [
          "L.A. Confidential (1997)",
          "Men in Black (1997)",
          "Star Trek: First Contact (1996)",
          "Die Hard (1988)",
          "Twister (1996)",
          "Toy Story (1995)",
          "Aladdin (1992)",
          "Jaws (1975)",
          "Silence of the Lambs, The (1991)",
          "Sting, The (1973)",
          "Murder at 1600 (1997)",
          "Return of the Jedi (1983)",
          "Dead Poets Society (1989)",
          "Scream (1996)",
          "To Kill a Mockingbird (1962)",
          "Mr. Holland's Opus (1995)",
          "Jerry Maguire (1996)",
          "Truth About Cats & Dogs, The (1996)",
          "Birdcage, The (1996)",
          "Sense and Sensibility (1995)",
          "Liar Liar (1997)",
          "Conspiracy Theory (1997)",
          "It's a Wonderful Life (1946)",
          "Wizard of Oz, The (1939)",
          "Raiders of the Lost Ark (1981)",
          "Willy Wonka and the Chocolate Factory (1971)",
          "Terminator, The (1984)",
          "Hunt for Red October, The (1990)",
          "Devil's Own, The (1997)",
          "2001: A Space Odyssey (1968)",
          "Chasing Amy (1997)",
          "Rock, The (1996)",
          "Heat (1995)",
          "Dante's Peak (1997)",
          "Fugitive, The (1993)",
          "Empire Strikes Back, The (1980)",
          "When Harry Met Sally... (1989)",
          "Mission: Impossible (1996)",
          "Casablanca (1942)",
          "Saint, The (1997)",
          "Courage Under Fire (1996)",
          "Groundhog Day (1993)",
          "Star Trek: The Wrath of Khan (1982)",
          "Godfather, The (1972)",
          "Schindler's List (1993)",
          "Speed (1994)",
          "Twelve Monkeys (1995)",
          "Contact (1997)",
          "Pulp Fiction (1994)",
          "Blade Runner (1982)",
          "Fish Called Wanda, A (1988)",
          "Sound of Music, The (1965)",
          "Terminator 2: Judgment Day (1991)",
          "Seven (Se7en) (1995)",
          "Jurassic Park (1993)",
          "Broken Arrow (1996)",
          "Shawshank Redemption, The (1994)",
          "One Flew Over the Cuckoo's Nest (1975)",
          "Back to the Future (1985)",
          "Amadeus (1984)",
          "Alien (1979)",
          "Graduate, The (1967)",
          "Volcano (1997)",
          "Game, The (1997)",
          "English Patient, The (1996)",
          "Usual Suspects, The (1995)",
          "Blues Brothers, The (1980)",
          "Lion King, The (1994)",
          "Aliens (1986)",
          "Dances with Wolves (1990)",
          "Princess Bride, The (1987)",
          "Raising Arizona (1987)",
          "Indiana Jones and the Last Crusade (1989)",
          "Trainspotting (1996)",
          "Star Wars (1977)",
          "Evita (1996)",
          "Psycho (1960)",
          "Ransom (1996)",
          "Monty Python and the Holy Grail (1974)",
          "Babe (1995)",
          "Independence Day (ID4) (1996)",
          "In & Out (1997)",
          "Braveheart (1995)",
          "Fargo (1996)",
          "Four Weddings and a Funeral (1994)",
          "Stand by Me (1986)",
          "Top Gun (1986)",
          "E.T. the Extra-Terrestrial (1982)",
          "Apollo 13 (1995)",
          "Forrest Gump (1994)",
          "Full Monty, The (1997)",
          "Clockwork Orange, A (1971)",
          "Dead Man Walking (1995)",
          "GoodFellas (1990)",
          "Phenomenon (1996)",
          "Apocalypse Now (1979)",
          "Time to Kill, A (1996)",
          "Air Force One (1997)",
          "Leaving Las Vegas (1995)",
          "Titanic (1997)"
         ],
         "marker": {
          "color": "blue",
          "opacity": 0.8,
          "size": 6
         },
         "mode": "markers",
         "type": "scatter",
         "x": {
          "bdata": "UjYWvO7OjzwgIGO96iQ1Pe5Adj30tGm9PnKpvObE4bqM4Lg7khwSPMJBrDpo9Do8TbdOPfaVBb2QUYE8VTlIOux7a71vmho7VjS7PE7mUrzzBsI9FUzluvoPijxLg428OITgPDqVtrylQAA+hg8APInco7sCEme861IsvXQXPD2mBsq7hRE7PB8GMrt2Ybs8rdVrPGVkN7u4una89OAQuxJLdDyTVGu6mmUAO4zNEj25iCq7LqBSO9Spx7wq8R08TbP6ua6rf7r8S4a89MHFO45GsrtkWFQ7pLaPu1zyALr8cAq9JooCPAC5srx6/OU8yBw+Oy9XCbsB2ss7c0rROwWzkDtL3yE8oNWiO/nCLTvK+5A7GPYoPBnC77tgr389swD0OpsXrDrC9Hw9q25Pvf0gFb0YT728xA4tO2r7kDuBxpy7iRy8vNGMnjv54NO8/zVDuW2/3b0eham8Jla2PPj607tVB5k8yTYFPOjATLwOLAm9h0Zou23sgr01D+a8lPG/PFxwBbyclQQ9W2vpOw==",
          "dtype": "f4"
         },
         "y": {
          "bdata": "I6EOvXkWcz3aRRA66MhmOyNg1TywnT+9arcuvKvvL7y3UJw5Q+6CPHSSAr2eh5w9R+HqvGXqsj3dUfu7bEQ7O6bA/rolJ0I7v11BPJ37A71PcuU9DZWyPG9egLz/NWE60dWCvD0BBzsc8MA9zWZnuw/ooj1Q0NQ8mBOYvCM4Obwv3Q47F0gJPAbqy7u57Y28aJKiu88fSLyqWey78SYPvLtPBz3yJFm79c3iO03dfLqaxCk5/J/5u3NMAb1wuoK6+tXFulzctLwN2bC8W6wwO2UFZbtbNqA7dqAQvcQMe7uSq+28/umhOJcWDj1YJqK6n1SHu9BGi7wRc+u5VXGouyb4/bp6JpC6uOJRu9JxKrsjeyY8ijBIPM+PD7zcbpc8ID9mvC+oyTqGVXs9Np3GvFepojz0Nre8VABcu7JTtbuq7r44kdeVvAyKlLzT3Qu9qFP2ukQQf7zb4Ze8GUmVPA/gRT2+6P4715RMu+ezgjyUUxa92PKyuOoHkL3x9BO9zbGUuxgjq7zQnk68SD0KOg==",
          "dtype": "f4"
         }
        }
       ],
       "layout": {
        "margin": {
         "b": 40,
         "l": 40,
         "r": 40,
         "t": 40
        },
        "template": {
         "data": {
          "bar": [
           {
            "error_x": {
             "color": "#2a3f5f"
            },
            "error_y": {
             "color": "#2a3f5f"
            },
            "marker": {
             "line": {
              "color": "#E5ECF6",
              "width": 0.5
             },
             "pattern": {
              "fillmode": "overlay",
              "size": 10,
              "solidity": 0.2
             }
            },
            "type": "bar"
           }
          ],
          "barpolar": [
           {
            "marker": {
             "line": {
              "color": "#E5ECF6",
              "width": 0.5
             },
             "pattern": {
              "fillmode": "overlay",
              "size": 10,
              "solidity": 0.2
             }
            },
            "type": "barpolar"
           }
          ],
          "carpet": [
           {
            "aaxis": {
             "endlinecolor": "#2a3f5f",
             "gridcolor": "white",
             "linecolor": "white",
             "minorgridcolor": "white",
             "startlinecolor": "#2a3f5f"
            },
            "baxis": {
             "endlinecolor": "#2a3f5f",
             "gridcolor": "white",
             "linecolor": "white",
             "minorgridcolor": "white",
             "startlinecolor": "#2a3f5f"
            },
            "type": "carpet"
           }
          ],
          "choropleth": [
           {
            "colorbar": {
             "outlinewidth": 0,
             "ticks": ""
            },
            "type": "choropleth"
           }
          ],
          "contour": [
           {
            "colorbar": {
             "outlinewidth": 0,
             "ticks": ""
            },
            "colorscale": [
             [
              0,
              "#0d0887"
             ],
             [
              0.1111111111111111,
              "#46039f"
             ],
             [
              0.2222222222222222,
              "#7201a8"
             ],
             [
              0.3333333333333333,
              "#9c179e"
             ],
             [
              0.4444444444444444,
              "#bd3786"
             ],
             [
              0.5555555555555556,
              "#d8576b"
             ],
             [
              0.6666666666666666,
              "#ed7953"
             ],
             [
              0.7777777777777778,
              "#fb9f3a"
             ],
             [
              0.8888888888888888,
              "#fdca26"
             ],
             [
              1,
              "#f0f921"
             ]
            ],
            "type": "contour"
           }
          ],
          "contourcarpet": [
           {
            "colorbar": {
             "outlinewidth": 0,
             "ticks": ""
            },
            "type": "contourcarpet"
           }
          ],
          "heatmap": [
           {
            "colorbar": {
             "outlinewidth": 0,
             "ticks": ""
            },
            "colorscale": [
             [
              0,
              "#0d0887"
             ],
             [
              0.1111111111111111,
              "#46039f"
             ],
             [
              0.2222222222222222,
              "#7201a8"
             ],
             [
              0.3333333333333333,
              "#9c179e"
             ],
             [
              0.4444444444444444,
              "#bd3786"
             ],
             [
              0.5555555555555556,
              "#d8576b"
             ],
             [
              0.6666666666666666,
              "#ed7953"
             ],
             [
              0.7777777777777778,
              "#fb9f3a"
             ],
             [
              0.8888888888888888,
              "#fdca26"
             ],
             [
              1,
              "#f0f921"
             ]
            ],
            "type": "heatmap"
           }
          ],
          "histogram": [
           {
            "marker": {
             "pattern": {
              "fillmode": "overlay",
              "size": 10,
              "solidity": 0.2
             }
            },
            "type": "histogram"
           }
          ],
          "histogram2d": [
           {
            "colorbar": {
             "outlinewidth": 0,
             "ticks": ""
            },
            "colorscale": [
             [
              0,
              "#0d0887"
             ],
             [
              0.1111111111111111,
              "#46039f"
             ],
             [
              0.2222222222222222,
              "#7201a8"
             ],
             [
              0.3333333333333333,
              "#9c179e"
             ],
             [
              0.4444444444444444,
              "#bd3786"
             ],
             [
              0.5555555555555556,
              "#d8576b"
             ],
             [
              0.6666666666666666,
              "#ed7953"
             ],
             [
              0.7777777777777778,
              "#fb9f3a"
             ],
             [
              0.8888888888888888,
              "#fdca26"
             ],
             [
              1,
              "#f0f921"
             ]
            ],
            "type": "histogram2d"
           }
          ],
          "histogram2dcontour": [
           {
            "colorbar": {
             "outlinewidth": 0,
             "ticks": ""
            },
            "colorscale": [
             [
              0,
              "#0d0887"
             ],
             [
              0.1111111111111111,
              "#46039f"
             ],
             [
              0.2222222222222222,
              "#7201a8"
             ],
             [
              0.3333333333333333,
              "#9c179e"
             ],
             [
              0.4444444444444444,
              "#bd3786"
             ],
             [
              0.5555555555555556,
              "#d8576b"
             ],
             [
              0.6666666666666666,
              "#ed7953"
             ],
             [
              0.7777777777777778,
              "#fb9f3a"
             ],
             [
              0.8888888888888888,
              "#fdca26"
             ],
             [
              1,
              "#f0f921"
             ]
            ],
            "type": "histogram2dcontour"
           }
          ],
          "mesh3d": [
           {
            "colorbar": {
             "outlinewidth": 0,
             "ticks": ""
            },
            "type": "mesh3d"
           }
          ],
          "parcoords": [
           {
            "line": {
             "colorbar": {
              "outlinewidth": 0,
              "ticks": ""
             }
            },
            "type": "parcoords"
           }
          ],
          "pie": [
           {
            "automargin": true,
            "type": "pie"
           }
          ],
          "scatter": [
           {
            "fillpattern": {
             "fillmode": "overlay",
             "size": 10,
             "solidity": 0.2
            },
            "type": "scatter"
           }
          ],
          "scatter3d": [
           {
            "line": {
             "colorbar": {
              "outlinewidth": 0,
              "ticks": ""
             }
            },
            "marker": {
             "colorbar": {
              "outlinewidth": 0,
              "ticks": ""
             }
            },
            "type": "scatter3d"
           }
          ],
          "scattercarpet": [
           {
            "marker": {
             "colorbar": {
              "outlinewidth": 0,
              "ticks": ""
             }
            },
            "type": "scattercarpet"
           }
          ],
          "scattergeo": [
           {
            "marker": {
             "colorbar": {
              "outlinewidth": 0,
              "ticks": ""
             }
            },
            "type": "scattergeo"
           }
          ],
          "scattergl": [
           {
            "marker": {
             "colorbar": {
              "outlinewidth": 0,
              "ticks": ""
             }
            },
            "type": "scattergl"
           }
          ],
          "scattermap": [
           {
            "marker": {
             "colorbar": {
              "outlinewidth": 0,
              "ticks": ""
             }
            },
            "type": "scattermap"
           }
          ],
          "scattermapbox": [
           {
            "marker": {
             "colorbar": {
              "outlinewidth": 0,
              "ticks": ""
             }
            },
            "type": "scattermapbox"
           }
          ],
          "scatterpolar": [
           {
            "marker": {
             "colorbar": {
              "outlinewidth": 0,
              "ticks": ""
             }
            },
            "type": "scatterpolar"
           }
          ],
          "scatterpolargl": [
           {
            "marker": {
             "colorbar": {
              "outlinewidth": 0,
              "ticks": ""
             }
            },
            "type": "scatterpolargl"
           }
          ],
          "scatterternary": [
           {
            "marker": {
             "colorbar": {
              "outlinewidth": 0,
              "ticks": ""
             }
            },
            "type": "scatterternary"
           }
          ],
          "surface": [
           {
            "colorbar": {
             "outlinewidth": 0,
             "ticks": ""
            },
            "colorscale": [
             [
              0,
              "#0d0887"
             ],
             [
              0.1111111111111111,
              "#46039f"
             ],
             [
              0.2222222222222222,
              "#7201a8"
             ],
             [
              0.3333333333333333,
              "#9c179e"
             ],
             [
              0.4444444444444444,
              "#bd3786"
             ],
             [
              0.5555555555555556,
              "#d8576b"
             ],
             [
              0.6666666666666666,
              "#ed7953"
             ],
             [
              0.7777777777777778,
              "#fb9f3a"
             ],
             [
              0.8888888888888888,
              "#fdca26"
             ],
             [
              1,
              "#f0f921"
             ]
            ],
            "type": "surface"
           }
          ],
          "table": [
           {
            "cells": {
             "fill": {
              "color": "#EBF0F8"
             },
             "line": {
              "color": "white"
             }
            },
            "header": {
             "fill": {
              "color": "#C8D4E3"
             },
             "line": {
              "color": "white"
             }
            },
            "type": "table"
           }
          ]
         },
         "layout": {
          "annotationdefaults": {
           "arrowcolor": "#2a3f5f",
           "arrowhead": 0,
           "arrowwidth": 1
          },
          "autotypenumbers": "strict",
          "coloraxis": {
           "colorbar": {
            "outlinewidth": 0,
            "ticks": ""
           }
          },
          "colorscale": {
           "diverging": [
            [
             0,
             "#8e0152"
            ],
            [
             0.1,
             "#c51b7d"
            ],
            [
             0.2,
             "#de77ae"
            ],
            [
             0.3,
             "#f1b6da"
            ],
            [
             0.4,
             "#fde0ef"
            ],
            [
             0.5,
             "#f7f7f7"
            ],
            [
             0.6,
             "#e6f5d0"
            ],
            [
             0.7,
             "#b8e186"
            ],
            [
             0.8,
             "#7fbc41"
            ],
            [
             0.9,
             "#4d9221"
            ],
            [
             1,
             "#276419"
            ]
           ],
           "sequential": [
            [
             0,
             "#0d0887"
            ],
            [
             0.1111111111111111,
             "#46039f"
            ],
            [
             0.2222222222222222,
             "#7201a8"
            ],
            [
             0.3333333333333333,
             "#9c179e"
            ],
            [
             0.4444444444444444,
             "#bd3786"
            ],
            [
             0.5555555555555556,
             "#d8576b"
            ],
            [
             0.6666666666666666,
             "#ed7953"
            ],
            [
             0.7777777777777778,
             "#fb9f3a"
            ],
            [
             0.8888888888888888,
             "#fdca26"
            ],
            [
             1,
             "#f0f921"
            ]
           ],
           "sequentialminus": [
            [
             0,
             "#0d0887"
            ],
            [
             0.1111111111111111,
             "#46039f"
            ],
            [
             0.2222222222222222,
             "#7201a8"
            ],
            [
             0.3333333333333333,
             "#9c179e"
            ],
            [
             0.4444444444444444,
             "#bd3786"
            ],
            [
             0.5555555555555556,
             "#d8576b"
            ],
            [
             0.6666666666666666,
             "#ed7953"
            ],
            [
             0.7777777777777778,
             "#fb9f3a"
            ],
            [
             0.8888888888888888,
             "#fdca26"
            ],
            [
             1,
             "#f0f921"
            ]
           ]
          },
          "colorway": [
           "#636efa",
           "#EF553B",
           "#00cc96",
           "#ab63fa",
           "#FFA15A",
           "#19d3f3",
           "#FF6692",
           "#B6E880",
           "#FF97FF",
           "#FECB52"
          ],
          "font": {
           "color": "#2a3f5f"
          },
          "geo": {
           "bgcolor": "white",
           "lakecolor": "white",
           "landcolor": "#E5ECF6",
           "showlakes": true,
           "showland": true,
           "subunitcolor": "white"
          },
          "hoverlabel": {
           "align": "left"
          },
          "hovermode": "closest",
          "mapbox": {
           "style": "light"
          },
          "paper_bgcolor": "white",
          "plot_bgcolor": "#E5ECF6",
          "polar": {
           "angularaxis": {
            "gridcolor": "white",
            "linecolor": "white",
            "ticks": ""
           },
           "bgcolor": "#E5ECF6",
           "radialaxis": {
            "gridcolor": "white",
            "linecolor": "white",
            "ticks": ""
           }
          },
          "scene": {
           "xaxis": {
            "backgroundcolor": "#E5ECF6",
            "gridcolor": "white",
            "gridwidth": 2,
            "linecolor": "white",
            "showbackground": true,
            "ticks": "",
            "zerolinecolor": "white"
           },
           "yaxis": {
            "backgroundcolor": "#E5ECF6",
            "gridcolor": "white",
            "gridwidth": 2,
            "linecolor": "white",
            "showbackground": true,
            "ticks": "",
            "zerolinecolor": "white"
           },
           "zaxis": {
            "backgroundcolor": "#E5ECF6",
            "gridcolor": "white",
            "gridwidth": 2,
            "linecolor": "white",
            "showbackground": true,
            "ticks": "",
            "zerolinecolor": "white"
           }
          },
          "shapedefaults": {
           "line": {
            "color": "#2a3f5f"
           }
          },
          "ternary": {
           "aaxis": {
            "gridcolor": "white",
            "linecolor": "white",
            "ticks": ""
           },
           "baxis": {
            "gridcolor": "white",
            "linecolor": "white",
            "ticks": ""
           },
           "bgcolor": "#E5ECF6",
           "caxis": {
            "gridcolor": "white",
            "linecolor": "white",
            "ticks": ""
           }
          },
          "title": {
           "x": 0.05
          },
          "xaxis": {
           "automargin": true,
           "gridcolor": "white",
           "linecolor": "white",
           "ticks": "",
           "title": {
            "standoff": 15
           },
           "zerolinecolor": "white",
           "zerolinewidth": 2
          },
          "yaxis": {
           "automargin": true,
           "gridcolor": "white",
           "linecolor": "white",
           "ticks": "",
           "title": {
            "standoff": 15
           },
           "zerolinecolor": "white",
           "zerolinewidth": 2
          }
         }
        },
        "title": {
         "text": "Top 100 Movies in 2D Latent Space (Factors 1 vs. 2)"
        },
        "xaxis": {
         "title": {
          "text": "Latent factor 1"
         }
        },
        "yaxis": {
         "title": {
          "text": "Latent factor 2"
         }
        }
       }
      }
     },
     "metadata": {},
     "output_type": "display_data"
    },
    {
     "data": {
      "application/vnd.plotly.v1+json": {
       "config": {
        "plotlyServerURL": "https://plot.ly"
       },
       "data": [
        {
         "hoverinfo": "text",
         "hovertext": [
          "L.A. Confidential (1997)",
          "Men in Black (1997)",
          "Star Trek: First Contact (1996)",
          "Die Hard (1988)",
          "Twister (1996)",
          "Toy Story (1995)",
          "Aladdin (1992)",
          "Jaws (1975)",
          "Silence of the Lambs, The (1991)",
          "Sting, The (1973)",
          "Murder at 1600 (1997)",
          "Return of the Jedi (1983)",
          "Dead Poets Society (1989)",
          "Scream (1996)",
          "To Kill a Mockingbird (1962)",
          "Mr. Holland's Opus (1995)",
          "Jerry Maguire (1996)",
          "Truth About Cats & Dogs, The (1996)",
          "Birdcage, The (1996)",
          "Sense and Sensibility (1995)",
          "Liar Liar (1997)",
          "Conspiracy Theory (1997)",
          "It's a Wonderful Life (1946)",
          "Wizard of Oz, The (1939)",
          "Raiders of the Lost Ark (1981)",
          "Willy Wonka and the Chocolate Factory (1971)",
          "Terminator, The (1984)",
          "Hunt for Red October, The (1990)",
          "Devil's Own, The (1997)",
          "2001: A Space Odyssey (1968)",
          "Chasing Amy (1997)",
          "Rock, The (1996)",
          "Heat (1995)",
          "Dante's Peak (1997)",
          "Fugitive, The (1993)",
          "Empire Strikes Back, The (1980)",
          "When Harry Met Sally... (1989)",
          "Mission: Impossible (1996)",
          "Casablanca (1942)",
          "Saint, The (1997)",
          "Courage Under Fire (1996)",
          "Groundhog Day (1993)",
          "Star Trek: The Wrath of Khan (1982)",
          "Godfather, The (1972)",
          "Schindler's List (1993)",
          "Speed (1994)",
          "Twelve Monkeys (1995)",
          "Contact (1997)",
          "Pulp Fiction (1994)",
          "Blade Runner (1982)",
          "Fish Called Wanda, A (1988)",
          "Sound of Music, The (1965)",
          "Terminator 2: Judgment Day (1991)",
          "Seven (Se7en) (1995)",
          "Jurassic Park (1993)",
          "Broken Arrow (1996)",
          "Shawshank Redemption, The (1994)",
          "One Flew Over the Cuckoo's Nest (1975)",
          "Back to the Future (1985)",
          "Amadeus (1984)",
          "Alien (1979)",
          "Graduate, The (1967)",
          "Volcano (1997)",
          "Game, The (1997)",
          "English Patient, The (1996)",
          "Usual Suspects, The (1995)",
          "Blues Brothers, The (1980)",
          "Lion King, The (1994)",
          "Aliens (1986)",
          "Dances with Wolves (1990)",
          "Princess Bride, The (1987)",
          "Raising Arizona (1987)",
          "Indiana Jones and the Last Crusade (1989)",
          "Trainspotting (1996)",
          "Star Wars (1977)",
          "Evita (1996)",
          "Psycho (1960)",
          "Ransom (1996)",
          "Monty Python and the Holy Grail (1974)",
          "Babe (1995)",
          "Independence Day (ID4) (1996)",
          "In & Out (1997)",
          "Braveheart (1995)",
          "Fargo (1996)",
          "Four Weddings and a Funeral (1994)",
          "Stand by Me (1986)",
          "Top Gun (1986)",
          "E.T. the Extra-Terrestrial (1982)",
          "Apollo 13 (1995)",
          "Forrest Gump (1994)",
          "Full Monty, The (1997)",
          "Clockwork Orange, A (1971)",
          "Dead Man Walking (1995)",
          "GoodFellas (1990)",
          "Phenomenon (1996)",
          "Apocalypse Now (1979)",
          "Time to Kill, A (1996)",
          "Air Force One (1997)",
          "Leaving Las Vegas (1995)",
          "Titanic (1997)"
         ],
         "marker": {
          "color": "green",
          "opacity": 0.8,
          "size": 6
         },
         "mode": "markers",
         "type": "scatter",
         "x": {
          "bdata": "I6EOvXkWcz3aRRA66MhmOyNg1TywnT+9arcuvKvvL7y3UJw5Q+6CPHSSAr2eh5w9R+HqvGXqsj3dUfu7bEQ7O6bA/rolJ0I7v11BPJ37A71PcuU9DZWyPG9egLz/NWE60dWCvD0BBzsc8MA9zWZnuw/ooj1Q0NQ8mBOYvCM4Obwv3Q47F0gJPAbqy7u57Y28aJKiu88fSLyqWey78SYPvLtPBz3yJFm79c3iO03dfLqaxCk5/J/5u3NMAb1wuoK6+tXFulzctLwN2bC8W6wwO2UFZbtbNqA7dqAQvcQMe7uSq+28/umhOJcWDj1YJqK6n1SHu9BGi7wRc+u5VXGouyb4/bp6JpC6uOJRu9JxKrsjeyY8ijBIPM+PD7zcbpc8ID9mvC+oyTqGVXs9Np3GvFepojz0Nre8VABcu7JTtbuq7r44kdeVvAyKlLzT3Qu9qFP2ukQQf7zb4Ze8GUmVPA/gRT2+6P4715RMu+ezgjyUUxa92PKyuOoHkL3x9BO9zbGUuxgjq7zQnk68SD0KOg==",
          "dtype": "f4"
         },
         "y": {
          "bdata": "IEVZO71STr03wXE8F2ObO7/NfDw7kWY9W3ekvF5aOjy7Diu7g5Flu2e8rDqA8iG77IenPRJLir7ZKDw85ZTyOUhFrDobNtS7FtZLvPklGrwzxe282ewQOvm1ZjzL82S8HNIkPYXdBrzPM5I8fBTBOhlg4r0/y8i9N7SaPGIeJj1hRIc7RsGGPFhKZjuceXE83bruPAg+47qVsqC8IcFWOxKMeTy9pp88Jbr3uvGdOT0u5g67hG6NPON4ZrzeviM8vz2IOwOrrDuA72w8fTT5OxBhGLycLc87Xqy4PGg0uTrKKwm9f5q4OylUFrv5j0y8gskwPMIvRbs6thA8zXj+uzdwITyBFEg6c3cSPAMPZjxdqmU4KvFAus44izy9/bA9SAgdO5R1bztUIMg89A1IvcrLHL1nLh+7o+Dou15va7xFe1k70QaqPA/a4zz1iAW8YWc/O4QmmLzcWp27e/OZOytNgr3Iaos8vN3ZO6NIVrxZnXm8EWmduvF1HLxMgiW9MPkevdY3JjzxDik9oLJ3Ow==",
          "dtype": "f4"
         }
        }
       ],
       "layout": {
        "margin": {
         "b": 40,
         "l": 40,
         "r": 40,
         "t": 40
        },
        "template": {
         "data": {
          "bar": [
           {
            "error_x": {
             "color": "#2a3f5f"
            },
            "error_y": {
             "color": "#2a3f5f"
            },
            "marker": {
             "line": {
              "color": "#E5ECF6",
              "width": 0.5
             },
             "pattern": {
              "fillmode": "overlay",
              "size": 10,
              "solidity": 0.2
             }
            },
            "type": "bar"
           }
          ],
          "barpolar": [
           {
            "marker": {
             "line": {
              "color": "#E5ECF6",
              "width": 0.5
             },
             "pattern": {
              "fillmode": "overlay",
              "size": 10,
              "solidity": 0.2
             }
            },
            "type": "barpolar"
           }
          ],
          "carpet": [
           {
            "aaxis": {
             "endlinecolor": "#2a3f5f",
             "gridcolor": "white",
             "linecolor": "white",
             "minorgridcolor": "white",
             "startlinecolor": "#2a3f5f"
            },
            "baxis": {
             "endlinecolor": "#2a3f5f",
             "gridcolor": "white",
             "linecolor": "white",
             "minorgridcolor": "white",
             "startlinecolor": "#2a3f5f"
            },
            "type": "carpet"
           }
          ],
          "choropleth": [
           {
            "colorbar": {
             "outlinewidth": 0,
             "ticks": ""
            },
            "type": "choropleth"
           }
          ],
          "contour": [
           {
            "colorbar": {
             "outlinewidth": 0,
             "ticks": ""
            },
            "colorscale": [
             [
              0,
              "#0d0887"
             ],
             [
              0.1111111111111111,
              "#46039f"
             ],
             [
              0.2222222222222222,
              "#7201a8"
             ],
             [
              0.3333333333333333,
              "#9c179e"
             ],
             [
              0.4444444444444444,
              "#bd3786"
             ],
             [
              0.5555555555555556,
              "#d8576b"
             ],
             [
              0.6666666666666666,
              "#ed7953"
             ],
             [
              0.7777777777777778,
              "#fb9f3a"
             ],
             [
              0.8888888888888888,
              "#fdca26"
             ],
             [
              1,
              "#f0f921"
             ]
            ],
            "type": "contour"
           }
          ],
          "contourcarpet": [
           {
            "colorbar": {
             "outlinewidth": 0,
             "ticks": ""
            },
            "type": "contourcarpet"
           }
          ],
          "heatmap": [
           {
            "colorbar": {
             "outlinewidth": 0,
             "ticks": ""
            },
            "colorscale": [
             [
              0,
              "#0d0887"
             ],
             [
              0.1111111111111111,
              "#46039f"
             ],
             [
              0.2222222222222222,
              "#7201a8"
             ],
             [
              0.3333333333333333,
              "#9c179e"
             ],
             [
              0.4444444444444444,
              "#bd3786"
             ],
             [
              0.5555555555555556,
              "#d8576b"
             ],
             [
              0.6666666666666666,
              "#ed7953"
             ],
             [
              0.7777777777777778,
              "#fb9f3a"
             ],
             [
              0.8888888888888888,
              "#fdca26"
             ],
             [
              1,
              "#f0f921"
             ]
            ],
            "type": "heatmap"
           }
          ],
          "histogram": [
           {
            "marker": {
             "pattern": {
              "fillmode": "overlay",
              "size": 10,
              "solidity": 0.2
             }
            },
            "type": "histogram"
           }
          ],
          "histogram2d": [
           {
            "colorbar": {
             "outlinewidth": 0,
             "ticks": ""
            },
            "colorscale": [
             [
              0,
              "#0d0887"
             ],
             [
              0.1111111111111111,
              "#46039f"
             ],
             [
              0.2222222222222222,
              "#7201a8"
             ],
             [
              0.3333333333333333,
              "#9c179e"
             ],
             [
              0.4444444444444444,
              "#bd3786"
             ],
             [
              0.5555555555555556,
              "#d8576b"
             ],
             [
              0.6666666666666666,
              "#ed7953"
             ],
             [
              0.7777777777777778,
              "#fb9f3a"
             ],
             [
              0.8888888888888888,
              "#fdca26"
             ],
             [
              1,
              "#f0f921"
             ]
            ],
            "type": "histogram2d"
           }
          ],
          "histogram2dcontour": [
           {
            "colorbar": {
             "outlinewidth": 0,
             "ticks": ""
            },
            "colorscale": [
             [
              0,
              "#0d0887"
             ],
             [
              0.1111111111111111,
              "#46039f"
             ],
             [
              0.2222222222222222,
              "#7201a8"
             ],
             [
              0.3333333333333333,
              "#9c179e"
             ],
             [
              0.4444444444444444,
              "#bd3786"
             ],
             [
              0.5555555555555556,
              "#d8576b"
             ],
             [
              0.6666666666666666,
              "#ed7953"
             ],
             [
              0.7777777777777778,
              "#fb9f3a"
             ],
             [
              0.8888888888888888,
              "#fdca26"
             ],
             [
              1,
              "#f0f921"
             ]
            ],
            "type": "histogram2dcontour"
           }
          ],
          "mesh3d": [
           {
            "colorbar": {
             "outlinewidth": 0,
             "ticks": ""
            },
            "type": "mesh3d"
           }
          ],
          "parcoords": [
           {
            "line": {
             "colorbar": {
              "outlinewidth": 0,
              "ticks": ""
             }
            },
            "type": "parcoords"
           }
          ],
          "pie": [
           {
            "automargin": true,
            "type": "pie"
           }
          ],
          "scatter": [
           {
            "fillpattern": {
             "fillmode": "overlay",
             "size": 10,
             "solidity": 0.2
            },
            "type": "scatter"
           }
          ],
          "scatter3d": [
           {
            "line": {
             "colorbar": {
              "outlinewidth": 0,
              "ticks": ""
             }
            },
            "marker": {
             "colorbar": {
              "outlinewidth": 0,
              "ticks": ""
             }
            },
            "type": "scatter3d"
           }
          ],
          "scattercarpet": [
           {
            "marker": {
             "colorbar": {
              "outlinewidth": 0,
              "ticks": ""
             }
            },
            "type": "scattercarpet"
           }
          ],
          "scattergeo": [
           {
            "marker": {
             "colorbar": {
              "outlinewidth": 0,
              "ticks": ""
             }
            },
            "type": "scattergeo"
           }
          ],
          "scattergl": [
           {
            "marker": {
             "colorbar": {
              "outlinewidth": 0,
              "ticks": ""
             }
            },
            "type": "scattergl"
           }
          ],
          "scattermap": [
           {
            "marker": {
             "colorbar": {
              "outlinewidth": 0,
              "ticks": ""
             }
            },
            "type": "scattermap"
           }
          ],
          "scattermapbox": [
           {
            "marker": {
             "colorbar": {
              "outlinewidth": 0,
              "ticks": ""
             }
            },
            "type": "scattermapbox"
           }
          ],
          "scatterpolar": [
           {
            "marker": {
             "colorbar": {
              "outlinewidth": 0,
              "ticks": ""
             }
            },
            "type": "scatterpolar"
           }
          ],
          "scatterpolargl": [
           {
            "marker": {
             "colorbar": {
              "outlinewidth": 0,
              "ticks": ""
             }
            },
            "type": "scatterpolargl"
           }
          ],
          "scatterternary": [
           {
            "marker": {
             "colorbar": {
              "outlinewidth": 0,
              "ticks": ""
             }
            },
            "type": "scatterternary"
           }
          ],
          "surface": [
           {
            "colorbar": {
             "outlinewidth": 0,
             "ticks": ""
            },
            "colorscale": [
             [
              0,
              "#0d0887"
             ],
             [
              0.1111111111111111,
              "#46039f"
             ],
             [
              0.2222222222222222,
              "#7201a8"
             ],
             [
              0.3333333333333333,
              "#9c179e"
             ],
             [
              0.4444444444444444,
              "#bd3786"
             ],
             [
              0.5555555555555556,
              "#d8576b"
             ],
             [
              0.6666666666666666,
              "#ed7953"
             ],
             [
              0.7777777777777778,
              "#fb9f3a"
             ],
             [
              0.8888888888888888,
              "#fdca26"
             ],
             [
              1,
              "#f0f921"
             ]
            ],
            "type": "surface"
           }
          ],
          "table": [
           {
            "cells": {
             "fill": {
              "color": "#EBF0F8"
             },
             "line": {
              "color": "white"
             }
            },
            "header": {
             "fill": {
              "color": "#C8D4E3"
             },
             "line": {
              "color": "white"
             }
            },
            "type": "table"
           }
          ]
         },
         "layout": {
          "annotationdefaults": {
           "arrowcolor": "#2a3f5f",
           "arrowhead": 0,
           "arrowwidth": 1
          },
          "autotypenumbers": "strict",
          "coloraxis": {
           "colorbar": {
            "outlinewidth": 0,
            "ticks": ""
           }
          },
          "colorscale": {
           "diverging": [
            [
             0,
             "#8e0152"
            ],
            [
             0.1,
             "#c51b7d"
            ],
            [
             0.2,
             "#de77ae"
            ],
            [
             0.3,
             "#f1b6da"
            ],
            [
             0.4,
             "#fde0ef"
            ],
            [
             0.5,
             "#f7f7f7"
            ],
            [
             0.6,
             "#e6f5d0"
            ],
            [
             0.7,
             "#b8e186"
            ],
            [
             0.8,
             "#7fbc41"
            ],
            [
             0.9,
             "#4d9221"
            ],
            [
             1,
             "#276419"
            ]
           ],
           "sequential": [
            [
             0,
             "#0d0887"
            ],
            [
             0.1111111111111111,
             "#46039f"
            ],
            [
             0.2222222222222222,
             "#7201a8"
            ],
            [
             0.3333333333333333,
             "#9c179e"
            ],
            [
             0.4444444444444444,
             "#bd3786"
            ],
            [
             0.5555555555555556,
             "#d8576b"
            ],
            [
             0.6666666666666666,
             "#ed7953"
            ],
            [
             0.7777777777777778,
             "#fb9f3a"
            ],
            [
             0.8888888888888888,
             "#fdca26"
            ],
            [
             1,
             "#f0f921"
            ]
           ],
           "sequentialminus": [
            [
             0,
             "#0d0887"
            ],
            [
             0.1111111111111111,
             "#46039f"
            ],
            [
             0.2222222222222222,
             "#7201a8"
            ],
            [
             0.3333333333333333,
             "#9c179e"
            ],
            [
             0.4444444444444444,
             "#bd3786"
            ],
            [
             0.5555555555555556,
             "#d8576b"
            ],
            [
             0.6666666666666666,
             "#ed7953"
            ],
            [
             0.7777777777777778,
             "#fb9f3a"
            ],
            [
             0.8888888888888888,
             "#fdca26"
            ],
            [
             1,
             "#f0f921"
            ]
           ]
          },
          "colorway": [
           "#636efa",
           "#EF553B",
           "#00cc96",
           "#ab63fa",
           "#FFA15A",
           "#19d3f3",
           "#FF6692",
           "#B6E880",
           "#FF97FF",
           "#FECB52"
          ],
          "font": {
           "color": "#2a3f5f"
          },
          "geo": {
           "bgcolor": "white",
           "lakecolor": "white",
           "landcolor": "#E5ECF6",
           "showlakes": true,
           "showland": true,
           "subunitcolor": "white"
          },
          "hoverlabel": {
           "align": "left"
          },
          "hovermode": "closest",
          "mapbox": {
           "style": "light"
          },
          "paper_bgcolor": "white",
          "plot_bgcolor": "#E5ECF6",
          "polar": {
           "angularaxis": {
            "gridcolor": "white",
            "linecolor": "white",
            "ticks": ""
           },
           "bgcolor": "#E5ECF6",
           "radialaxis": {
            "gridcolor": "white",
            "linecolor": "white",
            "ticks": ""
           }
          },
          "scene": {
           "xaxis": {
            "backgroundcolor": "#E5ECF6",
            "gridcolor": "white",
            "gridwidth": 2,
            "linecolor": "white",
            "showbackground": true,
            "ticks": "",
            "zerolinecolor": "white"
           },
           "yaxis": {
            "backgroundcolor": "#E5ECF6",
            "gridcolor": "white",
            "gridwidth": 2,
            "linecolor": "white",
            "showbackground": true,
            "ticks": "",
            "zerolinecolor": "white"
           },
           "zaxis": {
            "backgroundcolor": "#E5ECF6",
            "gridcolor": "white",
            "gridwidth": 2,
            "linecolor": "white",
            "showbackground": true,
            "ticks": "",
            "zerolinecolor": "white"
           }
          },
          "shapedefaults": {
           "line": {
            "color": "#2a3f5f"
           }
          },
          "ternary": {
           "aaxis": {
            "gridcolor": "white",
            "linecolor": "white",
            "ticks": ""
           },
           "baxis": {
            "gridcolor": "white",
            "linecolor": "white",
            "ticks": ""
           },
           "bgcolor": "#E5ECF6",
           "caxis": {
            "gridcolor": "white",
            "linecolor": "white",
            "ticks": ""
           }
          },
          "title": {
           "x": 0.05
          },
          "xaxis": {
           "automargin": true,
           "gridcolor": "white",
           "linecolor": "white",
           "ticks": "",
           "title": {
            "standoff": 15
           },
           "zerolinecolor": "white",
           "zerolinewidth": 2
          },
          "yaxis": {
           "automargin": true,
           "gridcolor": "white",
           "linecolor": "white",
           "ticks": "",
           "title": {
            "standoff": 15
           },
           "zerolinecolor": "white",
           "zerolinewidth": 2
          }
         }
        },
        "title": {
         "text": "Top 100 Movies in 2D Latent Space (Factors 2 vs. 3)"
        },
        "xaxis": {
         "title": {
          "text": "Latent factor 2"
         }
        },
        "yaxis": {
         "title": {
          "text": "Latent factor 3"
         }
        }
       }
      }
     },
     "metadata": {},
     "output_type": "display_data"
    },
    {
     "data": {
      "application/vnd.plotly.v1+json": {
       "config": {
        "plotlyServerURL": "https://plot.ly"
       },
       "data": [
        {
         "hoverinfo": "text",
         "hovertext": [
          "L.A. Confidential (1997)",
          "Men in Black (1997)",
          "Star Trek: First Contact (1996)",
          "Die Hard (1988)",
          "Twister (1996)",
          "Toy Story (1995)",
          "Aladdin (1992)",
          "Jaws (1975)",
          "Silence of the Lambs, The (1991)",
          "Sting, The (1973)",
          "Murder at 1600 (1997)",
          "Return of the Jedi (1983)",
          "Dead Poets Society (1989)",
          "Scream (1996)",
          "To Kill a Mockingbird (1962)",
          "Mr. Holland's Opus (1995)",
          "Jerry Maguire (1996)",
          "Truth About Cats & Dogs, The (1996)",
          "Birdcage, The (1996)",
          "Sense and Sensibility (1995)",
          "Liar Liar (1997)",
          "Conspiracy Theory (1997)",
          "It's a Wonderful Life (1946)",
          "Wizard of Oz, The (1939)",
          "Raiders of the Lost Ark (1981)",
          "Willy Wonka and the Chocolate Factory (1971)",
          "Terminator, The (1984)",
          "Hunt for Red October, The (1990)",
          "Devil's Own, The (1997)",
          "2001: A Space Odyssey (1968)",
          "Chasing Amy (1997)",
          "Rock, The (1996)",
          "Heat (1995)",
          "Dante's Peak (1997)",
          "Fugitive, The (1993)",
          "Empire Strikes Back, The (1980)",
          "When Harry Met Sally... (1989)",
          "Mission: Impossible (1996)",
          "Casablanca (1942)",
          "Saint, The (1997)",
          "Courage Under Fire (1996)",
          "Groundhog Day (1993)",
          "Star Trek: The Wrath of Khan (1982)",
          "Godfather, The (1972)",
          "Schindler's List (1993)",
          "Speed (1994)",
          "Twelve Monkeys (1995)",
          "Contact (1997)",
          "Pulp Fiction (1994)",
          "Blade Runner (1982)",
          "Fish Called Wanda, A (1988)",
          "Sound of Music, The (1965)",
          "Terminator 2: Judgment Day (1991)",
          "Seven (Se7en) (1995)",
          "Jurassic Park (1993)",
          "Broken Arrow (1996)",
          "Shawshank Redemption, The (1994)",
          "One Flew Over the Cuckoo's Nest (1975)",
          "Back to the Future (1985)",
          "Amadeus (1984)",
          "Alien (1979)",
          "Graduate, The (1967)",
          "Volcano (1997)",
          "Game, The (1997)",
          "English Patient, The (1996)",
          "Usual Suspects, The (1995)",
          "Blues Brothers, The (1980)",
          "Lion King, The (1994)",
          "Aliens (1986)",
          "Dances with Wolves (1990)",
          "Princess Bride, The (1987)",
          "Raising Arizona (1987)",
          "Indiana Jones and the Last Crusade (1989)",
          "Trainspotting (1996)",
          "Star Wars (1977)",
          "Evita (1996)",
          "Psycho (1960)",
          "Ransom (1996)",
          "Monty Python and the Holy Grail (1974)",
          "Babe (1995)",
          "Independence Day (ID4) (1996)",
          "In & Out (1997)",
          "Braveheart (1995)",
          "Fargo (1996)",
          "Four Weddings and a Funeral (1994)",
          "Stand by Me (1986)",
          "Top Gun (1986)",
          "E.T. the Extra-Terrestrial (1982)",
          "Apollo 13 (1995)",
          "Forrest Gump (1994)",
          "Full Monty, The (1997)",
          "Clockwork Orange, A (1971)",
          "Dead Man Walking (1995)",
          "GoodFellas (1990)",
          "Phenomenon (1996)",
          "Apocalypse Now (1979)",
          "Time to Kill, A (1996)",
          "Air Force One (1997)",
          "Leaving Las Vegas (1995)",
          "Titanic (1997)"
         ],
         "marker": {
          "color": "red",
          "opacity": 0.8,
          "size": 6
         },
         "mode": "markers",
         "type": "scatter",
         "x": {
          "bdata": "UjYWvO7OjzwgIGO96iQ1Pe5Adj30tGm9PnKpvObE4bqM4Lg7khwSPMJBrDpo9Do8TbdOPfaVBb2QUYE8VTlIOux7a71vmho7VjS7PE7mUrzzBsI9FUzluvoPijxLg428OITgPDqVtrylQAA+hg8APInco7sCEme861IsvXQXPD2mBsq7hRE7PB8GMrt2Ybs8rdVrPGVkN7u4una89OAQuxJLdDyTVGu6mmUAO4zNEj25iCq7LqBSO9Spx7wq8R08TbP6ua6rf7r8S4a89MHFO45GsrtkWFQ7pLaPu1zyALr8cAq9JooCPAC5srx6/OU8yBw+Oy9XCbsB2ss7c0rROwWzkDtL3yE8oNWiO/nCLTvK+5A7GPYoPBnC77tgr389swD0OpsXrDrC9Hw9q25Pvf0gFb0YT728xA4tO2r7kDuBxpy7iRy8vNGMnjv54NO8/zVDuW2/3b0eham8Jla2PPj607tVB5k8yTYFPOjATLwOLAm9h0Zou23sgr01D+a8lPG/PFxwBbyclQQ9W2vpOw==",
          "dtype": "f4"
         },
         "y": {
          "bdata": "IEVZO71STr03wXE8F2ObO7/NfDw7kWY9W3ekvF5aOjy7Diu7g5Flu2e8rDqA8iG77IenPRJLir7ZKDw85ZTyOUhFrDobNtS7FtZLvPklGrwzxe282ewQOvm1ZjzL82S8HNIkPYXdBrzPM5I8fBTBOhlg4r0/y8i9N7SaPGIeJj1hRIc7RsGGPFhKZjuceXE83bruPAg+47qVsqC8IcFWOxKMeTy9pp88Jbr3uvGdOT0u5g67hG6NPON4ZrzeviM8vz2IOwOrrDuA72w8fTT5OxBhGLycLc87Xqy4PGg0uTrKKwm9f5q4OylUFrv5j0y8gskwPMIvRbs6thA8zXj+uzdwITyBFEg6c3cSPAMPZjxdqmU4KvFAus44izy9/bA9SAgdO5R1bztUIMg89A1IvcrLHL1nLh+7o+Dou15va7xFe1k70QaqPA/a4zz1iAW8YWc/O4QmmLzcWp27e/OZOytNgr3Iaos8vN3ZO6NIVrxZnXm8EWmduvF1HLxMgiW9MPkevdY3JjzxDik9oLJ3Ow==",
          "dtype": "f4"
         }
        }
       ],
       "layout": {
        "margin": {
         "b": 40,
         "l": 40,
         "r": 40,
         "t": 40
        },
        "template": {
         "data": {
          "bar": [
           {
            "error_x": {
             "color": "#2a3f5f"
            },
            "error_y": {
             "color": "#2a3f5f"
            },
            "marker": {
             "line": {
              "color": "#E5ECF6",
              "width": 0.5
             },
             "pattern": {
              "fillmode": "overlay",
              "size": 10,
              "solidity": 0.2
             }
            },
            "type": "bar"
           }
          ],
          "barpolar": [
           {
            "marker": {
             "line": {
              "color": "#E5ECF6",
              "width": 0.5
             },
             "pattern": {
              "fillmode": "overlay",
              "size": 10,
              "solidity": 0.2
             }
            },
            "type": "barpolar"
           }
          ],
          "carpet": [
           {
            "aaxis": {
             "endlinecolor": "#2a3f5f",
             "gridcolor": "white",
             "linecolor": "white",
             "minorgridcolor": "white",
             "startlinecolor": "#2a3f5f"
            },
            "baxis": {
             "endlinecolor": "#2a3f5f",
             "gridcolor": "white",
             "linecolor": "white",
             "minorgridcolor": "white",
             "startlinecolor": "#2a3f5f"
            },
            "type": "carpet"
           }
          ],
          "choropleth": [
           {
            "colorbar": {
             "outlinewidth": 0,
             "ticks": ""
            },
            "type": "choropleth"
           }
          ],
          "contour": [
           {
            "colorbar": {
             "outlinewidth": 0,
             "ticks": ""
            },
            "colorscale": [
             [
              0,
              "#0d0887"
             ],
             [
              0.1111111111111111,
              "#46039f"
             ],
             [
              0.2222222222222222,
              "#7201a8"
             ],
             [
              0.3333333333333333,
              "#9c179e"
             ],
             [
              0.4444444444444444,
              "#bd3786"
             ],
             [
              0.5555555555555556,
              "#d8576b"
             ],
             [
              0.6666666666666666,
              "#ed7953"
             ],
             [
              0.7777777777777778,
              "#fb9f3a"
             ],
             [
              0.8888888888888888,
              "#fdca26"
             ],
             [
              1,
              "#f0f921"
             ]
            ],
            "type": "contour"
           }
          ],
          "contourcarpet": [
           {
            "colorbar": {
             "outlinewidth": 0,
             "ticks": ""
            },
            "type": "contourcarpet"
           }
          ],
          "heatmap": [
           {
            "colorbar": {
             "outlinewidth": 0,
             "ticks": ""
            },
            "colorscale": [
             [
              0,
              "#0d0887"
             ],
             [
              0.1111111111111111,
              "#46039f"
             ],
             [
              0.2222222222222222,
              "#7201a8"
             ],
             [
              0.3333333333333333,
              "#9c179e"
             ],
             [
              0.4444444444444444,
              "#bd3786"
             ],
             [
              0.5555555555555556,
              "#d8576b"
             ],
             [
              0.6666666666666666,
              "#ed7953"
             ],
             [
              0.7777777777777778,
              "#fb9f3a"
             ],
             [
              0.8888888888888888,
              "#fdca26"
             ],
             [
              1,
              "#f0f921"
             ]
            ],
            "type": "heatmap"
           }
          ],
          "histogram": [
           {
            "marker": {
             "pattern": {
              "fillmode": "overlay",
              "size": 10,
              "solidity": 0.2
             }
            },
            "type": "histogram"
           }
          ],
          "histogram2d": [
           {
            "colorbar": {
             "outlinewidth": 0,
             "ticks": ""
            },
            "colorscale": [
             [
              0,
              "#0d0887"
             ],
             [
              0.1111111111111111,
              "#46039f"
             ],
             [
              0.2222222222222222,
              "#7201a8"
             ],
             [
              0.3333333333333333,
              "#9c179e"
             ],
             [
              0.4444444444444444,
              "#bd3786"
             ],
             [
              0.5555555555555556,
              "#d8576b"
             ],
             [
              0.6666666666666666,
              "#ed7953"
             ],
             [
              0.7777777777777778,
              "#fb9f3a"
             ],
             [
              0.8888888888888888,
              "#fdca26"
             ],
             [
              1,
              "#f0f921"
             ]
            ],
            "type": "histogram2d"
           }
          ],
          "histogram2dcontour": [
           {
            "colorbar": {
             "outlinewidth": 0,
             "ticks": ""
            },
            "colorscale": [
             [
              0,
              "#0d0887"
             ],
             [
              0.1111111111111111,
              "#46039f"
             ],
             [
              0.2222222222222222,
              "#7201a8"
             ],
             [
              0.3333333333333333,
              "#9c179e"
             ],
             [
              0.4444444444444444,
              "#bd3786"
             ],
             [
              0.5555555555555556,
              "#d8576b"
             ],
             [
              0.6666666666666666,
              "#ed7953"
             ],
             [
              0.7777777777777778,
              "#fb9f3a"
             ],
             [
              0.8888888888888888,
              "#fdca26"
             ],
             [
              1,
              "#f0f921"
             ]
            ],
            "type": "histogram2dcontour"
           }
          ],
          "mesh3d": [
           {
            "colorbar": {
             "outlinewidth": 0,
             "ticks": ""
            },
            "type": "mesh3d"
           }
          ],
          "parcoords": [
           {
            "line": {
             "colorbar": {
              "outlinewidth": 0,
              "ticks": ""
             }
            },
            "type": "parcoords"
           }
          ],
          "pie": [
           {
            "automargin": true,
            "type": "pie"
           }
          ],
          "scatter": [
           {
            "fillpattern": {
             "fillmode": "overlay",
             "size": 10,
             "solidity": 0.2
            },
            "type": "scatter"
           }
          ],
          "scatter3d": [
           {
            "line": {
             "colorbar": {
              "outlinewidth": 0,
              "ticks": ""
             }
            },
            "marker": {
             "colorbar": {
              "outlinewidth": 0,
              "ticks": ""
             }
            },
            "type": "scatter3d"
           }
          ],
          "scattercarpet": [
           {
            "marker": {
             "colorbar": {
              "outlinewidth": 0,
              "ticks": ""
             }
            },
            "type": "scattercarpet"
           }
          ],
          "scattergeo": [
           {
            "marker": {
             "colorbar": {
              "outlinewidth": 0,
              "ticks": ""
             }
            },
            "type": "scattergeo"
           }
          ],
          "scattergl": [
           {
            "marker": {
             "colorbar": {
              "outlinewidth": 0,
              "ticks": ""
             }
            },
            "type": "scattergl"
           }
          ],
          "scattermap": [
           {
            "marker": {
             "colorbar": {
              "outlinewidth": 0,
              "ticks": ""
             }
            },
            "type": "scattermap"
           }
          ],
          "scattermapbox": [
           {
            "marker": {
             "colorbar": {
              "outlinewidth": 0,
              "ticks": ""
             }
            },
            "type": "scattermapbox"
           }
          ],
          "scatterpolar": [
           {
            "marker": {
             "colorbar": {
              "outlinewidth": 0,
              "ticks": ""
             }
            },
            "type": "scatterpolar"
           }
          ],
          "scatterpolargl": [
           {
            "marker": {
             "colorbar": {
              "outlinewidth": 0,
              "ticks": ""
             }
            },
            "type": "scatterpolargl"
           }
          ],
          "scatterternary": [
           {
            "marker": {
             "colorbar": {
              "outlinewidth": 0,
              "ticks": ""
             }
            },
            "type": "scatterternary"
           }
          ],
          "surface": [
           {
            "colorbar": {
             "outlinewidth": 0,
             "ticks": ""
            },
            "colorscale": [
             [
              0,
              "#0d0887"
             ],
             [
              0.1111111111111111,
              "#46039f"
             ],
             [
              0.2222222222222222,
              "#7201a8"
             ],
             [
              0.3333333333333333,
              "#9c179e"
             ],
             [
              0.4444444444444444,
              "#bd3786"
             ],
             [
              0.5555555555555556,
              "#d8576b"
             ],
             [
              0.6666666666666666,
              "#ed7953"
             ],
             [
              0.7777777777777778,
              "#fb9f3a"
             ],
             [
              0.8888888888888888,
              "#fdca26"
             ],
             [
              1,
              "#f0f921"
             ]
            ],
            "type": "surface"
           }
          ],
          "table": [
           {
            "cells": {
             "fill": {
              "color": "#EBF0F8"
             },
             "line": {
              "color": "white"
             }
            },
            "header": {
             "fill": {
              "color": "#C8D4E3"
             },
             "line": {
              "color": "white"
             }
            },
            "type": "table"
           }
          ]
         },
         "layout": {
          "annotationdefaults": {
           "arrowcolor": "#2a3f5f",
           "arrowhead": 0,
           "arrowwidth": 1
          },
          "autotypenumbers": "strict",
          "coloraxis": {
           "colorbar": {
            "outlinewidth": 0,
            "ticks": ""
           }
          },
          "colorscale": {
           "diverging": [
            [
             0,
             "#8e0152"
            ],
            [
             0.1,
             "#c51b7d"
            ],
            [
             0.2,
             "#de77ae"
            ],
            [
             0.3,
             "#f1b6da"
            ],
            [
             0.4,
             "#fde0ef"
            ],
            [
             0.5,
             "#f7f7f7"
            ],
            [
             0.6,
             "#e6f5d0"
            ],
            [
             0.7,
             "#b8e186"
            ],
            [
             0.8,
             "#7fbc41"
            ],
            [
             0.9,
             "#4d9221"
            ],
            [
             1,
             "#276419"
            ]
           ],
           "sequential": [
            [
             0,
             "#0d0887"
            ],
            [
             0.1111111111111111,
             "#46039f"
            ],
            [
             0.2222222222222222,
             "#7201a8"
            ],
            [
             0.3333333333333333,
             "#9c179e"
            ],
            [
             0.4444444444444444,
             "#bd3786"
            ],
            [
             0.5555555555555556,
             "#d8576b"
            ],
            [
             0.6666666666666666,
             "#ed7953"
            ],
            [
             0.7777777777777778,
             "#fb9f3a"
            ],
            [
             0.8888888888888888,
             "#fdca26"
            ],
            [
             1,
             "#f0f921"
            ]
           ],
           "sequentialminus": [
            [
             0,
             "#0d0887"
            ],
            [
             0.1111111111111111,
             "#46039f"
            ],
            [
             0.2222222222222222,
             "#7201a8"
            ],
            [
             0.3333333333333333,
             "#9c179e"
            ],
            [
             0.4444444444444444,
             "#bd3786"
            ],
            [
             0.5555555555555556,
             "#d8576b"
            ],
            [
             0.6666666666666666,
             "#ed7953"
            ],
            [
             0.7777777777777778,
             "#fb9f3a"
            ],
            [
             0.8888888888888888,
             "#fdca26"
            ],
            [
             1,
             "#f0f921"
            ]
           ]
          },
          "colorway": [
           "#636efa",
           "#EF553B",
           "#00cc96",
           "#ab63fa",
           "#FFA15A",
           "#19d3f3",
           "#FF6692",
           "#B6E880",
           "#FF97FF",
           "#FECB52"
          ],
          "font": {
           "color": "#2a3f5f"
          },
          "geo": {
           "bgcolor": "white",
           "lakecolor": "white",
           "landcolor": "#E5ECF6",
           "showlakes": true,
           "showland": true,
           "subunitcolor": "white"
          },
          "hoverlabel": {
           "align": "left"
          },
          "hovermode": "closest",
          "mapbox": {
           "style": "light"
          },
          "paper_bgcolor": "white",
          "plot_bgcolor": "#E5ECF6",
          "polar": {
           "angularaxis": {
            "gridcolor": "white",
            "linecolor": "white",
            "ticks": ""
           },
           "bgcolor": "#E5ECF6",
           "radialaxis": {
            "gridcolor": "white",
            "linecolor": "white",
            "ticks": ""
           }
          },
          "scene": {
           "xaxis": {
            "backgroundcolor": "#E5ECF6",
            "gridcolor": "white",
            "gridwidth": 2,
            "linecolor": "white",
            "showbackground": true,
            "ticks": "",
            "zerolinecolor": "white"
           },
           "yaxis": {
            "backgroundcolor": "#E5ECF6",
            "gridcolor": "white",
            "gridwidth": 2,
            "linecolor": "white",
            "showbackground": true,
            "ticks": "",
            "zerolinecolor": "white"
           },
           "zaxis": {
            "backgroundcolor": "#E5ECF6",
            "gridcolor": "white",
            "gridwidth": 2,
            "linecolor": "white",
            "showbackground": true,
            "ticks": "",
            "zerolinecolor": "white"
           }
          },
          "shapedefaults": {
           "line": {
            "color": "#2a3f5f"
           }
          },
          "ternary": {
           "aaxis": {
            "gridcolor": "white",
            "linecolor": "white",
            "ticks": ""
           },
           "baxis": {
            "gridcolor": "white",
            "linecolor": "white",
            "ticks": ""
           },
           "bgcolor": "#E5ECF6",
           "caxis": {
            "gridcolor": "white",
            "linecolor": "white",
            "ticks": ""
           }
          },
          "title": {
           "x": 0.05
          },
          "xaxis": {
           "automargin": true,
           "gridcolor": "white",
           "linecolor": "white",
           "ticks": "",
           "title": {
            "standoff": 15
           },
           "zerolinecolor": "white",
           "zerolinewidth": 2
          },
          "yaxis": {
           "automargin": true,
           "gridcolor": "white",
           "linecolor": "white",
           "ticks": "",
           "title": {
            "standoff": 15
           },
           "zerolinecolor": "white",
           "zerolinewidth": 2
          }
         }
        },
        "title": {
         "text": "Top 100 Movies in 2D Latent Space (Factors 1 vs. 3)"
        },
        "xaxis": {
         "title": {
          "text": "Latent factor 1"
         }
        },
        "yaxis": {
         "title": {
          "text": "Latent factor 3"
         }
        }
       }
      }
     },
     "metadata": {},
     "output_type": "display_data"
    }
   ],
   "source": [
    "import numpy as np\n",
    "import pandas as pd\n",
    "import plotly.graph_objects as go\n",
    "\n",
    "# --------------------------------------------------------------------------\n",
    "# Preconditions (already in your namespace):\n",
    "#   Q_factors     : (n_items × k) numpy array  – latent coords of movies\n",
    "#   S             : length-k numpy array        – singular values\n",
    "#   item_uniques  : sequence of item_id in training order\n",
    "#   df            : original ratings DataFrame with at least 'item_id' and 'title'\n",
    "# --------------------------------------------------------------------------\n",
    "\n",
    "# --- 1. pick the top-3 latent factors by singular value energy -------------\n",
    "top3_idx = np.argsort(-S)[:3]\n",
    "f1, f2, f3 = top3_idx\n",
    "print(f\"Using latent factors {f1}, {f2}, {f3} (the three largest singular values).\")\n",
    "\n",
    "# --- 2. map item_id → title (deduplicated) ----------------------------------\n",
    "id_to_title = (\n",
    "    df[['item_id', 'title']]\n",
    "      .drop_duplicates('item_id')\n",
    "      .set_index('item_id')['title']\n",
    "      .to_dict()\n",
    ")\n",
    "titles_all = [id_to_title.get(iid, str(iid)) for iid in item_uniques]\n",
    "\n",
    "# --- 3. select a subset of movies for better visualization ------------------\n",
    "#    Here: take the 100 most-rated movies (by count of ratings in df).\n",
    "rating_counts = df['item_id'].value_counts()\n",
    "top_n = 100\n",
    "top_items = set(rating_counts.index[:top_n])\n",
    "\n",
    "subset_mask = np.array([iid in top_items for iid in item_uniques])\n",
    "subset_indices = np.where(subset_mask)[0]\n",
    "\n",
    "# Extract latent coordinates and titles for the subset\n",
    "xs3 = Q_factors[subset_indices, f1]\n",
    "ys3 = Q_factors[subset_indices, f2]\n",
    "zs3 = Q_factors[subset_indices, f3]\n",
    "titles_subset = [titles_all[i] for i in subset_indices]\n",
    "\n",
    "# --- 4. Plot #1: 3D scatter of top 3 latent factors --------------------------\n",
    "fig3d = go.Figure(\n",
    "    data=[\n",
    "        go.Scatter3d(\n",
    "            x=xs3,\n",
    "            y=ys3,\n",
    "            z=zs3,\n",
    "            mode='markers',\n",
    "            marker=dict(size=4, opacity=0.8, color='blue'),\n",
    "            hovertext=titles_subset,\n",
    "            hoverinfo='text'\n",
    "        )\n",
    "    ]\n",
    ")\n",
    "fig3d.update_layout(\n",
    "    scene=dict(\n",
    "        xaxis=dict(title=f\"Latent factor {f1+1}\"),\n",
    "        yaxis=dict(title=f\"Latent factor {f2+1}\"),\n",
    "        zaxis=dict(title=f\"Latent factor {f3+1}\")\n",
    "    ),\n",
    "    title=f\"Top {top_n} Movies in 3D Latent Space (Factors {f1+1}, {f2+1}, {f3+1})\",\n",
    "    margin=dict(l=0, r=0, b=0, t=40)\n",
    ")\n",
    "fig3d.show()\n",
    "\n",
    "\n",
    "# --- 5. Plot #2: 2D (factor f1 vs. f2) ----------------------------------------\n",
    "x12 = Q_factors[subset_indices, f1]\n",
    "y12 = Q_factors[subset_indices, f2]\n",
    "\n",
    "fig12 = go.Figure(\n",
    "    data=[\n",
    "        go.Scatter(\n",
    "            x=x12,\n",
    "            y=y12,\n",
    "            mode='markers',\n",
    "            marker=dict(size=6, opacity=0.8, color='blue'),\n",
    "            hovertext=titles_subset,\n",
    "            hoverinfo='text'\n",
    "        )\n",
    "    ]\n",
    ")\n",
    "fig12.update_layout(\n",
    "    xaxis=dict(title=f\"Latent factor {f1+1}\"),\n",
    "    yaxis=dict(title=f\"Latent factor {f2+1}\"),\n",
    "    title=f\"Top {top_n} Movies in 2D Latent Space (Factors {f1+1} vs. {f2+1})\",\n",
    "    margin=dict(l=40, r=40, b=40, t=40)\n",
    ")\n",
    "fig12.show()\n",
    "\n",
    "\n",
    "# --- 6. Plot #3: 2D (factor f2 vs. f3) ----------------------------------------\n",
    "x23 = Q_factors[subset_indices, f2]\n",
    "y23 = Q_factors[subset_indices, f3]\n",
    "\n",
    "fig23 = go.Figure(\n",
    "    data=[\n",
    "        go.Scatter(\n",
    "            x=x23,\n",
    "            y=y23,\n",
    "            mode='markers',\n",
    "            marker=dict(size=6, opacity=0.8, color='green'),\n",
    "            hovertext=titles_subset,\n",
    "            hoverinfo='text'\n",
    "        )\n",
    "    ]\n",
    ")\n",
    "fig23.update_layout(\n",
    "    xaxis=dict(title=f\"Latent factor {f2+1}\"),\n",
    "    yaxis=dict(title=f\"Latent factor {f3+1}\"),\n",
    "    title=f\"Top {top_n} Movies in 2D Latent Space (Factors {f2+1} vs. {f3+1})\",\n",
    "    margin=dict(l=40, r=40, b=40, t=40)\n",
    ")\n",
    "fig23.show()\n",
    "\n",
    "\n",
    "# --- 7. Plot #4: 2D (factor f1 vs. f3) ----------------------------------------\n",
    "x13 = Q_factors[subset_indices, f1]\n",
    "y13 = Q_factors[subset_indices, f3]\n",
    "\n",
    "fig13 = go.Figure(\n",
    "    data=[\n",
    "        go.Scatter(\n",
    "            x=x13,\n",
    "            y=y13,\n",
    "            mode='markers',\n",
    "            marker=dict(size=6, opacity=0.8, color='red'),\n",
    "            hovertext=titles_subset,\n",
    "            hoverinfo='text'\n",
    "        )\n",
    "    ]\n",
    ")\n",
    "fig13.update_layout(\n",
    "    xaxis=dict(title=f\"Latent factor {f1+1}\"),\n",
    "    yaxis=dict(title=f\"Latent factor {f3+1}\"),\n",
    "    title=f\"Top {top_n} Movies in 2D Latent Space (Factors {f1+1} vs. {f3+1})\",\n",
    "    margin=dict(l=40, r=40, b=40, t=40)\n",
    ")\n",
    "fig13.show()\n"
   ]
  },
  {
   "cell_type": "markdown",
   "id": "4cff8ba6",
   "metadata": {},
   "source": [
    "### Approach 6 - Bias + Iterative SVD-Impute\n",
    "* Final formula after convergence:\n",
    "   r̂_ui = μ + b_u + b_i           (baseline)\n",
    "           + residual learned by   rank-k hard-impute"
   ]
  },
  {
   "cell_type": "code",
   "execution_count": null,
   "id": "5df41144",
   "metadata": {},
   "outputs": [
    {
     "name": "stdout",
     "output_type": "stream",
     "text": [
      "Iter 1: rel_change = 2.0798e-02\n",
      "Iter 2: rel_change = 1.4298e-02\n",
      "Iter 3: rel_change = 1.1407e-02\n",
      "Iter 4: rel_change = 9.6533e-03\n",
      "Iter 5: rel_change = 8.4442e-03\n",
      "Baseline-only           | RMSE = 0.9708\n",
      "Bias + Iterative SVD    | RMSE = 0.9567\n"
     ]
    }
   ],
   "source": [
    "# ---------- 1. baselines ---------------------------------------------------\n",
    "mu = train_df['rating'].mean()\n",
    "\n",
    "user_mean = train_df.groupby('user_id')['rating'].mean()\n",
    "b_u = (user_mean - mu).reindex(user_uniques).fillna(0.0).to_numpy()\n",
    "\n",
    "item_mean = train_df.groupby('item_id')['rating'].mean()\n",
    "b_i = (item_mean - mu).reindex(item_uniques).fillna(0.0).to_numpy()\n",
    "\n",
    "# ---------- 2. initial dense matrix X -------------------------------------\n",
    "m, n = train_matrix.shape\n",
    "baseline_full = mu + b_u[:, None] + b_i[None, :]   # shape (m, n)\n",
    "\n",
    "X = baseline_full.astype(np.float32).copy()\n",
    "\n",
    "# insert the observed ratings back (they override the baseline)\n",
    "coo = train_matrix.tocoo()\n",
    "X[coo.row, coo.col] = coo.data\n",
    "\n",
    "mask_obs = np.zeros_like(X, dtype=bool)\n",
    "mask_obs[coo.row, coo.col] = True\n",
    "\n",
    "# ---------- 3. iterative hard-impute --------------------------------------\n",
    "k        = 30        # latent dimension\n",
    "n_iters  = 5\n",
    "eps      = 1e-3\n",
    "\n",
    "for t in range(n_iters):\n",
    "    # rank-k SVD\n",
    "    U, S, Vt = svd(X, full_matrices=False)\n",
    "    U, S, Vt = U[:, :k], S[:k], Vt[:k, :]\n",
    "    P = U @ np.diag(S) @ Vt               # low-rank approximation\n",
    "\n",
    "    # relative change on missing cells\n",
    "    delta = np.linalg.norm((~mask_obs) * (P - X)) / np.linalg.norm((~mask_obs) * X)\n",
    "    print(f\"Iter {t+1}: rel_change = {delta:.4e}\")\n",
    "\n",
    "    # update only the missing entries\n",
    "    X[~mask_obs] = P[~mask_obs]\n",
    "\n",
    "    if delta < eps:\n",
    "        break\n",
    "\n",
    "# ---------- 4. predictions & evaluation -----------------------------------\n",
    "pred_bias      = mu + b_u[test_rows] + b_i[test_cols]          # baseline only\n",
    "pred_bias_svd  = np.clip(X, 1, 5)[test_rows, test_cols]        # bias + latent\n",
    "\n",
    "rmse_baseline  = np.sqrt(np.mean((pred_bias      - test_ratings) ** 2))\n",
    "rmse_bias_svd  = np.sqrt(np.mean((pred_bias_svd  - test_ratings) ** 2))\n",
    "\n",
    "print(f\"Baseline-only           | RMSE = {rmse_baseline:.4f}\")\n",
    "print(f\"Bias + Iterative SVD    | RMSE = {rmse_bias_svd :.4f}\")\n"
   ]
  },
  {
   "cell_type": "markdown",
   "id": "f4a1e3de",
   "metadata": {},
   "source": [
    "### RMSE VS K plot"
   ]
  },
  {
   "cell_type": "code",
   "execution_count": null,
   "id": "66aec64f",
   "metadata": {},
   "outputs": [],
   "source": [
    "def _rmse(matrix_pred, rows, cols, true):\n",
    "    \"\"\"Compute RMSE on the (rows, cols) coordinates.\"\"\"\n",
    "    return float(np.sqrt(np.mean((matrix_pred[rows, cols] - true) ** 2)))\n",
    "\n",
    "# ---------------------------------------------------------------------------\n",
    "#  Approach 1 ― Raw Zero-Fill SVD\n",
    "# ---------------------------------------------------------------------------\n",
    "def raw_zero_fill_svd(k: int,return_preds=False) -> float:\n",
    "    U, S, Vt = svds(train_matrix, k=k)                # ascending σ\n",
    "    idx       = np.argsort(-S)                        # largest first\n",
    "    U, S, Vt  = U[:, idx], S[idx], Vt[idx, :]\n",
    "\n",
    "    pred  = U @ np.diag(S) @ Vt                       # dense ≈ 6 MB\n",
    "    pred  = np.clip(pred, 1, 5)                       # ratings domain\n",
    "    if return_preds:\n",
    "        return pred\n",
    "    return _rmse(pred, test_rows, test_cols, test_ratings)\n",
    "\n",
    "# ---------------------------------------------------------------------------\n",
    "#  Approach 2 ― Mean-Centred SVD\n",
    "# ---------------------------------------------------------------------------\n",
    "def mean_centred_svd(k: int,return_preds=False) -> float:\n",
    "    # user means on *training* ratings\n",
    "    user_sum   = np.asarray(train_matrix.sum(axis=1)).ravel()\n",
    "    user_count = np.diff(train_matrix.indptr)\n",
    "    user_mean  = user_sum / np.maximum(user_count, 1)\n",
    "\n",
    "    centred = train_matrix.toarray().astype(np.float32)\n",
    "    for u in range(centred.shape[0]):\n",
    "        mask = centred[u] != 0\n",
    "        centred[u, mask] -= user_mean[u]\n",
    "\n",
    "    U, S, Vt = svds(centred, k=k)\n",
    "    idx      = np.argsort(-S)\n",
    "    centred  = (U[:, idx] @ np.diag(S[idx]) @ Vt[idx])\n",
    "    pred     = np.clip(centred + user_mean[:, None], 1, 5)\n",
    "    if return_preds:\n",
    "        return pred\n",
    "    return _rmse(pred, test_rows, test_cols, test_ratings)\n",
    "\n",
    "# ---------------------------------------------------------------------------\n",
    "#  Approach 3 ― Z-Score Normalised SVD\n",
    "# ---------------------------------------------------------------------------\n",
    "def z_score_normalised_svd(k: int,return_preds=False) -> float:\n",
    "    # reuse user_mean from approach 2\n",
    "    user_sum   = np.asarray(train_matrix.sum(axis=1)).ravel()\n",
    "    user_count = np.diff(train_matrix.indptr)\n",
    "    user_mean  = user_sum / np.maximum(user_count, 1)\n",
    "\n",
    "    residual = train_matrix.toarray().astype(np.float32)\n",
    "    for u in range(residual.shape[0]):\n",
    "        mask = residual[u] != 0\n",
    "        residual[u, mask] -= user_mean[u]\n",
    "\n",
    "    # user std on observed entries\n",
    "    user_var = np.zeros_like(user_mean)\n",
    "    for u in range(residual.shape[0]):\n",
    "        mask = residual[u] != 0\n",
    "        if mask.sum():\n",
    "            user_var[u] = np.mean(residual[u, mask] ** 2)\n",
    "    user_std = np.sqrt(np.maximum(user_var, 1e-12))\n",
    "\n",
    "    z = residual.copy()\n",
    "    for u in range(z.shape[0]):\n",
    "        mask = z[u] != 0\n",
    "        z[u, mask] /= user_std[u]\n",
    "\n",
    "    U, S, Vt = svds(z, k=k)\n",
    "    idx      = np.argsort(-S)\n",
    "    z_pred   = U[:, idx] @ np.diag(S[idx]) @ Vt[idx]\n",
    "    pred     = np.clip(z_pred * user_std[:, None] + user_mean[:, None], 1, 5)\n",
    "    if return_preds:\n",
    "        return pred\n",
    "    return _rmse(pred, test_rows, test_cols, test_ratings)\n",
    "\n",
    "# ---------------------------------------------------------------------------\n",
    "#  Approach 4 ― Iterative SVD-Impute\n",
    "# ---------------------------------------------------------------------------\n",
    "def iterative_svd_impute(k: int, n_iters: int = 5, tol: float = 1e-3,return_preds=False) -> float:\n",
    "    m, n  = train_matrix.shape\n",
    "    X     = np.zeros((m, n), np.float32)\n",
    "\n",
    "    # initialise with user means\n",
    "    user_sum   = np.asarray(train_matrix.sum(axis=1)).ravel()\n",
    "    user_count = np.diff(train_matrix.indptr)\n",
    "    user_mean  = user_sum / np.maximum(user_count, 1)\n",
    "    X[:]       = user_mean[:, None]\n",
    "\n",
    "    coo        = train_matrix.tocoo()\n",
    "    mask_obs   = np.zeros_like(X, bool)\n",
    "    X[coo.row, coo.col]   = coo.data\n",
    "    mask_obs[coo.row, coo.col] = True            # True = training ratings\n",
    "\n",
    "    for _ in range(n_iters):\n",
    "        U, S, Vt = svd(X, full_matrices=False)\n",
    "        U, S, Vt = U[:, :k], S[:k], Vt[:k]\n",
    "        P        = U @ np.diag(S) @ Vt\n",
    "\n",
    "        delta = np.linalg.norm(~mask_obs * (P - X)) / np.linalg.norm(~mask_obs * X)\n",
    "        X[~mask_obs] = P[~mask_obs]\n",
    "        if delta < tol:\n",
    "            break\n",
    "\n",
    "    pred = np.clip(X, 1, 5)\n",
    "    if return_preds:\n",
    "        return pred\n",
    "    return _rmse(pred, test_rows, test_cols, test_ratings)\n",
    "\n",
    "# ---------------------------------------------------------------------------\n",
    "#  Approach 5 ― baseline + latent factors\n",
    "# ---------------------------------------------------------------------------\n",
    "def baseline_latent_factors(k: int,return_preds=False) -> float:\n",
    "    mu = train_df['rating'].mean()\n",
    "\n",
    "    # user / item biases\n",
    "    b_u = (train_df.groupby('user_id')['rating'].mean() - mu) \\\n",
    "            .reindex(user_uniques).fillna(0.).to_numpy()\n",
    "    b_i = (train_df.groupby('item_id')['rating'].mean() - mu) \\\n",
    "            .reindex(item_uniques).fillna(0.).to_numpy()\n",
    "\n",
    "    # residuals matrix\n",
    "    residual = train_matrix.toarray().astype(np.float32)\n",
    "    rows, cols = train_matrix.nonzero()\n",
    "    residual[rows, cols] -= mu + b_u[rows] + b_i[cols]\n",
    "\n",
    "    # rank-k SVD on residuals\n",
    "    U, S, Vt = svds(residual, k=k)\n",
    "    idx = np.argsort(-S)\n",
    "    U, S, Vt = U[:, idx], S[idx], Vt[idx]\n",
    "    P = U @ np.diag(S) @ Vt                       # low-rank residuals\n",
    "\n",
    "    pred = np.clip(mu + b_u[:, None] + b_i[None, :] + P, 1, 5)\n",
    "    if return_preds:\n",
    "        return pred\n",
    "    return _rmse(pred, test_rows, test_cols, test_ratings)\n",
    "\n",
    "# ---------------------------------------------------------------------------\n",
    "#  Approach 6 ― Bias + Iterative SVD-Impute\n",
    "# ---------------------------------------------------------------------------\n",
    "def bias_iterative_svd_impute(k: int, n_iters: int = 5, tol: float = 1e-3,return_preds=False) -> float:\n",
    "    mu = train_df['rating'].mean()\n",
    "    b_u = (train_df.groupby('user_id')['rating'].mean() - mu) \\\n",
    "            .reindex(user_uniques).fillna(0.).to_numpy()\n",
    "    b_i = (train_df.groupby('item_id')['rating'].mean() - mu) \\\n",
    "            .reindex(item_uniques).fillna(0.).to_numpy()\n",
    "\n",
    "    m, n = train_matrix.shape\n",
    "    X = (mu + b_u[:, None] + b_i[None, :]).astype(np.float32)\n",
    "\n",
    "    coo = train_matrix.tocoo()\n",
    "    mask_obs = np.zeros_like(X, bool)\n",
    "    X[coo.row, coo.col]   = coo.data\n",
    "    mask_obs[coo.row, coo.col] = True\n",
    "\n",
    "    for _ in range(n_iters):\n",
    "        U, S, Vt = svd(X, full_matrices=False)\n",
    "        U, S, Vt = U[:, :k], S[:k], Vt[:k]\n",
    "        P = U @ np.diag(S) @ Vt\n",
    "\n",
    "        delta = np.linalg.norm(~mask_obs * (P - X)) / np.linalg.norm(~mask_obs * X)\n",
    "        X[~mask_obs] = P[~mask_obs]\n",
    "        if delta < tol:\n",
    "            break\n",
    "\n",
    "    pred = np.clip(X, 1, 5)\n",
    "    if return_preds:\n",
    "        return pred\n",
    "    return _rmse(pred, test_rows, test_cols, test_ratings)\n",
    "\n",
    "# # ---------------------------------------------------------------------------\n",
    "# #  Sweep k = 5 … 60  and collect all results\n",
    "# # ---------------------------------------------------------------------------\n",
    "k_values        = range(5, 61, 5)\n",
    "results_dict    = {\n",
    "    \"Raw Zero-Fill SVD\":            {k: raw_zero_fill_svd(k)           for k in k_values},\n",
    "    \"Mean-Centred SVD\":             {k: mean_centred_svd(k)            for k in k_values},\n",
    "    \"Z-Score Normalised SVD\":       {k: z_score_normalised_svd(k)      for k in k_values},\n",
    "    \"Iterative SVD-Impute\":         {k: iterative_svd_impute(k)        for k in k_values},\n",
    "    \"baseline + latent factors\":    {k: baseline_latent_factors(k)     for k in k_values},\n",
    "    \"Bias + Iterative SVD-Impute\":  {k: bias_iterative_svd_impute(k)    for k in k_values},\n",
    "}\n",
    "\n"
   ]
  },
  {
   "cell_type": "markdown",
   "id": "2c01e050",
   "metadata": {},
   "source": [
    "### report on train"
   ]
  },
  {
   "cell_type": "code",
   "execution_count": 101,
   "id": "8eb1d3cf",
   "metadata": {},
   "outputs": [],
   "source": [
    "# Prepare train coordinates for RMSE\n",
    "train_rows = train_df['user_id'].map(user_lookup).to_numpy()\n",
    "train_cols = train_df['item_id'].map(item_lookup).to_numpy()\n",
    "train_ratings = train_df['rating'].to_numpy(dtype=np.float32)\n",
    "results_dict    = {}\n",
    "for name, fn in [\n",
    "    (\"Raw Zero-Fill SVD\", raw_zero_fill_svd),\n",
    "    (\"Mean-Centred SVD\", mean_centred_svd),\n",
    "    (\"Z-Score Normalised SVD\", z_score_normalised_svd),\n",
    "    (\"Iterative SVD-Impute\", iterative_svd_impute),\n",
    "    (\"baseline + latent factors\", baseline_latent_factors),\n",
    "    (\"Bias + Iterative SVD-Impute\", bias_iterative_svd_impute),\n",
    "]:\n",
    "    method_results = {}\n",
    "    for k in k_values:\n",
    "        pred = fn(k, return_preds=True)\n",
    "        train_rmse = _rmse(pred, train_rows, train_cols, train_ratings)\n",
    "        test_rmse  = _rmse(pred, test_rows, test_cols, test_ratings)\n",
    "        method_results[k] = {'train': train_rmse, 'test': test_rmse}\n",
    "    results_dict[name] = method_results\n"
   ]
  },
  {
   "cell_type": "code",
   "execution_count": 102,
   "id": "a34b9bd7",
   "metadata": {},
   "outputs": [
    {
     "data": {
      "application/vnd.plotly.v1+json": {
       "config": {
        "plotlyServerURL": "https://plot.ly"
       },
       "data": [
        {
         "hovertemplate": "<b>%{meta}</b><br>k = %{x}<br>Test RMSE = %{y:.4f}<extra></extra>",
         "marker": {
          "size": 8
         },
         "meta": "Raw Zero-Fill SVD",
         "mode": "lines+markers",
         "name": "Raw Zero-Fill SVD",
         "type": "scatter",
         "x": [
          5,
          10,
          15,
          20,
          25,
          30,
          35,
          40,
          45,
          50,
          55,
          60
         ],
         "y": [
          2.3305795192718506,
          2.2617955207824707,
          2.249403238296509,
          2.2547402381896973,
          2.272249937057495,
          2.296590805053711,
          2.3240044116973877,
          2.349863052368164,
          2.372525453567505,
          2.400223970413208,
          2.4245426654815674,
          2.4466748237609863
         ]
        },
        {
         "hovertemplate": "<b>%{meta}</b><br>k = %{x}<br>Test RMSE = %{y:.4f}<extra></extra>",
         "marker": {
          "size": 8
         },
         "meta": "Mean-Centred SVD",
         "mode": "lines+markers",
         "name": "Mean-Centred SVD",
         "type": "scatter",
         "x": [
          5,
          10,
          15,
          20,
          25,
          30,
          35,
          40,
          45,
          50,
          55,
          60
         ],
         "y": [
          0.986227967756522,
          0.9787981934305694,
          0.980129681526112,
          0.9824514492499171,
          0.983552172800075,
          0.9854732728336069,
          0.9871654349970637,
          0.9904708142273386,
          0.9940349470671858,
          0.9970864935832437,
          1.0004246728358666,
          1.002251786558859
         ]
        },
        {
         "hovertemplate": "<b>%{meta}</b><br>k = %{x}<br>Test RMSE = %{y:.4f}<extra></extra>",
         "marker": {
          "size": 8
         },
         "meta": "Z-Score Normalised SVD",
         "mode": "lines+markers",
         "name": "Z-Score Normalised SVD",
         "type": "scatter",
         "x": [
          5,
          10,
          15,
          20,
          25,
          30,
          35,
          40,
          45,
          50,
          55,
          60
         ],
         "y": [
          0.9828134228688598,
          0.9785836515699792,
          0.98206565485939,
          0.9824100227889109,
          0.9845693889220154,
          0.9852375046141905,
          0.9874153409073155,
          0.988930630098668,
          0.9920871011986442,
          0.9963180905532637,
          0.9985611337622248,
          1.0015383549295467
         ]
        },
        {
         "hovertemplate": "<b>%{meta}</b><br>k = %{x}<br>Test RMSE = %{y:.4f}<extra></extra>",
         "marker": {
          "size": 8
         },
         "meta": "Iterative SVD-Impute",
         "mode": "lines+markers",
         "name": "Iterative SVD-Impute",
         "type": "scatter",
         "x": [
          5,
          10,
          15,
          20,
          25,
          30,
          35,
          40,
          45,
          50,
          55,
          60
         ],
         "y": [
          0.9461008906364441,
          0.9429636001586914,
          0.9540561437606812,
          0.9667534828186035,
          0.97536301612854,
          0.97859126329422,
          0.9869375824928284,
          0.9938831329345703,
          1.0044022798538208,
          1.0116236209869385,
          1.017210602760315,
          1.0197914838790894
         ]
        },
        {
         "hovertemplate": "<b>%{meta}</b><br>k = %{x}<br>Test RMSE = %{y:.4f}<extra></extra>",
         "marker": {
          "size": 8
         },
         "meta": "baseline + latent factors",
         "mode": "lines+markers",
         "name": "baseline + latent factors",
         "type": "scatter",
         "x": [
          5,
          10,
          15,
          20,
          25,
          30,
          35,
          40,
          45,
          50,
          55,
          60
         ],
         "y": [
          0.9419514862775922,
          0.935837453987125,
          0.935884493214206,
          0.937614785144901,
          0.9391286524937863,
          0.9403283267158558,
          0.9431649029492132,
          0.9441453497348066,
          0.9463175556030253,
          0.9464656563587625,
          0.9474138016707928,
          0.9465488490873688
         ]
        },
        {
         "hovertemplate": "<b>%{meta}</b><br>k = %{x}<br>Test RMSE = %{y:.4f}<extra></extra>",
         "marker": {
          "size": 8
         },
         "meta": "Bias + Iterative SVD-Impute",
         "mode": "lines+markers",
         "name": "Bias + Iterative SVD-Impute",
         "type": "scatter",
         "x": [
          5,
          10,
          15,
          20,
          25,
          30,
          35,
          40,
          45,
          50,
          55,
          60
         ],
         "y": [
          0.9256463050842285,
          0.9259147644042969,
          0.931337296962738,
          0.9431547522544861,
          0.9502130150794983,
          0.9567158818244934,
          0.9646884202957153,
          0.9695013761520386,
          0.9756413698196411,
          0.9764860272407532,
          0.9765963554382324,
          0.98021000623703
         ]
        }
       ],
       "layout": {
        "height": 500,
        "hovermode": "closest",
        "legend": {
         "title": {
          "text": "Approach"
         }
        },
        "template": {
         "data": {
          "bar": [
           {
            "error_x": {
             "color": "#2a3f5f"
            },
            "error_y": {
             "color": "#2a3f5f"
            },
            "marker": {
             "line": {
              "color": "white",
              "width": 0.5
             },
             "pattern": {
              "fillmode": "overlay",
              "size": 10,
              "solidity": 0.2
             }
            },
            "type": "bar"
           }
          ],
          "barpolar": [
           {
            "marker": {
             "line": {
              "color": "white",
              "width": 0.5
             },
             "pattern": {
              "fillmode": "overlay",
              "size": 10,
              "solidity": 0.2
             }
            },
            "type": "barpolar"
           }
          ],
          "carpet": [
           {
            "aaxis": {
             "endlinecolor": "#2a3f5f",
             "gridcolor": "#C8D4E3",
             "linecolor": "#C8D4E3",
             "minorgridcolor": "#C8D4E3",
             "startlinecolor": "#2a3f5f"
            },
            "baxis": {
             "endlinecolor": "#2a3f5f",
             "gridcolor": "#C8D4E3",
             "linecolor": "#C8D4E3",
             "minorgridcolor": "#C8D4E3",
             "startlinecolor": "#2a3f5f"
            },
            "type": "carpet"
           }
          ],
          "choropleth": [
           {
            "colorbar": {
             "outlinewidth": 0,
             "ticks": ""
            },
            "type": "choropleth"
           }
          ],
          "contour": [
           {
            "colorbar": {
             "outlinewidth": 0,
             "ticks": ""
            },
            "colorscale": [
             [
              0,
              "#0d0887"
             ],
             [
              0.1111111111111111,
              "#46039f"
             ],
             [
              0.2222222222222222,
              "#7201a8"
             ],
             [
              0.3333333333333333,
              "#9c179e"
             ],
             [
              0.4444444444444444,
              "#bd3786"
             ],
             [
              0.5555555555555556,
              "#d8576b"
             ],
             [
              0.6666666666666666,
              "#ed7953"
             ],
             [
              0.7777777777777778,
              "#fb9f3a"
             ],
             [
              0.8888888888888888,
              "#fdca26"
             ],
             [
              1,
              "#f0f921"
             ]
            ],
            "type": "contour"
           }
          ],
          "contourcarpet": [
           {
            "colorbar": {
             "outlinewidth": 0,
             "ticks": ""
            },
            "type": "contourcarpet"
           }
          ],
          "heatmap": [
           {
            "colorbar": {
             "outlinewidth": 0,
             "ticks": ""
            },
            "colorscale": [
             [
              0,
              "#0d0887"
             ],
             [
              0.1111111111111111,
              "#46039f"
             ],
             [
              0.2222222222222222,
              "#7201a8"
             ],
             [
              0.3333333333333333,
              "#9c179e"
             ],
             [
              0.4444444444444444,
              "#bd3786"
             ],
             [
              0.5555555555555556,
              "#d8576b"
             ],
             [
              0.6666666666666666,
              "#ed7953"
             ],
             [
              0.7777777777777778,
              "#fb9f3a"
             ],
             [
              0.8888888888888888,
              "#fdca26"
             ],
             [
              1,
              "#f0f921"
             ]
            ],
            "type": "heatmap"
           }
          ],
          "histogram": [
           {
            "marker": {
             "pattern": {
              "fillmode": "overlay",
              "size": 10,
              "solidity": 0.2
             }
            },
            "type": "histogram"
           }
          ],
          "histogram2d": [
           {
            "colorbar": {
             "outlinewidth": 0,
             "ticks": ""
            },
            "colorscale": [
             [
              0,
              "#0d0887"
             ],
             [
              0.1111111111111111,
              "#46039f"
             ],
             [
              0.2222222222222222,
              "#7201a8"
             ],
             [
              0.3333333333333333,
              "#9c179e"
             ],
             [
              0.4444444444444444,
              "#bd3786"
             ],
             [
              0.5555555555555556,
              "#d8576b"
             ],
             [
              0.6666666666666666,
              "#ed7953"
             ],
             [
              0.7777777777777778,
              "#fb9f3a"
             ],
             [
              0.8888888888888888,
              "#fdca26"
             ],
             [
              1,
              "#f0f921"
             ]
            ],
            "type": "histogram2d"
           }
          ],
          "histogram2dcontour": [
           {
            "colorbar": {
             "outlinewidth": 0,
             "ticks": ""
            },
            "colorscale": [
             [
              0,
              "#0d0887"
             ],
             [
              0.1111111111111111,
              "#46039f"
             ],
             [
              0.2222222222222222,
              "#7201a8"
             ],
             [
              0.3333333333333333,
              "#9c179e"
             ],
             [
              0.4444444444444444,
              "#bd3786"
             ],
             [
              0.5555555555555556,
              "#d8576b"
             ],
             [
              0.6666666666666666,
              "#ed7953"
             ],
             [
              0.7777777777777778,
              "#fb9f3a"
             ],
             [
              0.8888888888888888,
              "#fdca26"
             ],
             [
              1,
              "#f0f921"
             ]
            ],
            "type": "histogram2dcontour"
           }
          ],
          "mesh3d": [
           {
            "colorbar": {
             "outlinewidth": 0,
             "ticks": ""
            },
            "type": "mesh3d"
           }
          ],
          "parcoords": [
           {
            "line": {
             "colorbar": {
              "outlinewidth": 0,
              "ticks": ""
             }
            },
            "type": "parcoords"
           }
          ],
          "pie": [
           {
            "automargin": true,
            "type": "pie"
           }
          ],
          "scatter": [
           {
            "fillpattern": {
             "fillmode": "overlay",
             "size": 10,
             "solidity": 0.2
            },
            "type": "scatter"
           }
          ],
          "scatter3d": [
           {
            "line": {
             "colorbar": {
              "outlinewidth": 0,
              "ticks": ""
             }
            },
            "marker": {
             "colorbar": {
              "outlinewidth": 0,
              "ticks": ""
             }
            },
            "type": "scatter3d"
           }
          ],
          "scattercarpet": [
           {
            "marker": {
             "colorbar": {
              "outlinewidth": 0,
              "ticks": ""
             }
            },
            "type": "scattercarpet"
           }
          ],
          "scattergeo": [
           {
            "marker": {
             "colorbar": {
              "outlinewidth": 0,
              "ticks": ""
             }
            },
            "type": "scattergeo"
           }
          ],
          "scattergl": [
           {
            "marker": {
             "colorbar": {
              "outlinewidth": 0,
              "ticks": ""
             }
            },
            "type": "scattergl"
           }
          ],
          "scattermap": [
           {
            "marker": {
             "colorbar": {
              "outlinewidth": 0,
              "ticks": ""
             }
            },
            "type": "scattermap"
           }
          ],
          "scattermapbox": [
           {
            "marker": {
             "colorbar": {
              "outlinewidth": 0,
              "ticks": ""
             }
            },
            "type": "scattermapbox"
           }
          ],
          "scatterpolar": [
           {
            "marker": {
             "colorbar": {
              "outlinewidth": 0,
              "ticks": ""
             }
            },
            "type": "scatterpolar"
           }
          ],
          "scatterpolargl": [
           {
            "marker": {
             "colorbar": {
              "outlinewidth": 0,
              "ticks": ""
             }
            },
            "type": "scatterpolargl"
           }
          ],
          "scatterternary": [
           {
            "marker": {
             "colorbar": {
              "outlinewidth": 0,
              "ticks": ""
             }
            },
            "type": "scatterternary"
           }
          ],
          "surface": [
           {
            "colorbar": {
             "outlinewidth": 0,
             "ticks": ""
            },
            "colorscale": [
             [
              0,
              "#0d0887"
             ],
             [
              0.1111111111111111,
              "#46039f"
             ],
             [
              0.2222222222222222,
              "#7201a8"
             ],
             [
              0.3333333333333333,
              "#9c179e"
             ],
             [
              0.4444444444444444,
              "#bd3786"
             ],
             [
              0.5555555555555556,
              "#d8576b"
             ],
             [
              0.6666666666666666,
              "#ed7953"
             ],
             [
              0.7777777777777778,
              "#fb9f3a"
             ],
             [
              0.8888888888888888,
              "#fdca26"
             ],
             [
              1,
              "#f0f921"
             ]
            ],
            "type": "surface"
           }
          ],
          "table": [
           {
            "cells": {
             "fill": {
              "color": "#EBF0F8"
             },
             "line": {
              "color": "white"
             }
            },
            "header": {
             "fill": {
              "color": "#C8D4E3"
             },
             "line": {
              "color": "white"
             }
            },
            "type": "table"
           }
          ]
         },
         "layout": {
          "annotationdefaults": {
           "arrowcolor": "#2a3f5f",
           "arrowhead": 0,
           "arrowwidth": 1
          },
          "autotypenumbers": "strict",
          "coloraxis": {
           "colorbar": {
            "outlinewidth": 0,
            "ticks": ""
           }
          },
          "colorscale": {
           "diverging": [
            [
             0,
             "#8e0152"
            ],
            [
             0.1,
             "#c51b7d"
            ],
            [
             0.2,
             "#de77ae"
            ],
            [
             0.3,
             "#f1b6da"
            ],
            [
             0.4,
             "#fde0ef"
            ],
            [
             0.5,
             "#f7f7f7"
            ],
            [
             0.6,
             "#e6f5d0"
            ],
            [
             0.7,
             "#b8e186"
            ],
            [
             0.8,
             "#7fbc41"
            ],
            [
             0.9,
             "#4d9221"
            ],
            [
             1,
             "#276419"
            ]
           ],
           "sequential": [
            [
             0,
             "#0d0887"
            ],
            [
             0.1111111111111111,
             "#46039f"
            ],
            [
             0.2222222222222222,
             "#7201a8"
            ],
            [
             0.3333333333333333,
             "#9c179e"
            ],
            [
             0.4444444444444444,
             "#bd3786"
            ],
            [
             0.5555555555555556,
             "#d8576b"
            ],
            [
             0.6666666666666666,
             "#ed7953"
            ],
            [
             0.7777777777777778,
             "#fb9f3a"
            ],
            [
             0.8888888888888888,
             "#fdca26"
            ],
            [
             1,
             "#f0f921"
            ]
           ],
           "sequentialminus": [
            [
             0,
             "#0d0887"
            ],
            [
             0.1111111111111111,
             "#46039f"
            ],
            [
             0.2222222222222222,
             "#7201a8"
            ],
            [
             0.3333333333333333,
             "#9c179e"
            ],
            [
             0.4444444444444444,
             "#bd3786"
            ],
            [
             0.5555555555555556,
             "#d8576b"
            ],
            [
             0.6666666666666666,
             "#ed7953"
            ],
            [
             0.7777777777777778,
             "#fb9f3a"
            ],
            [
             0.8888888888888888,
             "#fdca26"
            ],
            [
             1,
             "#f0f921"
            ]
           ]
          },
          "colorway": [
           "#636efa",
           "#EF553B",
           "#00cc96",
           "#ab63fa",
           "#FFA15A",
           "#19d3f3",
           "#FF6692",
           "#B6E880",
           "#FF97FF",
           "#FECB52"
          ],
          "font": {
           "color": "#2a3f5f"
          },
          "geo": {
           "bgcolor": "white",
           "lakecolor": "white",
           "landcolor": "white",
           "showlakes": true,
           "showland": true,
           "subunitcolor": "#C8D4E3"
          },
          "hoverlabel": {
           "align": "left"
          },
          "hovermode": "closest",
          "mapbox": {
           "style": "light"
          },
          "paper_bgcolor": "white",
          "plot_bgcolor": "white",
          "polar": {
           "angularaxis": {
            "gridcolor": "#EBF0F8",
            "linecolor": "#EBF0F8",
            "ticks": ""
           },
           "bgcolor": "white",
           "radialaxis": {
            "gridcolor": "#EBF0F8",
            "linecolor": "#EBF0F8",
            "ticks": ""
           }
          },
          "scene": {
           "xaxis": {
            "backgroundcolor": "white",
            "gridcolor": "#DFE8F3",
            "gridwidth": 2,
            "linecolor": "#EBF0F8",
            "showbackground": true,
            "ticks": "",
            "zerolinecolor": "#EBF0F8"
           },
           "yaxis": {
            "backgroundcolor": "white",
            "gridcolor": "#DFE8F3",
            "gridwidth": 2,
            "linecolor": "#EBF0F8",
            "showbackground": true,
            "ticks": "",
            "zerolinecolor": "#EBF0F8"
           },
           "zaxis": {
            "backgroundcolor": "white",
            "gridcolor": "#DFE8F3",
            "gridwidth": 2,
            "linecolor": "#EBF0F8",
            "showbackground": true,
            "ticks": "",
            "zerolinecolor": "#EBF0F8"
           }
          },
          "shapedefaults": {
           "line": {
            "color": "#2a3f5f"
           }
          },
          "ternary": {
           "aaxis": {
            "gridcolor": "#DFE8F3",
            "linecolor": "#A2B1C6",
            "ticks": ""
           },
           "baxis": {
            "gridcolor": "#DFE8F3",
            "linecolor": "#A2B1C6",
            "ticks": ""
           },
           "bgcolor": "white",
           "caxis": {
            "gridcolor": "#DFE8F3",
            "linecolor": "#A2B1C6",
            "ticks": ""
           }
          },
          "title": {
           "x": 0.05
          },
          "xaxis": {
           "automargin": true,
           "gridcolor": "#EBF0F8",
           "linecolor": "#EBF0F8",
           "ticks": "",
           "title": {
            "standoff": 15
           },
           "zerolinecolor": "#EBF0F8",
           "zerolinewidth": 2
          },
          "yaxis": {
           "automargin": true,
           "gridcolor": "#EBF0F8",
           "linecolor": "#EBF0F8",
           "ticks": "",
           "title": {
            "standoff": 15
           },
           "zerolinecolor": "#EBF0F8",
           "zerolinewidth": 2
          }
         }
        },
        "title": {
         "text": "Effect of latent dimension k on MovieLens-100k (Test RMSE)"
        },
        "width": 800,
        "xaxis": {
         "title": {
          "text": "Latent dimension  k"
         }
        },
        "yaxis": {
         "title": {
          "text": "Test RMSE (10 % hold-out test set)"
         }
        }
       }
      }
     },
     "metadata": {},
     "output_type": "display_data"
    },
    {
     "data": {
      "application/vnd.plotly.v1+json": {
       "config": {
        "plotlyServerURL": "https://plot.ly"
       },
       "data": [
        {
         "hovertemplate": "<b>%{meta}</b><br>k = %{x}<br>Train RMSE = %{y:.4f}<extra></extra>",
         "marker": {
          "size": 8
         },
         "meta": "Raw Zero-Fill SVD",
         "mode": "lines+markers",
         "name": "Raw Zero-Fill SVD",
         "type": "scatter",
         "x": [
          5,
          10,
          15,
          20,
          25,
          30,
          35,
          40,
          45,
          50,
          55,
          60
         ],
         "y": [
          2.300637722015381,
          2.1797304153442383,
          2.1151795387268066,
          2.062187433242798,
          2.0179026126861572,
          1.9749629497528076,
          1.9340425729751587,
          1.895493984222412,
          1.8575702905654907,
          1.8213887214660645,
          1.786167860031128,
          1.7514528036117554
         ]
        },
        {
         "hovertemplate": "<b>%{meta}</b><br>k = %{x}<br>Train RMSE = %{y:.4f}<extra></extra>",
         "marker": {
          "size": 8
         },
         "meta": "Mean-Centred SVD",
         "mode": "lines+markers",
         "name": "Mean-Centred SVD",
         "type": "scatter",
         "x": [
          5,
          10,
          15,
          20,
          25,
          30,
          35,
          40,
          45,
          50,
          55,
          60
         ],
         "y": [
          0.9407078900357145,
          0.9055615804401665,
          0.8771728966326016,
          0.8515674288691304,
          0.8278092825743738,
          0.8051487982712453,
          0.7839624266727603,
          0.7640550890131366,
          0.7447027431668861,
          0.7260022117225231,
          0.7080620096188661,
          0.6910054301393789
         ]
        },
        {
         "hovertemplate": "<b>%{meta}</b><br>k = %{x}<br>Train RMSE = %{y:.4f}<extra></extra>",
         "marker": {
          "size": 8
         },
         "meta": "Z-Score Normalised SVD",
         "mode": "lines+markers",
         "name": "Z-Score Normalised SVD",
         "type": "scatter",
         "x": [
          5,
          10,
          15,
          20,
          25,
          30,
          35,
          40,
          45,
          50,
          55,
          60
         ],
         "y": [
          0.9419455989068828,
          0.9086233866798793,
          0.8814689764751019,
          0.8573241141344203,
          0.834797785230547,
          0.813134271997983,
          0.792306856528052,
          0.7727539715850357,
          0.7536161246340024,
          0.7355994376352167,
          0.7177845744014161,
          0.701006854400322
         ]
        },
        {
         "hovertemplate": "<b>%{meta}</b><br>k = %{x}<br>Train RMSE = %{y:.4f}<extra></extra>",
         "marker": {
          "size": 8
         },
         "meta": "Iterative SVD-Impute",
         "mode": "lines+markers",
         "name": "Iterative SVD-Impute",
         "type": "scatter",
         "x": [
          5,
          10,
          15,
          20,
          25,
          30,
          35,
          40,
          45,
          50,
          55,
          60
         ],
         "y": [
          0,
          0,
          0,
          0,
          0,
          0,
          0,
          0,
          0,
          0,
          0,
          0
         ]
        },
        {
         "hovertemplate": "<b>%{meta}</b><br>k = %{x}<br>Train RMSE = %{y:.4f}<extra></extra>",
         "marker": {
          "size": 8
         },
         "meta": "baseline + latent factors",
         "mode": "lines+markers",
         "name": "baseline + latent factors",
         "type": "scatter",
         "x": [
          5,
          10,
          15,
          20,
          25,
          30,
          35,
          40,
          45,
          50,
          55,
          60
         ],
         "y": [
          0.8806660169458583,
          0.8495148698317354,
          0.8226037818671939,
          0.7982211798308306,
          0.7753257453926047,
          0.7536855822695624,
          0.7334344342203599,
          0.7141193805607722,
          0.6957173002869055,
          0.6780646804583386,
          0.661451098009121,
          0.6450087932094588
         ]
        },
        {
         "hovertemplate": "<b>%{meta}</b><br>k = %{x}<br>Train RMSE = %{y:.4f}<extra></extra>",
         "marker": {
          "size": 8
         },
         "meta": "Bias + Iterative SVD-Impute",
         "mode": "lines+markers",
         "name": "Bias + Iterative SVD-Impute",
         "type": "scatter",
         "x": [
          5,
          10,
          15,
          20,
          25,
          30,
          35,
          40,
          45,
          50,
          55,
          60
         ],
         "y": [
          0,
          0,
          0,
          0,
          0,
          0,
          0,
          0,
          0,
          0,
          0,
          0
         ]
        }
       ],
       "layout": {
        "height": 500,
        "hovermode": "closest",
        "legend": {
         "title": {
          "text": "Approach"
         }
        },
        "template": {
         "data": {
          "bar": [
           {
            "error_x": {
             "color": "#2a3f5f"
            },
            "error_y": {
             "color": "#2a3f5f"
            },
            "marker": {
             "line": {
              "color": "white",
              "width": 0.5
             },
             "pattern": {
              "fillmode": "overlay",
              "size": 10,
              "solidity": 0.2
             }
            },
            "type": "bar"
           }
          ],
          "barpolar": [
           {
            "marker": {
             "line": {
              "color": "white",
              "width": 0.5
             },
             "pattern": {
              "fillmode": "overlay",
              "size": 10,
              "solidity": 0.2
             }
            },
            "type": "barpolar"
           }
          ],
          "carpet": [
           {
            "aaxis": {
             "endlinecolor": "#2a3f5f",
             "gridcolor": "#C8D4E3",
             "linecolor": "#C8D4E3",
             "minorgridcolor": "#C8D4E3",
             "startlinecolor": "#2a3f5f"
            },
            "baxis": {
             "endlinecolor": "#2a3f5f",
             "gridcolor": "#C8D4E3",
             "linecolor": "#C8D4E3",
             "minorgridcolor": "#C8D4E3",
             "startlinecolor": "#2a3f5f"
            },
            "type": "carpet"
           }
          ],
          "choropleth": [
           {
            "colorbar": {
             "outlinewidth": 0,
             "ticks": ""
            },
            "type": "choropleth"
           }
          ],
          "contour": [
           {
            "colorbar": {
             "outlinewidth": 0,
             "ticks": ""
            },
            "colorscale": [
             [
              0,
              "#0d0887"
             ],
             [
              0.1111111111111111,
              "#46039f"
             ],
             [
              0.2222222222222222,
              "#7201a8"
             ],
             [
              0.3333333333333333,
              "#9c179e"
             ],
             [
              0.4444444444444444,
              "#bd3786"
             ],
             [
              0.5555555555555556,
              "#d8576b"
             ],
             [
              0.6666666666666666,
              "#ed7953"
             ],
             [
              0.7777777777777778,
              "#fb9f3a"
             ],
             [
              0.8888888888888888,
              "#fdca26"
             ],
             [
              1,
              "#f0f921"
             ]
            ],
            "type": "contour"
           }
          ],
          "contourcarpet": [
           {
            "colorbar": {
             "outlinewidth": 0,
             "ticks": ""
            },
            "type": "contourcarpet"
           }
          ],
          "heatmap": [
           {
            "colorbar": {
             "outlinewidth": 0,
             "ticks": ""
            },
            "colorscale": [
             [
              0,
              "#0d0887"
             ],
             [
              0.1111111111111111,
              "#46039f"
             ],
             [
              0.2222222222222222,
              "#7201a8"
             ],
             [
              0.3333333333333333,
              "#9c179e"
             ],
             [
              0.4444444444444444,
              "#bd3786"
             ],
             [
              0.5555555555555556,
              "#d8576b"
             ],
             [
              0.6666666666666666,
              "#ed7953"
             ],
             [
              0.7777777777777778,
              "#fb9f3a"
             ],
             [
              0.8888888888888888,
              "#fdca26"
             ],
             [
              1,
              "#f0f921"
             ]
            ],
            "type": "heatmap"
           }
          ],
          "histogram": [
           {
            "marker": {
             "pattern": {
              "fillmode": "overlay",
              "size": 10,
              "solidity": 0.2
             }
            },
            "type": "histogram"
           }
          ],
          "histogram2d": [
           {
            "colorbar": {
             "outlinewidth": 0,
             "ticks": ""
            },
            "colorscale": [
             [
              0,
              "#0d0887"
             ],
             [
              0.1111111111111111,
              "#46039f"
             ],
             [
              0.2222222222222222,
              "#7201a8"
             ],
             [
              0.3333333333333333,
              "#9c179e"
             ],
             [
              0.4444444444444444,
              "#bd3786"
             ],
             [
              0.5555555555555556,
              "#d8576b"
             ],
             [
              0.6666666666666666,
              "#ed7953"
             ],
             [
              0.7777777777777778,
              "#fb9f3a"
             ],
             [
              0.8888888888888888,
              "#fdca26"
             ],
             [
              1,
              "#f0f921"
             ]
            ],
            "type": "histogram2d"
           }
          ],
          "histogram2dcontour": [
           {
            "colorbar": {
             "outlinewidth": 0,
             "ticks": ""
            },
            "colorscale": [
             [
              0,
              "#0d0887"
             ],
             [
              0.1111111111111111,
              "#46039f"
             ],
             [
              0.2222222222222222,
              "#7201a8"
             ],
             [
              0.3333333333333333,
              "#9c179e"
             ],
             [
              0.4444444444444444,
              "#bd3786"
             ],
             [
              0.5555555555555556,
              "#d8576b"
             ],
             [
              0.6666666666666666,
              "#ed7953"
             ],
             [
              0.7777777777777778,
              "#fb9f3a"
             ],
             [
              0.8888888888888888,
              "#fdca26"
             ],
             [
              1,
              "#f0f921"
             ]
            ],
            "type": "histogram2dcontour"
           }
          ],
          "mesh3d": [
           {
            "colorbar": {
             "outlinewidth": 0,
             "ticks": ""
            },
            "type": "mesh3d"
           }
          ],
          "parcoords": [
           {
            "line": {
             "colorbar": {
              "outlinewidth": 0,
              "ticks": ""
             }
            },
            "type": "parcoords"
           }
          ],
          "pie": [
           {
            "automargin": true,
            "type": "pie"
           }
          ],
          "scatter": [
           {
            "fillpattern": {
             "fillmode": "overlay",
             "size": 10,
             "solidity": 0.2
            },
            "type": "scatter"
           }
          ],
          "scatter3d": [
           {
            "line": {
             "colorbar": {
              "outlinewidth": 0,
              "ticks": ""
             }
            },
            "marker": {
             "colorbar": {
              "outlinewidth": 0,
              "ticks": ""
             }
            },
            "type": "scatter3d"
           }
          ],
          "scattercarpet": [
           {
            "marker": {
             "colorbar": {
              "outlinewidth": 0,
              "ticks": ""
             }
            },
            "type": "scattercarpet"
           }
          ],
          "scattergeo": [
           {
            "marker": {
             "colorbar": {
              "outlinewidth": 0,
              "ticks": ""
             }
            },
            "type": "scattergeo"
           }
          ],
          "scattergl": [
           {
            "marker": {
             "colorbar": {
              "outlinewidth": 0,
              "ticks": ""
             }
            },
            "type": "scattergl"
           }
          ],
          "scattermap": [
           {
            "marker": {
             "colorbar": {
              "outlinewidth": 0,
              "ticks": ""
             }
            },
            "type": "scattermap"
           }
          ],
          "scattermapbox": [
           {
            "marker": {
             "colorbar": {
              "outlinewidth": 0,
              "ticks": ""
             }
            },
            "type": "scattermapbox"
           }
          ],
          "scatterpolar": [
           {
            "marker": {
             "colorbar": {
              "outlinewidth": 0,
              "ticks": ""
             }
            },
            "type": "scatterpolar"
           }
          ],
          "scatterpolargl": [
           {
            "marker": {
             "colorbar": {
              "outlinewidth": 0,
              "ticks": ""
             }
            },
            "type": "scatterpolargl"
           }
          ],
          "scatterternary": [
           {
            "marker": {
             "colorbar": {
              "outlinewidth": 0,
              "ticks": ""
             }
            },
            "type": "scatterternary"
           }
          ],
          "surface": [
           {
            "colorbar": {
             "outlinewidth": 0,
             "ticks": ""
            },
            "colorscale": [
             [
              0,
              "#0d0887"
             ],
             [
              0.1111111111111111,
              "#46039f"
             ],
             [
              0.2222222222222222,
              "#7201a8"
             ],
             [
              0.3333333333333333,
              "#9c179e"
             ],
             [
              0.4444444444444444,
              "#bd3786"
             ],
             [
              0.5555555555555556,
              "#d8576b"
             ],
             [
              0.6666666666666666,
              "#ed7953"
             ],
             [
              0.7777777777777778,
              "#fb9f3a"
             ],
             [
              0.8888888888888888,
              "#fdca26"
             ],
             [
              1,
              "#f0f921"
             ]
            ],
            "type": "surface"
           }
          ],
          "table": [
           {
            "cells": {
             "fill": {
              "color": "#EBF0F8"
             },
             "line": {
              "color": "white"
             }
            },
            "header": {
             "fill": {
              "color": "#C8D4E3"
             },
             "line": {
              "color": "white"
             }
            },
            "type": "table"
           }
          ]
         },
         "layout": {
          "annotationdefaults": {
           "arrowcolor": "#2a3f5f",
           "arrowhead": 0,
           "arrowwidth": 1
          },
          "autotypenumbers": "strict",
          "coloraxis": {
           "colorbar": {
            "outlinewidth": 0,
            "ticks": ""
           }
          },
          "colorscale": {
           "diverging": [
            [
             0,
             "#8e0152"
            ],
            [
             0.1,
             "#c51b7d"
            ],
            [
             0.2,
             "#de77ae"
            ],
            [
             0.3,
             "#f1b6da"
            ],
            [
             0.4,
             "#fde0ef"
            ],
            [
             0.5,
             "#f7f7f7"
            ],
            [
             0.6,
             "#e6f5d0"
            ],
            [
             0.7,
             "#b8e186"
            ],
            [
             0.8,
             "#7fbc41"
            ],
            [
             0.9,
             "#4d9221"
            ],
            [
             1,
             "#276419"
            ]
           ],
           "sequential": [
            [
             0,
             "#0d0887"
            ],
            [
             0.1111111111111111,
             "#46039f"
            ],
            [
             0.2222222222222222,
             "#7201a8"
            ],
            [
             0.3333333333333333,
             "#9c179e"
            ],
            [
             0.4444444444444444,
             "#bd3786"
            ],
            [
             0.5555555555555556,
             "#d8576b"
            ],
            [
             0.6666666666666666,
             "#ed7953"
            ],
            [
             0.7777777777777778,
             "#fb9f3a"
            ],
            [
             0.8888888888888888,
             "#fdca26"
            ],
            [
             1,
             "#f0f921"
            ]
           ],
           "sequentialminus": [
            [
             0,
             "#0d0887"
            ],
            [
             0.1111111111111111,
             "#46039f"
            ],
            [
             0.2222222222222222,
             "#7201a8"
            ],
            [
             0.3333333333333333,
             "#9c179e"
            ],
            [
             0.4444444444444444,
             "#bd3786"
            ],
            [
             0.5555555555555556,
             "#d8576b"
            ],
            [
             0.6666666666666666,
             "#ed7953"
            ],
            [
             0.7777777777777778,
             "#fb9f3a"
            ],
            [
             0.8888888888888888,
             "#fdca26"
            ],
            [
             1,
             "#f0f921"
            ]
           ]
          },
          "colorway": [
           "#636efa",
           "#EF553B",
           "#00cc96",
           "#ab63fa",
           "#FFA15A",
           "#19d3f3",
           "#FF6692",
           "#B6E880",
           "#FF97FF",
           "#FECB52"
          ],
          "font": {
           "color": "#2a3f5f"
          },
          "geo": {
           "bgcolor": "white",
           "lakecolor": "white",
           "landcolor": "white",
           "showlakes": true,
           "showland": true,
           "subunitcolor": "#C8D4E3"
          },
          "hoverlabel": {
           "align": "left"
          },
          "hovermode": "closest",
          "mapbox": {
           "style": "light"
          },
          "paper_bgcolor": "white",
          "plot_bgcolor": "white",
          "polar": {
           "angularaxis": {
            "gridcolor": "#EBF0F8",
            "linecolor": "#EBF0F8",
            "ticks": ""
           },
           "bgcolor": "white",
           "radialaxis": {
            "gridcolor": "#EBF0F8",
            "linecolor": "#EBF0F8",
            "ticks": ""
           }
          },
          "scene": {
           "xaxis": {
            "backgroundcolor": "white",
            "gridcolor": "#DFE8F3",
            "gridwidth": 2,
            "linecolor": "#EBF0F8",
            "showbackground": true,
            "ticks": "",
            "zerolinecolor": "#EBF0F8"
           },
           "yaxis": {
            "backgroundcolor": "white",
            "gridcolor": "#DFE8F3",
            "gridwidth": 2,
            "linecolor": "#EBF0F8",
            "showbackground": true,
            "ticks": "",
            "zerolinecolor": "#EBF0F8"
           },
           "zaxis": {
            "backgroundcolor": "white",
            "gridcolor": "#DFE8F3",
            "gridwidth": 2,
            "linecolor": "#EBF0F8",
            "showbackground": true,
            "ticks": "",
            "zerolinecolor": "#EBF0F8"
           }
          },
          "shapedefaults": {
           "line": {
            "color": "#2a3f5f"
           }
          },
          "ternary": {
           "aaxis": {
            "gridcolor": "#DFE8F3",
            "linecolor": "#A2B1C6",
            "ticks": ""
           },
           "baxis": {
            "gridcolor": "#DFE8F3",
            "linecolor": "#A2B1C6",
            "ticks": ""
           },
           "bgcolor": "white",
           "caxis": {
            "gridcolor": "#DFE8F3",
            "linecolor": "#A2B1C6",
            "ticks": ""
           }
          },
          "title": {
           "x": 0.05
          },
          "xaxis": {
           "automargin": true,
           "gridcolor": "#EBF0F8",
           "linecolor": "#EBF0F8",
           "ticks": "",
           "title": {
            "standoff": 15
           },
           "zerolinecolor": "#EBF0F8",
           "zerolinewidth": 2
          },
          "yaxis": {
           "automargin": true,
           "gridcolor": "#EBF0F8",
           "linecolor": "#EBF0F8",
           "ticks": "",
           "title": {
            "standoff": 15
           },
           "zerolinecolor": "#EBF0F8",
           "zerolinewidth": 2
          }
         }
        },
        "title": {
         "text": "Effect of latent dimension k on MovieLens-100k (Train RMSE)"
        },
        "width": 800,
        "xaxis": {
         "title": {
          "text": "Latent dimension  k"
         }
        },
        "yaxis": {
         "title": {
          "text": "Train RMSE (on training set)"
         }
        }
       }
      }
     },
     "metadata": {},
     "output_type": "display_data"
    }
   ],
   "source": [
    "# --- Test RMSE plot ---\n",
    "fig_test = go.Figure()\n",
    "for name, scores in results_dict.items():\n",
    "    ks   = sorted(scores)\n",
    "    rms  = [scores[k]['test'] for k in ks]\n",
    "    fig_test.add_trace(\n",
    "        go.Scatter(\n",
    "            x = ks,\n",
    "            y = rms,\n",
    "            mode = \"lines+markers\",\n",
    "            name = name,\n",
    "            hovertemplate = (\n",
    "                \"<b>%{meta}</b><br>\"\n",
    "                \"k = %{x}<br>\"\n",
    "                \"Test RMSE = %{y:.4f}<extra></extra>\"\n",
    "            ),\n",
    "            meta = name,\n",
    "            marker = dict(size=8)\n",
    "        )\n",
    "    )\n",
    "fig_test.update_layout(\n",
    "    title = \"Effect of latent dimension k on MovieLens-100k (Test RMSE)\",\n",
    "    xaxis_title = \"Latent dimension  k\",\n",
    "    yaxis_title = \"Test RMSE (10 % hold-out test set)\",\n",
    "    template    = \"plotly_white\",\n",
    "    legend_title = \"Approach\",\n",
    "    hovermode   = \"closest\",\n",
    "    width       = 800,\n",
    "    height      = 500,\n",
    ")\n",
    "\n",
    "# --- Train RMSE plot ---\n",
    "fig_train = go.Figure()\n",
    "for name, scores in results_dict.items():\n",
    "    ks   = sorted(scores)\n",
    "    rms  = [scores[k]['train'] for k in ks]\n",
    "    fig_train.add_trace(\n",
    "        go.Scatter(\n",
    "            x = ks,\n",
    "            y = rms,\n",
    "            mode = \"lines+markers\",\n",
    "            name = name,\n",
    "            hovertemplate = (\n",
    "                \"<b>%{meta}</b><br>\"\n",
    "                \"k = %{x}<br>\"\n",
    "                \"Train RMSE = %{y:.4f}<extra></extra>\"\n",
    "            ),\n",
    "            meta = name,\n",
    "            marker = dict(size=8)\n",
    "        )\n",
    "    )\n",
    "fig_train.update_layout(\n",
    "    title = \"Effect of latent dimension k on MovieLens-100k (Train RMSE)\",\n",
    "    xaxis_title = \"Latent dimension  k\",\n",
    "    yaxis_title = \"Train RMSE (on training set)\",\n",
    "    template    = \"plotly_white\",\n",
    "    legend_title = \"Approach\",\n",
    "    hovermode   = \"closest\",\n",
    "    width       = 800,\n",
    "    height      = 500,\n",
    ")\n",
    "\n",
    "# Show both figures\n",
    "fig_test.show()\n",
    "fig_train.show()\n"
   ]
  },
  {
   "cell_type": "code",
   "execution_count": 103,
   "id": "1a05ba0f",
   "metadata": {},
   "outputs": [],
   "source": [
    "fig_test.write_html(\"rmse_vs_k.html\", include_plotlyjs=\"cdn\")"
   ]
  },
  {
   "cell_type": "markdown",
   "id": "6d7172b0",
   "metadata": {},
   "source": [
    "### inspect Q and P_t"
   ]
  },
  {
   "cell_type": "code",
   "execution_count": 104,
   "id": "14218b1b",
   "metadata": {},
   "outputs": [
    {
     "name": "stdout",
     "output_type": "stream",
     "text": [
      "Baseline‐only RMSE         = 0.9708\n",
      "Bias + Residual‐SVD RMSE   = 0.9358\n",
      "A   (items × users)   = (1667, 943)\n",
      "Q   (items × factors) = (1667, 10)\n",
      "Pᵀ  (factors × users) = (10, 943)\n"
     ]
    }
   ],
   "source": [
    "from scipy.sparse.linalg import svds\n",
    "import numpy as np\n",
    "\n",
    "# ------------------------\n",
    "# 1. Baselines: μ, b_u, b_i\n",
    "# ------------------------\n",
    "\n",
    "# Global mean rating\n",
    "mu = train_df['rating'].mean()\n",
    "\n",
    "# User‐bias b_u (length = #users)\n",
    "user_mean = train_df.groupby('user_id')['rating'].mean()\n",
    "b_u = (user_mean - mu).reindex(user_uniques).fillna(0.0).to_numpy()\n",
    "\n",
    "# Item‐bias b_i (length = #items)\n",
    "item_mean = train_df.groupby('item_id')['rating'].mean()\n",
    "b_i = (item_mean - mu).reindex(item_uniques).fillna(0.0).to_numpy()\n",
    "\n",
    "\n",
    "# --------------------------------------------------------\n",
    "# 2. Build “residual” matrix Rᵀ (rows = items, cols = users)\n",
    "# --------------------------------------------------------\n",
    "\n",
    "# Convert the sparse train_matrix (users × items) to dense and transpose:\n",
    "#   R  (users × items)  →  Rᵀ (items × users)\n",
    "residual = train_matrix.toarray().astype(np.float32).T\n",
    "\n",
    "# Subtract (μ + b_u[u] + b_i[i]) on each observed entry (u, i).\n",
    "users_idx, items_idx = train_matrix.nonzero()\n",
    "residual[items_idx, users_idx] -= (mu + b_u[users_idx] + b_i[items_idx])\n",
    "\n",
    "\n",
    "# ---------------------------------------------\n",
    "# 3. Compute rank‐k SVD on Rᵀ = U Σ Vᵀ (items × users)\n",
    "# ---------------------------------------------\n",
    "\n",
    "k = 10  # latent dimension\n",
    "\n",
    "# U: (n_items × k), S: (k,), Vt: (k × n_users)\n",
    "U, S, Vt = svds(residual, k=k)\n",
    "\n",
    "# Sort singular values in descending order, reorder U, S, Vt\n",
    "order = np.argsort(-S)\n",
    "U, S, Vt = U[:, order], S[order], Vt[order, :]\n",
    "\n",
    "# Reconstruct the low‐rank residual (optional check):\n",
    "# R_hat = U @ np.diag(S) @ Vt   # shape: (n_items × n_users)\n",
    "\n",
    "\n",
    "# ---------------------------------------------------\n",
    "# 4. Assign A, Q, and Pᵀ to match “R ≈ Q · Pᵀ” diagram\n",
    "# ---------------------------------------------------\n",
    "\n",
    "# According to the diagram:\n",
    "#   A  = R   (here: R ≡ residual, shape = items × users)\n",
    "A = residual\n",
    "\n",
    "#   Q  = U   (items × k)\n",
    "Q = U\n",
    "\n",
    "#   Pᵀ = Σ · Vᵀ   (shape = k × users)\n",
    "P_t = np.diag(S) @ Vt   # (k × n_users)\n",
    "\n",
    "# Verify that A ≈ Q @ Pᵀ:\n",
    "#   A_hat = Q @ P_t       # (n_items × n_users)\n",
    "# If you want to check reconstruction error:\n",
    "# A_hat = Q @ P_t\n",
    "# print(\"Reconstruction error:\", np.linalg.norm(A - A_hat))\n",
    "\n",
    "\n",
    "# --------------------------------------------\n",
    "# 5. Build full “user × item” prediction matrix\n",
    "# --------------------------------------------\n",
    "\n",
    "# We have:\n",
    "#   Q (items × k)\n",
    "#   P_t (k × users)\n",
    "# ⇒   P   = (P_t)ᵀ  (users × k)\n",
    "\n",
    "P = P_t.T  # shape: (n_users × k)\n",
    "\n",
    "# Now reconstruct the residual for each (user, item) as:\n",
    "#   residual_hat[u, i] = (Q[i, :] · P[u, :])\n",
    "# We can form a full matrix by taking (P @ Qᵀ)ᵀ, but here we’ll do it elementwise:\n",
    "\n",
    "# ‣ Full “users × items” residual matrix:\n",
    "residual_hat_T = (P @ Q.T)  # shape: (n_users × n_items)\n",
    "\n",
    "# Compose the baseline + residual:\n",
    "#   pred_full[u, i] = μ + b_u[u] + b_i[i] + residual_hat_T[u, i]\n",
    "pred_matrix = (\n",
    "    mu\n",
    "    + b_u[:, None]     # broadcast to (n_users × 1)\n",
    "    + b_i[None, :]     # broadcast to (1 × n_items)\n",
    "    + residual_hat_T   # (n_users × n_items)\n",
    ")\n",
    "\n",
    "# Clip predictions into valid rating range [1, 5]:\n",
    "pred_clipped = np.clip(pred_matrix, 1.0, 5.0)\n",
    "\n",
    "\n",
    "# --------------------------------------------\n",
    "# 6. Evaluate on held‐out test set\n",
    "# --------------------------------------------\n",
    "\n",
    "# test_rows, test_cols: arrays of user‐indices and item‐indices for test entries\n",
    "# test_ratings: array of ground‐truth ratings\n",
    "\n",
    "# (a) Bias‐only RMSE\n",
    "rmse_bias_only = np.sqrt(\n",
    "    np.mean(\n",
    "        ( (mu + b_u[test_rows] + b_i[test_cols]) - test_ratings ) ** 2\n",
    "    )\n",
    ")\n",
    "\n",
    "# (b) Bias + Residual‐SVD RMSE\n",
    "preds_test = pred_clipped[test_rows, test_cols]\n",
    "rmse_bias_svd = np.sqrt(np.mean((preds_test - test_ratings) ** 2))\n",
    "\n",
    "print(f\"Baseline‐only RMSE         = {rmse_bias_only:.4f}\")\n",
    "print(f\"Bias + Residual‐SVD RMSE   = {rmse_bias_svd:.4f}\")\n",
    "\n",
    "\n",
    "# --------------------------------------------\n",
    "# 7. Print shapes to confirm A, Q, Pᵀ\n",
    "# --------------------------------------------\n",
    "\n",
    "print(f\"A   (items × users)   = {A.shape}\")\n",
    "print(f\"Q   (items × factors) = {Q.shape}\")\n",
    "print(f\"Pᵀ  (factors × users) = {P_t.shape}\")\n"
   ]
  },
  {
   "cell_type": "markdown",
   "id": "03f29091",
   "metadata": {},
   "source": [
    "#### Energy and Explained Variance"
   ]
  },
  {
   "cell_type": "code",
   "execution_count": 105,
   "id": "e7dee8c6",
   "metadata": {},
   "outputs": [
    {
     "name": "stdout",
     "output_type": "stream",
     "text": [
      "Computing full SVD of residual …\n",
      "r =   1 | cum-var = 0.025 | RMSE = 0.9553\n",
      "r =   2 | cum-var = 0.043 | RMSE = 0.9495\n",
      "r =   3 | cum-var = 0.058 | RMSE = 0.9462\n",
      "r =   5 | cum-var = 0.082 | RMSE = 0.9420\n",
      "r =  10 | cum-var = 0.128 | RMSE = 0.9358\n",
      "r =  15 | cum-var = 0.167 | RMSE = 0.9359\n",
      "r =  20 | cum-var = 0.202 | RMSE = 0.9376\n",
      "r =  30 | cum-var = 0.264 | RMSE = 0.9403\n",
      "r =  40 | cum-var = 0.319 | RMSE = 0.9441\n",
      "r =  50 | cum-var = 0.367 | RMSE = 0.9465\n",
      "r =  75 | cum-var = 0.470 | RMSE = 0.9500\n",
      "r = 100 | cum-var = 0.553 | RMSE = 0.9541\n"
     ]
    },
    {
     "data": {
      "image/png": "[encoded data removed]",
      "text/plain": [
       "<Figure size 1500x400 with 3 Axes>"
      ]
     },
     "metadata": {},
     "output_type": "display_data"
    }
   ],
   "source": [
    "# ============================================================\n",
    "# SECTION 1 – Energy & Truncation Experiments\n",
    "# ------------------------------------------------------------\n",
    "#  • per-component explained-variance ratio  (σ² / Σσ²)\n",
    "#  • cumulative explained variance\n",
    "#  • test-set RMSE vs rank\n",
    "# ============================================================\n",
    "\n",
    "import numpy as np\n",
    "from numpy.linalg import svd\n",
    "import matplotlib.pyplot as plt\n",
    "\n",
    "# ------------------------------------------------------------\n",
    "# 1.1  Full SVD\n",
    "# ------------------------------------------------------------\n",
    "print(\"Computing full SVD of residual …\")\n",
    "U_full, S_full, Vt_full = svd(residual.T, full_matrices=False)\n",
    "m = len(S_full)                       # m = min(n_items, n_users)\n",
    "\n",
    "# ------------------------------------------------------------\n",
    "# 1.2  Variance metrics\n",
    "# ------------------------------------------------------------\n",
    "energy_total          = np.sum(S_full**2)        # Σσ²  (total variance)\n",
    "var_ratio             = (S_full**2) / energy_total        # per-component\n",
    "cum_var_ratio         = np.cumsum(var_ratio)              # cumulative\n",
    "\n",
    "# ------------------------------------------------------------\n",
    "# 1.3  Evaluate RMSE vs rank r\n",
    "# ------------------------------------------------------------\n",
    "r_values   = [1, 2, 3, 5, 10, 15, 20, 30, 40, 50, 75, 100]\n",
    "rmse_vs_r  = []\n",
    "\n",
    "for r in r_values:\n",
    "    if r > m:\n",
    "        break\n",
    "\n",
    "    Q_r = U_full[:, :r] # items × factors\n",
    "    P_t = np.diag(S_full[:r]) @ Vt_full[:r, :] # factors × users\n",
    "\n",
    "    residual_hat_T = Q_r @ P_t\n",
    "    preds_full = (\n",
    "        mu + b_u[:, None] + b_i[None, :] + residual_hat_T\n",
    "    )\n",
    "    preds_full = np.clip(preds_full, 1., 5.)\n",
    "    preds_test = preds_full[test_rows, test_cols]\n",
    "    rmse_r     = np.sqrt(np.mean((preds_test - test_ratings) ** 2))\n",
    "    rmse_vs_r.append(rmse_r)\n",
    "\n",
    "    print(f\"r = {r:3d} | \"\n",
    "          f\"cum-var = {cum_var_ratio[r-1]:.3f} | \"\n",
    "          f\"RMSE = {rmse_r:.4f}\")\n",
    "\n",
    "# ------------------------------------------------------------\n",
    "# 1.4  Plots\n",
    "# ------------------------------------------------------------\n",
    "fig, ax = plt.subplots(1, 3, figsize=(15, 4))\n",
    "\n",
    "# (a) Per-component explained variance\n",
    "ax[0].plot(np.arange(1, m+1), var_ratio, marker='.')\n",
    "ax[0].set_xlabel(\"component index\")\n",
    "ax[0].set_ylabel(\"explained variance ratio\")\n",
    "ax[0].set_title(\"Per-component variance share\")\n",
    "\n",
    "# (b) Cumulative explained variance\n",
    "ax[1].plot(np.arange(1, m+1), cum_var_ratio, marker='.')\n",
    "ax[1].set_xlabel(\"rank r\")\n",
    "ax[1].set_ylabel(\"cumulative explained variance\")\n",
    "ax[1].set_title(\"Cumulative variance explained\")\n",
    "\n",
    "# (c) RMSE vs rank\n",
    "ax[2].plot(r_values[:len(rmse_vs_r)], rmse_vs_r, marker='o')\n",
    "ax[2].set_xlabel(\"rank r\")\n",
    "ax[2].set_ylabel(\"Test RMSE\")\n",
    "ax[2].set_title(\"Generalisation vs rank\")\n",
    "\n",
    "plt.tight_layout()\n",
    "plt.show()\n"
   ]
  },
  {
   "cell_type": "code",
   "execution_count": 106,
   "id": "c6d72f87",
   "metadata": {},
   "outputs": [
    {
     "name": "stdout",
     "output_type": "stream",
     "text": [
      "Computing full SVD of residual …\n",
      "r =   1  |  energy = 0.025  |  RMSE = 0.9553\n",
      "r =   2  |  energy = 0.043  |  RMSE = 0.9495\n",
      "r =   3  |  energy = 0.058  |  RMSE = 0.9462\n",
      "r =   5  |  energy = 0.082  |  RMSE = 0.9420\n",
      "r =  10  |  energy = 0.128  |  RMSE = 0.9358\n",
      "r =  15  |  energy = 0.167  |  RMSE = 0.9359\n",
      "r =  20  |  energy = 0.202  |  RMSE = 0.9376\n",
      "r =  30  |  energy = 0.264  |  RMSE = 0.9403\n",
      "r =  40  |  energy = 0.319  |  RMSE = 0.9441\n",
      "r =  50  |  energy = 0.367  |  RMSE = 0.9465\n",
      "r =  75  |  energy = 0.470  |  RMSE = 0.9500\n",
      "r = 100  |  energy = 0.553  |  RMSE = 0.9541\n"
     ]
    },
    {
     "data": {
      "image/png": "[encoded data removed]",
      "text/plain": [
       "<Figure size 1000x400 with 2 Axes>"
      ]
     },
     "metadata": {},
     "output_type": "display_data"
    }
   ],
   "source": [
    "# ============================================================\n",
    "# SECTION 1 – Energy & Truncation Experiments\n",
    "# ------------------------------------------------------------\n",
    "#  • How much Frobenius energy is captured by the first r\n",
    "#    singular values?\n",
    "#  • How does test-set RMSE vary with r?\n",
    "# ============================================================\n",
    "\n",
    "import numpy as np\n",
    "from numpy.linalg import svd          # dense SVD (fits ML-100K fine)\n",
    "# If you expect a much larger matrix, switch to svds + choose\n",
    "#   a reasonably large k_max instead of full SVD.\n",
    "\n",
    "# ------------------------------------------------------------\n",
    "# 1.1  Full SVD  (U_full: items×m,  S_full: m,  Vt_full: m×users)\n",
    "# ------------------------------------------------------------\n",
    "print(\"Computing full SVD of residual …\")\n",
    "U_full, S_full, Vt_full = svd(residual.T, full_matrices=False)\n",
    "m = len(S_full)                       # m = min(n_items, n_users)\n",
    "\n",
    "# ------------------------------------------------------------\n",
    "# 1.2  Cumulative energy curve\n",
    "# ------------------------------------------------------------\n",
    "energy_total      = np.sum(S_full**2)           # ‖Σ‖_F²\n",
    "cum_energy_ratio  = np.cumsum(S_full**2) / energy_total  # length m\n",
    "\n",
    "# ------------------------------------------------------------\n",
    "# 1.3  Evaluate RMSE vs rank r\n",
    "# ------------------------------------------------------------\n",
    "# Choose the r values you want to inspect.\n",
    "r_values = [1, 2, 3, 5, 10, 15, 20, 30, 40, 50, 75, 100]\n",
    "\n",
    "rmse_vs_r = []\n",
    "\n",
    "for r in r_values:\n",
    "    if r > m:          # guard against asking for more than m factors\n",
    "        break\n",
    "\n",
    "    # --- low-rank factors ----------------------------------\n",
    "    Q_r = U_full[:, :r] # items × factors\n",
    "    P_t = np.diag(S_full[:r]) @ Vt_full[:r, :] # factors × users\n",
    "\n",
    "    # --- predict residual on *all* (u,i) -------------------\n",
    "    residual_hat_T = Q_r @ P_t\n",
    "\n",
    "    # --- full prediction matrix ----------------------------\n",
    "    preds_full = (\n",
    "        mu\n",
    "        + b_u[:, None]\n",
    "        + b_i[None, :]\n",
    "        + residual_hat_T\n",
    "    )\n",
    "    preds_full = np.clip(preds_full, 1., 5.)     # [1,5] domain\n",
    "\n",
    "    # --- RMSE on held-out test -----------------------------\n",
    "    preds_test = preds_full[test_rows, test_cols]\n",
    "    rmse_r     = np.sqrt(np.mean((preds_test - test_ratings) ** 2))\n",
    "    rmse_vs_r.append(rmse_r)\n",
    "\n",
    "    print(f\"r = {r:3d}  |  energy = {cum_energy_ratio[r-1]:.3f}  |  RMSE = {rmse_r:.4f}\")\n",
    "\n",
    "# ------------------------------------------------------------\n",
    "# 1.4  Optional: quick Matplotlib plots\n",
    "# ------------------------------------------------------------\n",
    "import matplotlib.pyplot as plt\n",
    "\n",
    "fig, ax = plt.subplots(1, 2, figsize=(10, 4))\n",
    "\n",
    "# (a) Energy curve\n",
    "ax[0].plot(np.arange(1, m+1), cum_energy_ratio, marker='.')\n",
    "ax[0].set_xlabel(\"rank r\")\n",
    "ax[0].set_ylabel(\"cumulative energy ratio\")\n",
    "ax[0].set_title(\"Explained Frobenius energy\")\n",
    "\n",
    "# (b) RMSE curve\n",
    "ax[1].plot(r_values[:len(rmse_vs_r)], rmse_vs_r, marker='o')\n",
    "ax[1].set_xlabel(\"rank r\")\n",
    "ax[1].set_ylabel(\"Test RMSE\")\n",
    "ax[1].set_title(\"Generalisation vs rank\")\n",
    "\n",
    "plt.tight_layout()\n",
    "plt.show()\n"
   ]
  },
  {
   "cell_type": "markdown",
   "id": "21f6c4fd",
   "metadata": {},
   "source": [
    "### Latent factor interpretation"
   ]
  },
  {
   "cell_type": "code",
   "execution_count": 107,
   "id": "e9e73b96",
   "metadata": {},
   "outputs": [
    {
     "name": "stdout",
     "output_type": "stream",
     "text": [
      "\n",
      "============================================================\n",
      "Factor 1/10\n",
      "------------------------------------------------------------\n",
      "▶ Highest-loading movies\n"
     ]
    },
    {
     "data": {
      "text/html": [
       "<div>\n",
       "<style scoped>\n",
       "    .dataframe tbody tr th:only-of-type {\n",
       "        vertical-align: middle;\n",
       "    }\n",
       "\n",
       "    .dataframe tbody tr th {\n",
       "        vertical-align: top;\n",
       "    }\n",
       "\n",
       "    .dataframe thead th {\n",
       "        text-align: right;\n",
       "    }\n",
       "</style>\n",
       "<table border=\"1\" class=\"dataframe\">\n",
       "  <thead>\n",
       "    <tr style=\"text-align: right;\">\n",
       "      <th></th>\n",
       "      <th>title</th>\n",
       "      <th>rating_count</th>\n",
       "      <th>mean_rating</th>\n",
       "      <th>year</th>\n",
       "      <th>weight</th>\n",
       "    </tr>\n",
       "  </thead>\n",
       "  <tbody>\n",
       "    <tr>\n",
       "      <th>470</th>\n",
       "      <td>Tombstone (1993)</td>\n",
       "      <td>98</td>\n",
       "      <td>3.663265</td>\n",
       "      <td>1993.0</td>\n",
       "      <td>0.081069</td>\n",
       "    </tr>\n",
       "    <tr>\n",
       "      <th>304</th>\n",
       "      <td>Fly Away Home (1996)</td>\n",
       "      <td>135</td>\n",
       "      <td>3.533333</td>\n",
       "      <td>1996.0</td>\n",
       "      <td>0.063756</td>\n",
       "    </tr>\n",
       "    <tr>\n",
       "      <th>269</th>\n",
       "      <td>Full Monty, The (1997)</td>\n",
       "      <td>282</td>\n",
       "      <td>3.936170</td>\n",
       "      <td>1997.0</td>\n",
       "      <td>0.062247</td>\n",
       "    </tr>\n",
       "    <tr>\n",
       "      <th>669</th>\n",
       "      <td>Body Parts (1991)</td>\n",
       "      <td>13</td>\n",
       "      <td>1.615385</td>\n",
       "      <td>1991.0</td>\n",
       "      <td>0.058265</td>\n",
       "    </tr>\n",
       "    <tr>\n",
       "      <th>336</th>\n",
       "      <td>Playing God (1997)</td>\n",
       "      <td>39</td>\n",
       "      <td>2.564103</td>\n",
       "      <td>1997.0</td>\n",
       "      <td>0.055559</td>\n",
       "    </tr>\n",
       "    <tr>\n",
       "      <th>483</th>\n",
       "      <td>Casablanca (1942)</td>\n",
       "      <td>219</td>\n",
       "      <td>4.465753</td>\n",
       "      <td>1942.0</td>\n",
       "      <td>0.052785</td>\n",
       "    </tr>\n",
       "    <tr>\n",
       "      <th>395</th>\n",
       "      <td>Robin Hood: Men in Tights (1993)</td>\n",
       "      <td>51</td>\n",
       "      <td>2.549020</td>\n",
       "      <td>1993.0</td>\n",
       "      <td>0.046803</td>\n",
       "    </tr>\n",
       "    <tr>\n",
       "      <th>624</th>\n",
       "      <td>Three Caballeros, The (1945)</td>\n",
       "      <td>19</td>\n",
       "      <td>3.473684</td>\n",
       "      <td>1945.0</td>\n",
       "      <td>0.046186</td>\n",
       "    </tr>\n",
       "    <tr>\n",
       "      <th>199</th>\n",
       "      <td>Bridge on the River Kwai, The (1957)</td>\n",
       "      <td>152</td>\n",
       "      <td>4.184211</td>\n",
       "      <td>1957.0</td>\n",
       "      <td>0.044297</td>\n",
       "    </tr>\n",
       "    <tr>\n",
       "      <th>106</th>\n",
       "      <td>Diabolique (1996)</td>\n",
       "      <td>62</td>\n",
       "      <td>2.854839</td>\n",
       "      <td>1996.0</td>\n",
       "      <td>0.043640</td>\n",
       "    </tr>\n",
       "  </tbody>\n",
       "</table>\n",
       "</div>"
      ],
      "text/plain": [
       "                                    title  rating_count  mean_rating    year  \\\n",
       "470                      Tombstone (1993)            98     3.663265  1993.0   \n",
       "304                  Fly Away Home (1996)           135     3.533333  1996.0   \n",
       "269                Full Monty, The (1997)           282     3.936170  1997.0   \n",
       "669                     Body Parts (1991)            13     1.615385  1991.0   \n",
       "336                    Playing God (1997)            39     2.564103  1997.0   \n",
       "483                     Casablanca (1942)           219     4.465753  1942.0   \n",
       "395      Robin Hood: Men in Tights (1993)            51     2.549020  1993.0   \n",
       "624          Three Caballeros, The (1945)            19     3.473684  1945.0   \n",
       "199  Bridge on the River Kwai, The (1957)           152     4.184211  1957.0   \n",
       "106                     Diabolique (1996)            62     2.854839  1996.0   \n",
       "\n",
       "       weight  \n",
       "470  0.081069  \n",
       "304  0.063756  \n",
       "269  0.062247  \n",
       "669  0.058265  \n",
       "336  0.055559  \n",
       "483  0.052785  \n",
       "395  0.046803  \n",
       "624  0.046186  \n",
       "199  0.044297  \n",
       "106  0.043640  "
      ]
     },
     "metadata": {},
     "output_type": "display_data"
    },
    {
     "name": "stdout",
     "output_type": "stream",
     "text": [
      "\n",
      "▶ Lowest-loading movies\n"
     ]
    },
    {
     "data": {
      "text/html": [
       "<div>\n",
       "<style scoped>\n",
       "    .dataframe tbody tr th:only-of-type {\n",
       "        vertical-align: middle;\n",
       "    }\n",
       "\n",
       "    .dataframe tbody tr th {\n",
       "        vertical-align: top;\n",
       "    }\n",
       "\n",
       "    .dataframe thead th {\n",
       "        text-align: right;\n",
       "    }\n",
       "</style>\n",
       "<table border=\"1\" class=\"dataframe\">\n",
       "  <thead>\n",
       "    <tr style=\"text-align: right;\">\n",
       "      <th></th>\n",
       "      <th>title</th>\n",
       "      <th>rating_count</th>\n",
       "      <th>mean_rating</th>\n",
       "      <th>year</th>\n",
       "      <th>weight</th>\n",
       "    </tr>\n",
       "  </thead>\n",
       "  <tbody>\n",
       "    <tr>\n",
       "      <th>380</th>\n",
       "      <td>Star Trek: Generations (1994)</td>\n",
       "      <td>101</td>\n",
       "      <td>3.277228</td>\n",
       "      <td>1994.0</td>\n",
       "      <td>-0.203162</td>\n",
       "    </tr>\n",
       "    <tr>\n",
       "      <th>48</th>\n",
       "      <td>Hoop Dreams (1994)</td>\n",
       "      <td>100</td>\n",
       "      <td>4.100000</td>\n",
       "      <td>1994.0</td>\n",
       "      <td>-0.160878</td>\n",
       "    </tr>\n",
       "    <tr>\n",
       "      <th>233</th>\n",
       "      <td>Under Siege (1992)</td>\n",
       "      <td>112</td>\n",
       "      <td>3.294643</td>\n",
       "      <td>1992.0</td>\n",
       "      <td>-0.153376</td>\n",
       "    </tr>\n",
       "    <tr>\n",
       "      <th>92</th>\n",
       "      <td>True Romance (1993)</td>\n",
       "      <td>94</td>\n",
       "      <td>3.627660</td>\n",
       "      <td>1993.0</td>\n",
       "      <td>-0.152422</td>\n",
       "    </tr>\n",
       "    <tr>\n",
       "      <th>460</th>\n",
       "      <td>Crossing Guard, The (1995)</td>\n",
       "      <td>27</td>\n",
       "      <td>3.074074</td>\n",
       "      <td>1995.0</td>\n",
       "      <td>-0.137468</td>\n",
       "    </tr>\n",
       "    <tr>\n",
       "      <th>328</th>\n",
       "      <td>Conspiracy Theory (1997)</td>\n",
       "      <td>271</td>\n",
       "      <td>3.413284</td>\n",
       "      <td>1997.0</td>\n",
       "      <td>-0.134420</td>\n",
       "    </tr>\n",
       "    <tr>\n",
       "      <th>145</th>\n",
       "      <td>Lawnmower Man, The (1992)</td>\n",
       "      <td>60</td>\n",
       "      <td>2.383333</td>\n",
       "      <td>1992.0</td>\n",
       "      <td>-0.125453</td>\n",
       "    </tr>\n",
       "    <tr>\n",
       "      <th>126</th>\n",
       "      <td>Spitfire Grill, The (1996)</td>\n",
       "      <td>82</td>\n",
       "      <td>3.939024</td>\n",
       "      <td>1996.0</td>\n",
       "      <td>-0.123076</td>\n",
       "    </tr>\n",
       "    <tr>\n",
       "      <th>215</th>\n",
       "      <td>Field of Dreams (1989)</td>\n",
       "      <td>195</td>\n",
       "      <td>3.697436</td>\n",
       "      <td>1989.0</td>\n",
       "      <td>-0.119414</td>\n",
       "    </tr>\n",
       "    <tr>\n",
       "      <th>54</th>\n",
       "      <td>Outbreak (1995)</td>\n",
       "      <td>95</td>\n",
       "      <td>3.221053</td>\n",
       "      <td>1995.0</td>\n",
       "      <td>-0.118934</td>\n",
       "    </tr>\n",
       "  </tbody>\n",
       "</table>\n",
       "</div>"
      ],
      "text/plain": [
       "                             title  rating_count  mean_rating    year  \\\n",
       "380  Star Trek: Generations (1994)           101     3.277228  1994.0   \n",
       "48              Hoop Dreams (1994)           100     4.100000  1994.0   \n",
       "233             Under Siege (1992)           112     3.294643  1992.0   \n",
       "92             True Romance (1993)            94     3.627660  1993.0   \n",
       "460     Crossing Guard, The (1995)            27     3.074074  1995.0   \n",
       "328       Conspiracy Theory (1997)           271     3.413284  1997.0   \n",
       "145      Lawnmower Man, The (1992)            60     2.383333  1992.0   \n",
       "126     Spitfire Grill, The (1996)            82     3.939024  1996.0   \n",
       "215         Field of Dreams (1989)           195     3.697436  1989.0   \n",
       "54                 Outbreak (1995)            95     3.221053  1995.0   \n",
       "\n",
       "       weight  \n",
       "380 -0.203162  \n",
       "48  -0.160878  \n",
       "233 -0.153376  \n",
       "92  -0.152422  \n",
       "460 -0.137468  \n",
       "328 -0.134420  \n",
       "145 -0.125453  \n",
       "126 -0.123076  \n",
       "215 -0.119414  \n",
       "54  -0.118934  "
      ]
     },
     "metadata": {},
     "output_type": "display_data"
    },
    {
     "name": "stdout",
     "output_type": "stream",
     "text": [
      "\n",
      "============================================================\n",
      "Factor 2/10\n",
      "------------------------------------------------------------\n",
      "▶ Highest-loading movies\n"
     ]
    },
    {
     "data": {
      "text/html": [
       "<div>\n",
       "<style scoped>\n",
       "    .dataframe tbody tr th:only-of-type {\n",
       "        vertical-align: middle;\n",
       "    }\n",
       "\n",
       "    .dataframe tbody tr th {\n",
       "        vertical-align: top;\n",
       "    }\n",
       "\n",
       "    .dataframe thead th {\n",
       "        text-align: right;\n",
       "    }\n",
       "</style>\n",
       "<table border=\"1\" class=\"dataframe\">\n",
       "  <thead>\n",
       "    <tr style=\"text-align: right;\">\n",
       "      <th></th>\n",
       "      <th>title</th>\n",
       "      <th>rating_count</th>\n",
       "      <th>mean_rating</th>\n",
       "      <th>year</th>\n",
       "      <th>weight</th>\n",
       "    </tr>\n",
       "  </thead>\n",
       "  <tbody>\n",
       "    <tr>\n",
       "      <th>199</th>\n",
       "      <td>Bridge on the River Kwai, The (1957)</td>\n",
       "      <td>152</td>\n",
       "      <td>4.184211</td>\n",
       "      <td>1957.0</td>\n",
       "      <td>0.208455</td>\n",
       "    </tr>\n",
       "    <tr>\n",
       "      <th>337</th>\n",
       "      <td>House of Yes, The (1997)</td>\n",
       "      <td>18</td>\n",
       "      <td>3.000000</td>\n",
       "      <td>1997.0</td>\n",
       "      <td>0.169287</td>\n",
       "    </tr>\n",
       "    <tr>\n",
       "      <th>174</th>\n",
       "      <td>Raiders of the Lost Ark (1981)</td>\n",
       "      <td>368</td>\n",
       "      <td>4.247283</td>\n",
       "      <td>1981.0</td>\n",
       "      <td>0.165029</td>\n",
       "    </tr>\n",
       "    <tr>\n",
       "      <th>395</th>\n",
       "      <td>Robin Hood: Men in Tights (1993)</td>\n",
       "      <td>51</td>\n",
       "      <td>2.549020</td>\n",
       "      <td>1993.0</td>\n",
       "      <td>0.147706</td>\n",
       "    </tr>\n",
       "    <tr>\n",
       "      <th>145</th>\n",
       "      <td>Lawnmower Man, The (1992)</td>\n",
       "      <td>60</td>\n",
       "      <td>2.383333</td>\n",
       "      <td>1992.0</td>\n",
       "      <td>0.140360</td>\n",
       "    </tr>\n",
       "    <tr>\n",
       "      <th>310</th>\n",
       "      <td>Rainmaker, The (1997)</td>\n",
       "      <td>124</td>\n",
       "      <td>3.596774</td>\n",
       "      <td>1997.0</td>\n",
       "      <td>0.134332</td>\n",
       "    </tr>\n",
       "    <tr>\n",
       "      <th>26</th>\n",
       "      <td>Brothers McMullen, The (1995)</td>\n",
       "      <td>62</td>\n",
       "      <td>3.467742</td>\n",
       "      <td>1995.0</td>\n",
       "      <td>0.130695</td>\n",
       "    </tr>\n",
       "    <tr>\n",
       "      <th>318</th>\n",
       "      <td>Schindler's List (1993)</td>\n",
       "      <td>273</td>\n",
       "      <td>4.498168</td>\n",
       "      <td>1993.0</td>\n",
       "      <td>0.108530</td>\n",
       "    </tr>\n",
       "    <tr>\n",
       "      <th>225</th>\n",
       "      <td>101 Dalmatians (1996)</td>\n",
       "      <td>96</td>\n",
       "      <td>2.916667</td>\n",
       "      <td>1996.0</td>\n",
       "      <td>0.106778</td>\n",
       "    </tr>\n",
       "    <tr>\n",
       "      <th>93</th>\n",
       "      <td>Welcome to the Dollhouse (1995)</td>\n",
       "      <td>107</td>\n",
       "      <td>3.747664</td>\n",
       "      <td>1995.0</td>\n",
       "      <td>0.099905</td>\n",
       "    </tr>\n",
       "  </tbody>\n",
       "</table>\n",
       "</div>"
      ],
      "text/plain": [
       "                                    title  rating_count  mean_rating    year  \\\n",
       "199  Bridge on the River Kwai, The (1957)           152     4.184211  1957.0   \n",
       "337              House of Yes, The (1997)            18     3.000000  1997.0   \n",
       "174        Raiders of the Lost Ark (1981)           368     4.247283  1981.0   \n",
       "395      Robin Hood: Men in Tights (1993)            51     2.549020  1993.0   \n",
       "145             Lawnmower Man, The (1992)            60     2.383333  1992.0   \n",
       "310                 Rainmaker, The (1997)           124     3.596774  1997.0   \n",
       "26          Brothers McMullen, The (1995)            62     3.467742  1995.0   \n",
       "318               Schindler's List (1993)           273     4.498168  1993.0   \n",
       "225                 101 Dalmatians (1996)            96     2.916667  1996.0   \n",
       "93        Welcome to the Dollhouse (1995)           107     3.747664  1995.0   \n",
       "\n",
       "       weight  \n",
       "199  0.208455  \n",
       "337  0.169287  \n",
       "174  0.165029  \n",
       "395  0.147706  \n",
       "145  0.140360  \n",
       "310  0.134332  \n",
       "26   0.130695  \n",
       "318  0.108530  \n",
       "225  0.106778  \n",
       "93   0.099905  "
      ]
     },
     "metadata": {},
     "output_type": "display_data"
    },
    {
     "name": "stdout",
     "output_type": "stream",
     "text": [
      "\n",
      "▶ Lowest-loading movies\n"
     ]
    },
    {
     "data": {
      "text/html": [
       "<div>\n",
       "<style scoped>\n",
       "    .dataframe tbody tr th:only-of-type {\n",
       "        vertical-align: middle;\n",
       "    }\n",
       "\n",
       "    .dataframe tbody tr th {\n",
       "        vertical-align: top;\n",
       "    }\n",
       "\n",
       "    .dataframe thead th {\n",
       "        text-align: right;\n",
       "    }\n",
       "</style>\n",
       "<table border=\"1\" class=\"dataframe\">\n",
       "  <thead>\n",
       "    <tr style=\"text-align: right;\">\n",
       "      <th></th>\n",
       "      <th>title</th>\n",
       "      <th>rating_count</th>\n",
       "      <th>mean_rating</th>\n",
       "      <th>year</th>\n",
       "      <th>weight</th>\n",
       "    </tr>\n",
       "  </thead>\n",
       "  <tbody>\n",
       "    <tr>\n",
       "      <th>380</th>\n",
       "      <td>Star Trek: Generations (1994)</td>\n",
       "      <td>101</td>\n",
       "      <td>3.277228</td>\n",
       "      <td>1994.0</td>\n",
       "      <td>-0.153059</td>\n",
       "    </tr>\n",
       "    <tr>\n",
       "      <th>21</th>\n",
       "      <td>Muppet Treasure Island (1996)</td>\n",
       "      <td>77</td>\n",
       "      <td>2.792208</td>\n",
       "      <td>1996.0</td>\n",
       "      <td>-0.111897</td>\n",
       "    </tr>\n",
       "    <tr>\n",
       "      <th>159</th>\n",
       "      <td>Basic Instinct (1992)</td>\n",
       "      <td>85</td>\n",
       "      <td>3.305882</td>\n",
       "      <td>1992.0</td>\n",
       "      <td>-0.085853</td>\n",
       "    </tr>\n",
       "    <tr>\n",
       "      <th>627</th>\n",
       "      <td>Robin Hood: Prince of Thieves (1991)</td>\n",
       "      <td>67</td>\n",
       "      <td>3.223881</td>\n",
       "      <td>1991.0</td>\n",
       "      <td>-0.082471</td>\n",
       "    </tr>\n",
       "    <tr>\n",
       "      <th>260</th>\n",
       "      <td>Event Horizon (1997)</td>\n",
       "      <td>112</td>\n",
       "      <td>2.562500</td>\n",
       "      <td>1997.0</td>\n",
       "      <td>-0.076272</td>\n",
       "    </tr>\n",
       "    <tr>\n",
       "      <th>89</th>\n",
       "      <td>Blade Runner (1982)</td>\n",
       "      <td>239</td>\n",
       "      <td>4.117155</td>\n",
       "      <td>1982.0</td>\n",
       "      <td>-0.074994</td>\n",
       "    </tr>\n",
       "    <tr>\n",
       "      <th>530</th>\n",
       "      <td>Man Who Would Be King, The (1975)</td>\n",
       "      <td>73</td>\n",
       "      <td>4.013699</td>\n",
       "      <td>1975.0</td>\n",
       "      <td>-0.074623</td>\n",
       "    </tr>\n",
       "    <tr>\n",
       "      <th>552</th>\n",
       "      <td>Species (1995)</td>\n",
       "      <td>42</td>\n",
       "      <td>2.904762</td>\n",
       "      <td>1995.0</td>\n",
       "      <td>-0.069224</td>\n",
       "    </tr>\n",
       "    <tr>\n",
       "      <th>344</th>\n",
       "      <td>Apostle, The (1997)</td>\n",
       "      <td>47</td>\n",
       "      <td>3.574468</td>\n",
       "      <td>1997.0</td>\n",
       "      <td>-0.069116</td>\n",
       "    </tr>\n",
       "    <tr>\n",
       "      <th>126</th>\n",
       "      <td>Spitfire Grill, The (1996)</td>\n",
       "      <td>82</td>\n",
       "      <td>3.939024</td>\n",
       "      <td>1996.0</td>\n",
       "      <td>-0.064781</td>\n",
       "    </tr>\n",
       "  </tbody>\n",
       "</table>\n",
       "</div>"
      ],
      "text/plain": [
       "                                    title  rating_count  mean_rating    year  \\\n",
       "380         Star Trek: Generations (1994)           101     3.277228  1994.0   \n",
       "21          Muppet Treasure Island (1996)            77     2.792208  1996.0   \n",
       "159                 Basic Instinct (1992)            85     3.305882  1992.0   \n",
       "627  Robin Hood: Prince of Thieves (1991)            67     3.223881  1991.0   \n",
       "260                  Event Horizon (1997)           112     2.562500  1997.0   \n",
       "89                    Blade Runner (1982)           239     4.117155  1982.0   \n",
       "530     Man Who Would Be King, The (1975)            73     4.013699  1975.0   \n",
       "552                        Species (1995)            42     2.904762  1995.0   \n",
       "344                   Apostle, The (1997)            47     3.574468  1997.0   \n",
       "126            Spitfire Grill, The (1996)            82     3.939024  1996.0   \n",
       "\n",
       "       weight  \n",
       "380 -0.153059  \n",
       "21  -0.111897  \n",
       "159 -0.085853  \n",
       "627 -0.082471  \n",
       "260 -0.076272  \n",
       "89  -0.074994  \n",
       "530 -0.074623  \n",
       "552 -0.069224  \n",
       "344 -0.069116  \n",
       "126 -0.064781  "
      ]
     },
     "metadata": {},
     "output_type": "display_data"
    },
    {
     "name": "stdout",
     "output_type": "stream",
     "text": [
      "\n",
      "============================================================\n",
      "Factor 3/10\n",
      "------------------------------------------------------------\n",
      "▶ Highest-loading movies\n"
     ]
    },
    {
     "data": {
      "text/html": [
       "<div>\n",
       "<style scoped>\n",
       "    .dataframe tbody tr th:only-of-type {\n",
       "        vertical-align: middle;\n",
       "    }\n",
       "\n",
       "    .dataframe tbody tr th {\n",
       "        vertical-align: top;\n",
       "    }\n",
       "\n",
       "    .dataframe thead th {\n",
       "        text-align: right;\n",
       "    }\n",
       "</style>\n",
       "<table border=\"1\" class=\"dataframe\">\n",
       "  <thead>\n",
       "    <tr style=\"text-align: right;\">\n",
       "      <th></th>\n",
       "      <th>title</th>\n",
       "      <th>rating_count</th>\n",
       "      <th>mean_rating</th>\n",
       "      <th>year</th>\n",
       "      <th>weight</th>\n",
       "    </tr>\n",
       "  </thead>\n",
       "  <tbody>\n",
       "    <tr>\n",
       "      <th>347</th>\n",
       "      <td>Wag the Dog (1997)</td>\n",
       "      <td>120</td>\n",
       "      <td>3.516667</td>\n",
       "      <td>1997.0</td>\n",
       "      <td>0.143993</td>\n",
       "    </tr>\n",
       "    <tr>\n",
       "      <th>395</th>\n",
       "      <td>Robin Hood: Men in Tights (1993)</td>\n",
       "      <td>51</td>\n",
       "      <td>2.549020</td>\n",
       "      <td>1993.0</td>\n",
       "      <td>0.133477</td>\n",
       "    </tr>\n",
       "    <tr>\n",
       "      <th>242</th>\n",
       "      <td>Kolya (1996)</td>\n",
       "      <td>100</td>\n",
       "      <td>4.030000</td>\n",
       "      <td>1996.0</td>\n",
       "      <td>0.128562</td>\n",
       "    </tr>\n",
       "    <tr>\n",
       "      <th>194</th>\n",
       "      <td>Sting, The (1973)</td>\n",
       "      <td>214</td>\n",
       "      <td>4.060748</td>\n",
       "      <td>1973.0</td>\n",
       "      <td>0.124149</td>\n",
       "    </tr>\n",
       "    <tr>\n",
       "      <th>126</th>\n",
       "      <td>Spitfire Grill, The (1996)</td>\n",
       "      <td>82</td>\n",
       "      <td>3.939024</td>\n",
       "      <td>1996.0</td>\n",
       "      <td>0.124051</td>\n",
       "    </tr>\n",
       "    <tr>\n",
       "      <th>291</th>\n",
       "      <td>Absolute Power (1997)</td>\n",
       "      <td>113</td>\n",
       "      <td>3.345133</td>\n",
       "      <td>1997.0</td>\n",
       "      <td>0.119764</td>\n",
       "    </tr>\n",
       "    <tr>\n",
       "      <th>199</th>\n",
       "      <td>Bridge on the River Kwai, The (1957)</td>\n",
       "      <td>152</td>\n",
       "      <td>4.184211</td>\n",
       "      <td>1957.0</td>\n",
       "      <td>0.112287</td>\n",
       "    </tr>\n",
       "    <tr>\n",
       "      <th>11</th>\n",
       "      <td>Seven (Se7en) (1995)</td>\n",
       "      <td>221</td>\n",
       "      <td>3.855204</td>\n",
       "      <td>1995.0</td>\n",
       "      <td>0.111684</td>\n",
       "    </tr>\n",
       "    <tr>\n",
       "      <th>337</th>\n",
       "      <td>House of Yes, The (1997)</td>\n",
       "      <td>18</td>\n",
       "      <td>3.000000</td>\n",
       "      <td>1997.0</td>\n",
       "      <td>0.110603</td>\n",
       "    </tr>\n",
       "    <tr>\n",
       "      <th>527</th>\n",
       "      <td>Gandhi (1982)</td>\n",
       "      <td>180</td>\n",
       "      <td>4.027778</td>\n",
       "      <td>1982.0</td>\n",
       "      <td>0.106191</td>\n",
       "    </tr>\n",
       "  </tbody>\n",
       "</table>\n",
       "</div>"
      ],
      "text/plain": [
       "                                    title  rating_count  mean_rating    year  \\\n",
       "347                    Wag the Dog (1997)           120     3.516667  1997.0   \n",
       "395      Robin Hood: Men in Tights (1993)            51     2.549020  1993.0   \n",
       "242                          Kolya (1996)           100     4.030000  1996.0   \n",
       "194                     Sting, The (1973)           214     4.060748  1973.0   \n",
       "126            Spitfire Grill, The (1996)            82     3.939024  1996.0   \n",
       "291                 Absolute Power (1997)           113     3.345133  1997.0   \n",
       "199  Bridge on the River Kwai, The (1957)           152     4.184211  1957.0   \n",
       "11                   Seven (Se7en) (1995)           221     3.855204  1995.0   \n",
       "337              House of Yes, The (1997)            18     3.000000  1997.0   \n",
       "527                         Gandhi (1982)           180     4.027778  1982.0   \n",
       "\n",
       "       weight  \n",
       "347  0.143993  \n",
       "395  0.133477  \n",
       "242  0.128562  \n",
       "194  0.124149  \n",
       "126  0.124051  \n",
       "291  0.119764  \n",
       "199  0.112287  \n",
       "11   0.111684  \n",
       "337  0.110603  \n",
       "527  0.106191  "
      ]
     },
     "metadata": {},
     "output_type": "display_data"
    },
    {
     "name": "stdout",
     "output_type": "stream",
     "text": [
      "\n",
      "▶ Lowest-loading movies\n"
     ]
    },
    {
     "data": {
      "text/html": [
       "<div>\n",
       "<style scoped>\n",
       "    .dataframe tbody tr th:only-of-type {\n",
       "        vertical-align: middle;\n",
       "    }\n",
       "\n",
       "    .dataframe tbody tr th {\n",
       "        vertical-align: top;\n",
       "    }\n",
       "\n",
       "    .dataframe thead th {\n",
       "        text-align: right;\n",
       "    }\n",
       "</style>\n",
       "<table border=\"1\" class=\"dataframe\">\n",
       "  <thead>\n",
       "    <tr style=\"text-align: right;\">\n",
       "      <th></th>\n",
       "      <th>title</th>\n",
       "      <th>rating_count</th>\n",
       "      <th>mean_rating</th>\n",
       "      <th>year</th>\n",
       "      <th>weight</th>\n",
       "    </tr>\n",
       "  </thead>\n",
       "  <tbody>\n",
       "    <tr>\n",
       "      <th>7</th>\n",
       "      <td>Twelve Monkeys (1995)</td>\n",
       "      <td>356</td>\n",
       "      <td>3.792135</td>\n",
       "      <td>1995.0</td>\n",
       "      <td>-0.133963</td>\n",
       "    </tr>\n",
       "    <tr>\n",
       "      <th>457</th>\n",
       "      <td>Free Willy 3: The Rescue (1997)</td>\n",
       "      <td>23</td>\n",
       "      <td>1.652174</td>\n",
       "      <td>1997.0</td>\n",
       "      <td>-0.079389</td>\n",
       "    </tr>\n",
       "    <tr>\n",
       "      <th>441</th>\n",
       "      <td>Amityville Horror, The (1979)</td>\n",
       "      <td>44</td>\n",
       "      <td>2.590909</td>\n",
       "      <td>1979.0</td>\n",
       "      <td>-0.078439</td>\n",
       "    </tr>\n",
       "    <tr>\n",
       "      <th>151</th>\n",
       "      <td>Willy Wonka and the Chocolate Factory (1971)</td>\n",
       "      <td>296</td>\n",
       "      <td>3.635135</td>\n",
       "      <td>1971.0</td>\n",
       "      <td>-0.077075</td>\n",
       "    </tr>\n",
       "    <tr>\n",
       "      <th>660</th>\n",
       "      <td>Fried Green Tomatoes (1991)</td>\n",
       "      <td>138</td>\n",
       "      <td>3.731884</td>\n",
       "      <td>1991.0</td>\n",
       "      <td>-0.076203</td>\n",
       "    </tr>\n",
       "    <tr>\n",
       "      <th>210</th>\n",
       "      <td>Indiana Jones and the Last Crusade (1989)</td>\n",
       "      <td>292</td>\n",
       "      <td>3.958904</td>\n",
       "      <td>1989.0</td>\n",
       "      <td>-0.076018</td>\n",
       "    </tr>\n",
       "    <tr>\n",
       "      <th>193</th>\n",
       "      <td>Right Stuff, The (1983)</td>\n",
       "      <td>148</td>\n",
       "      <td>3.918919</td>\n",
       "      <td>1983.0</td>\n",
       "      <td>-0.073580</td>\n",
       "    </tr>\n",
       "    <tr>\n",
       "      <th>737</th>\n",
       "      <td>Sirens (1994)</td>\n",
       "      <td>55</td>\n",
       "      <td>2.927273</td>\n",
       "      <td>1994.0</td>\n",
       "      <td>-0.070052</td>\n",
       "    </tr>\n",
       "    <tr>\n",
       "      <th>343</th>\n",
       "      <td>Alien: Resurrection (1997)</td>\n",
       "      <td>117</td>\n",
       "      <td>3.094017</td>\n",
       "      <td>1997.0</td>\n",
       "      <td>-0.069338</td>\n",
       "    </tr>\n",
       "    <tr>\n",
       "      <th>389</th>\n",
       "      <td>Black Beauty (1994)</td>\n",
       "      <td>24</td>\n",
       "      <td>3.416667</td>\n",
       "      <td>1994.0</td>\n",
       "      <td>-0.067931</td>\n",
       "    </tr>\n",
       "  </tbody>\n",
       "</table>\n",
       "</div>"
      ],
      "text/plain": [
       "                                            title  rating_count  mean_rating  \\\n",
       "7                           Twelve Monkeys (1995)           356     3.792135   \n",
       "457               Free Willy 3: The Rescue (1997)            23     1.652174   \n",
       "441                 Amityville Horror, The (1979)            44     2.590909   \n",
       "151  Willy Wonka and the Chocolate Factory (1971)           296     3.635135   \n",
       "660                   Fried Green Tomatoes (1991)           138     3.731884   \n",
       "210     Indiana Jones and the Last Crusade (1989)           292     3.958904   \n",
       "193                       Right Stuff, The (1983)           148     3.918919   \n",
       "737                                 Sirens (1994)            55     2.927273   \n",
       "343                    Alien: Resurrection (1997)           117     3.094017   \n",
       "389                           Black Beauty (1994)            24     3.416667   \n",
       "\n",
       "       year    weight  \n",
       "7    1995.0 -0.133963  \n",
       "457  1997.0 -0.079389  \n",
       "441  1979.0 -0.078439  \n",
       "151  1971.0 -0.077075  \n",
       "660  1991.0 -0.076203  \n",
       "210  1989.0 -0.076018  \n",
       "193  1983.0 -0.073580  \n",
       "737  1994.0 -0.070052  \n",
       "343  1997.0 -0.069338  \n",
       "389  1994.0 -0.067931  "
      ]
     },
     "metadata": {},
     "output_type": "display_data"
    }
   ],
   "source": [
    "# ======================================================================\n",
    "# PART 2 – Factor Interpretation\n",
    "# ======================================================================\n",
    "TOP_N = 10        # how many movies to display at each end\n",
    "k     = Q.shape[1]\n",
    "\n",
    "# --- helpers -----------------------------------------------------------\n",
    "title_lookup = (\n",
    "    train_df.drop_duplicates('item_id')\n",
    "            .set_index('item_id')['title']\n",
    "            .reindex(item_uniques)            # align order with Q\n",
    ")\n",
    "\n",
    "# Add lightweight metadata we can get without extra files -------------\n",
    "meta = pd.DataFrame({\n",
    "    'item_id'      : item_uniques,\n",
    "    'title'        : title_lookup.values,\n",
    "    'rating_count' : train_df.groupby('item_id').size().reindex(item_uniques).fillna(0).astype(int),\n",
    "    'mean_rating'  : train_df.groupby('item_id')['rating'].mean().reindex(item_uniques).fillna(np.nan) # only observed raitings\n",
    "})\n",
    "\n",
    "# Try to parse (1995) style years from titles\n",
    "meta['year'] = (\n",
    "    meta['title'].str.extract(r'\\((\\d{4})\\)', expand=False)\n",
    "                 .astype(float)\n",
    ")\n",
    "\n",
    "# ----------------------------------------------------------------------\n",
    "# 2.1  Top / bottom tables\n",
    "# ----------------------------------------------------------------------\n",
    "for latent_factor in range(3):\n",
    "    factor_vals = Q[:, latent_factor]\n",
    "\n",
    "    top_idx    = np.argsort(-factor_vals)[:TOP_N]\n",
    "    bottom_idx = np.argsort( factor_vals)[:TOP_N]\n",
    "\n",
    "    print(\"\\n\" + \"=\"*60)\n",
    "    print(f\"Factor {latent_factor+1}/{k}\")\n",
    "    print(\"-\"*60)\n",
    "\n",
    "    print(\"▶ Highest-loading movies\")\n",
    "    display(\n",
    "        meta.loc[top_idx, ['title', 'rating_count', 'mean_rating', 'year']]\n",
    "        .assign(weight=factor_vals[top_idx])\n",
    "    )\n",
    "\n",
    "    print(\"\\n▶ Lowest-loading movies\")\n",
    "    display(\n",
    "        meta.loc[bottom_idx, ['title', 'rating_count', 'mean_rating', 'year']]\n",
    "        .assign(weight=factor_vals[bottom_idx])\n",
    "    )"
   ]
  },
  {
   "cell_type": "code",
   "execution_count": null,
   "id": "cef5f4b6",
   "metadata": {},
   "outputs": [
    {
     "name": "stdout",
     "output_type": "stream",
     "text": [
      "Users with top 3 P[:, 0] (factor 1) and bottom 3 P[:, 0].\n",
      "(‘P_factor1’ is that user’s value on latent dimension 1.)\n",
      "\n"
     ]
    },
    {
     "data": {
      "text/html": [
       "<div>\n",
       "<style scoped>\n",
       "    .dataframe tbody tr th:only-of-type {\n",
       "        vertical-align: middle;\n",
       "    }\n",
       "\n",
       "    .dataframe tbody tr th {\n",
       "        vertical-align: top;\n",
       "    }\n",
       "\n",
       "    .dataframe thead th {\n",
       "        text-align: right;\n",
       "    }\n",
       "</style>\n",
       "<table border=\"1\" class=\"dataframe\">\n",
       "  <thead>\n",
       "    <tr style=\"text-align: right;\">\n",
       "      <th></th>\n",
       "      <th>P_factor1</th>\n",
       "      <th>Clockwork Orange, A (1971)</th>\n",
       "      <th>To Die For (1995)</th>\n",
       "      <th>Brazil (1985)</th>\n",
       "      <th>Leaving Las Vegas (1995)</th>\n",
       "      <th>Trainspotting (1996)</th>\n",
       "      <th>Independence Day (ID4) (1996)</th>\n",
       "      <th>Return of the Jedi (1983)</th>\n",
       "      <th>Back to the Future (1985)</th>\n",
       "      <th>Raiders of the Lost Ark (1981)</th>\n",
       "      <th>Forrest Gump (1994)</th>\n",
       "    </tr>\n",
       "    <tr>\n",
       "      <th>user_id</th>\n",
       "      <th></th>\n",
       "      <th></th>\n",
       "      <th></th>\n",
       "      <th></th>\n",
       "      <th></th>\n",
       "      <th></th>\n",
       "      <th></th>\n",
       "      <th></th>\n",
       "      <th></th>\n",
       "      <th></th>\n",
       "      <th></th>\n",
       "    </tr>\n",
       "  </thead>\n",
       "  <tbody>\n",
       "    <tr>\n",
       "      <th>269</th>\n",
       "      <td>9.452764</td>\n",
       "      <td>4.0</td>\n",
       "      <td>4.0</td>\n",
       "      <td>5.0</td>\n",
       "      <td>5.0</td>\n",
       "      <td>NaN</td>\n",
       "      <td>1.0</td>\n",
       "      <td>2.0</td>\n",
       "      <td>2.0</td>\n",
       "      <td>1.0</td>\n",
       "      <td>1.0</td>\n",
       "    </tr>\n",
       "    <tr>\n",
       "      <th>385</th>\n",
       "      <td>5.911384</td>\n",
       "      <td>NaN</td>\n",
       "      <td>3.0</td>\n",
       "      <td>4.0</td>\n",
       "      <td>3.0</td>\n",
       "      <td>NaN</td>\n",
       "      <td>NaN</td>\n",
       "      <td>NaN</td>\n",
       "      <td>1.0</td>\n",
       "      <td>2.0</td>\n",
       "      <td>NaN</td>\n",
       "    </tr>\n",
       "    <tr>\n",
       "      <th>49</th>\n",
       "      <td>5.535537</td>\n",
       "      <td>5.0</td>\n",
       "      <td>3.0</td>\n",
       "      <td>5.0</td>\n",
       "      <td>NaN</td>\n",
       "      <td>NaN</td>\n",
       "      <td>1.0</td>\n",
       "      <td>1.0</td>\n",
       "      <td>1.0</td>\n",
       "      <td>1.0</td>\n",
       "      <td>NaN</td>\n",
       "    </tr>\n",
       "    <tr>\n",
       "      <th>405</th>\n",
       "      <td>-19.134451</td>\n",
       "      <td>1.0</td>\n",
       "      <td>NaN</td>\n",
       "      <td>1.0</td>\n",
       "      <td>NaN</td>\n",
       "      <td>NaN</td>\n",
       "      <td>NaN</td>\n",
       "      <td>5.0</td>\n",
       "      <td>5.0</td>\n",
       "      <td>5.0</td>\n",
       "      <td>4.0</td>\n",
       "    </tr>\n",
       "    <tr>\n",
       "      <th>222</th>\n",
       "      <td>-7.073914</td>\n",
       "      <td>NaN</td>\n",
       "      <td>2.0</td>\n",
       "      <td>3.0</td>\n",
       "      <td>5.0</td>\n",
       "      <td>NaN</td>\n",
       "      <td>3.0</td>\n",
       "      <td>NaN</td>\n",
       "      <td>5.0</td>\n",
       "      <td>5.0</td>\n",
       "      <td>5.0</td>\n",
       "    </tr>\n",
       "    <tr>\n",
       "      <th>648</th>\n",
       "      <td>-5.671462</td>\n",
       "      <td>4.0</td>\n",
       "      <td>NaN</td>\n",
       "      <td>3.0</td>\n",
       "      <td>NaN</td>\n",
       "      <td>1.0</td>\n",
       "      <td>5.0</td>\n",
       "      <td>NaN</td>\n",
       "      <td>5.0</td>\n",
       "      <td>5.0</td>\n",
       "      <td>1.0</td>\n",
       "    </tr>\n",
       "  </tbody>\n",
       "</table>\n",
       "</div>"
      ],
      "text/plain": [
       "         P_factor1  Clockwork Orange, A (1971)  To Die For (1995)  \\\n",
       "user_id                                                             \n",
       "269       9.452764                         4.0                4.0   \n",
       "385       5.911384                         NaN                3.0   \n",
       "49        5.535537                         5.0                3.0   \n",
       "405     -19.134451                         1.0                NaN   \n",
       "222      -7.073914                         NaN                2.0   \n",
       "648      -5.671462                         4.0                NaN   \n",
       "\n",
       "         Brazil (1985)  Leaving Las Vegas (1995)  Trainspotting (1996)  \\\n",
       "user_id                                                                  \n",
       "269                5.0                       5.0                   NaN   \n",
       "385                4.0                       3.0                   NaN   \n",
       "49                 5.0                       NaN                   NaN   \n",
       "405                1.0                       NaN                   NaN   \n",
       "222                3.0                       5.0                   NaN   \n",
       "648                3.0                       NaN                   1.0   \n",
       "\n",
       "         Independence Day (ID4) (1996)  Return of the Jedi (1983)  \\\n",
       "user_id                                                             \n",
       "269                                1.0                        2.0   \n",
       "385                                NaN                        NaN   \n",
       "49                                 1.0                        1.0   \n",
       "405                                NaN                        5.0   \n",
       "222                                3.0                        NaN   \n",
       "648                                5.0                        NaN   \n",
       "\n",
       "         Back to the Future (1985)  Raiders of the Lost Ark (1981)  \\\n",
       "user_id                                                              \n",
       "269                            2.0                             1.0   \n",
       "385                            1.0                             2.0   \n",
       "49                             1.0                             1.0   \n",
       "405                            5.0                             5.0   \n",
       "222                            5.0                             5.0   \n",
       "648                            5.0                             5.0   \n",
       "\n",
       "         Forrest Gump (1994)  \n",
       "user_id                       \n",
       "269                      1.0  \n",
       "385                      NaN  \n",
       "49                       NaN  \n",
       "405                      4.0  \n",
       "222                      5.0  \n",
       "648                      1.0  "
      ]
     },
     "metadata": {},
     "output_type": "display_data"
    }
   ],
   "source": [
    "# P           : (n_users × k) numpy array of user‐latent coordinates\n",
    "# Q           : (n_items × k) numpy array of item‐latent coordinates\n",
    "# item_uniques: array/list of all item_id’s, in the same order as Q’s rows\n",
    "# user_uniques: array/list of all user_id’s, in the same order as P’s rows\n",
    "\n",
    "\n",
    "TOP_N = 5       # the ten movies (highest + lowest on factor 1)\n",
    "N_SHOW = 3       # how many “extreme” users to pick on each end\n",
    "\n",
    "# 1) Identify which 10 movies are “highest” and “lowest” for factor 1\n",
    "factor_vals = Q[:, 0]  # first latent dimension of Q\n",
    "top_item_idx    = np.argsort(-factor_vals)[:TOP_N]\n",
    "bottom_item_idx = np.argsort( factor_vals)[:TOP_N]\n",
    "\n",
    "# Map those indices to actual item_id’s and titles\n",
    "top_item_ids    = [item_uniques[i] for i in top_item_idx]\n",
    "bottom_item_ids = [item_uniques[i] for i in bottom_item_idx]\n",
    "\n",
    "# Build a small lookup for titles:\n",
    "title_lookup = (\n",
    "    train_df\n",
    "      .drop_duplicates('item_id')\n",
    "      .set_index('item_id')['title']\n",
    ")\n",
    "titles_top    = [title_lookup[i] for i in top_item_ids]\n",
    "titles_bottom = [title_lookup[i] for i in bottom_item_ids]\n",
    "\n",
    "# Combine them into one “ten_movie_ids” list (highest first, then lowest)\n",
    "ten_item_ids = top_item_ids + bottom_item_ids\n",
    "ten_titles   = titles_top   + titles_bottom\n",
    "\n",
    "# 2) Find the users with the largest / smallest P[:, 0]\n",
    "p_vals = P[:, 0]\n",
    "top_user_idx    = np.argsort(-p_vals)[:N_SHOW]\n",
    "bottom_user_idx = np.argsort( p_vals)[:N_SHOW]\n",
    "\n",
    "# Map those indices to actual user_id’s\n",
    "top_user_ids    = [user_uniques[u] for u in top_user_idx]\n",
    "bottom_user_ids = [user_uniques[u] for u in bottom_user_idx]\n",
    "\n",
    "# 3) Now, for each of these six users, look up their rating (if any) on each of the ten movies\n",
    "#    We can merge/filter train_df to grab only the rows where user ∈ {extreme users} AND item ∈ {our ten movies},\n",
    "#    then pivot so that rows = user_id, columns = title, values = rating.\n",
    "extreme_user_ids = top_user_ids + bottom_user_ids\n",
    "subset = train_df[\n",
    "    train_df['user_id'].isin(extreme_user_ids) &\n",
    "    train_df['item_id'].isin(ten_item_ids)\n",
    "].copy()\n",
    "\n",
    "# Attach each item_id → title (for readability)\n",
    "subset['title'] = subset['item_id'].map(title_lookup)\n",
    "\n",
    "# Build a pivot: rows are user_id, cols are movie‐titles, entries are ratings (NaN if not rated)\n",
    "pivot = (\n",
    "    subset\n",
    "      .loc[:, ['user_id','title','rating']]\n",
    "      .pivot(index='user_id', columns='title', values='rating')\n",
    "      .reindex(index=extreme_user_ids)       # ensure the order is [top users…, bottom users…]\n",
    "      .reindex(columns=ten_titles)           # ensure the ten columns are in the order we chose\n",
    ")\n",
    "\n",
    "# 4) For clarity, let’s also add a column that tells us each user’s P-coordinate on factor 1:\n",
    "coord_df = pd.DataFrame({\n",
    "    'user_id': extreme_user_ids,\n",
    "    'P_factor1': [p_vals[user_uniques.tolist().index(uid)] for uid in extreme_user_ids]\n",
    "}).set_index('user_id')\n",
    "\n",
    "# Finally, join them so we see each user’s P[:,0] alongside their ratings:\n",
    "result = coord_df.join(pivot)\n",
    "\n",
    "# 5) Print\n",
    "print(\"Users with top 3 P[:, 0] (factor 1) and bottom 3 P[:, 0].\")\n",
    "print(\"(‘P_factor1’ is that user’s value on latent dimension 1.)\\n\")\n",
    "display(result)\n"
   ]
  },
  {
   "cell_type": "markdown",
   "id": "b5cee3f7",
   "metadata": {},
   "source": [
    "### Geometry and Clustering"
   ]
  },
  {
   "cell_type": "code",
   "execution_count": null,
   "id": "8806d080",
   "metadata": {},
   "outputs": [
    {
     "name": "stderr",
     "output_type": "stream",
     "text": [
      "C:\\Users\\pouri\\AppData\\Roaming\\Python\\Python312\\site-packages\\sklearn\\manifold\\_t_sne.py:1162: FutureWarning:\n",
      "\n",
      "'n_iter' was renamed to 'max_iter' in version 1.5 and will be removed in 1.7.\n",
      "\n",
      "C:\\Users\\pouri\\AppData\\Local\\Temp\\ipykernel_25844\\2411662939.py:46: UserWarning:\n",
      "\n",
      "This figure includes Axes that are not compatible with tight_layout, so results might be incorrect.\n",
      "\n"
     ]
    },
    {
     "data": {
      "image/png": "[encoded data removed]",
      "text/plain": [
       "<Figure size 1320x550 with 3 Axes>"
      ]
     },
     "metadata": {},
     "output_type": "display_data"
    },
    {
     "data": {
      "text/html": [
       "<div>\n",
       "<style scoped>\n",
       "    .dataframe tbody tr th:only-of-type {\n",
       "        vertical-align: middle;\n",
       "    }\n",
       "\n",
       "    .dataframe tbody tr th {\n",
       "        vertical-align: top;\n",
       "    }\n",
       "\n",
       "    .dataframe thead th {\n",
       "        text-align: right;\n",
       "    }\n",
       "</style>\n",
       "<table border=\"1\" class=\"dataframe\">\n",
       "  <thead>\n",
       "    <tr style=\"text-align: right;\">\n",
       "      <th></th>\n",
       "      <th>cluster</th>\n",
       "      <th>size</th>\n",
       "      <th>representative_titles</th>\n",
       "    </tr>\n",
       "  </thead>\n",
       "  <tbody>\n",
       "    <tr>\n",
       "      <th>0</th>\n",
       "      <td>0</td>\n",
       "      <td>219</td>\n",
       "      <td>Microcosmos: Le peuple de l'herbe (1996); Desi...</td>\n",
       "    </tr>\n",
       "    <tr>\n",
       "      <th>1</th>\n",
       "      <td>1</td>\n",
       "      <td>185</td>\n",
       "      <td>Double Team (1997); Steal Big, Steal Little (1...</td>\n",
       "    </tr>\n",
       "    <tr>\n",
       "      <th>2</th>\n",
       "      <td>2</td>\n",
       "      <td>271</td>\n",
       "      <td>Getting Away With Murder (1996); City of Angel...</td>\n",
       "    </tr>\n",
       "    <tr>\n",
       "      <th>3</th>\n",
       "      <td>3</td>\n",
       "      <td>260</td>\n",
       "      <td>Innocent Sleep, The (1995); My Life and Times ...</td>\n",
       "    </tr>\n",
       "    <tr>\n",
       "      <th>4</th>\n",
       "      <td>4</td>\n",
       "      <td>154</td>\n",
       "      <td>Go Fish (1994); Amityville: Dollhouse (1996); ...</td>\n",
       "    </tr>\n",
       "    <tr>\n",
       "      <th>5</th>\n",
       "      <td>5</td>\n",
       "      <td>122</td>\n",
       "      <td>Bent (1997); Bad Moon (1996); Frisk (1995); Al...</td>\n",
       "    </tr>\n",
       "    <tr>\n",
       "      <th>6</th>\n",
       "      <td>6</td>\n",
       "      <td>218</td>\n",
       "      <td>Destiny Turns on the Radio (1995); Touki Bouki...</td>\n",
       "    </tr>\n",
       "    <tr>\n",
       "      <th>7</th>\n",
       "      <td>7</td>\n",
       "      <td>238</td>\n",
       "      <td>Quiet Man, The (1952); Red Rock West (1992); F...</td>\n",
       "    </tr>\n",
       "  </tbody>\n",
       "</table>\n",
       "</div>"
      ],
      "text/plain": [
       "   cluster  size                              representative_titles\n",
       "0        0   219  Microcosmos: Le peuple de l'herbe (1996); Desi...\n",
       "1        1   185  Double Team (1997); Steal Big, Steal Little (1...\n",
       "2        2   271  Getting Away With Murder (1996); City of Angel...\n",
       "3        3   260  Innocent Sleep, The (1995); My Life and Times ...\n",
       "4        4   154  Go Fish (1994); Amityville: Dollhouse (1996); ...\n",
       "5        5   122  Bent (1997); Bad Moon (1996); Frisk (1995); Al...\n",
       "6        6   218  Destiny Turns on the Radio (1995); Touki Bouki...\n",
       "7        7   238  Quiet Man, The (1952); Red Rock West (1992); F..."
      ]
     },
     "metadata": {},
     "output_type": "display_data"
    }
   ],
   "source": [
    "# ======================================================================\n",
    "#  • k-means on movie vectors\n",
    "#  • 2-D scatter via PCA (fast) and t-SNE (slower, nicer)\n",
    "#  • cluster summary table\n",
    "# ======================================================================\n",
    "\n",
    "from sklearn.preprocessing import normalize\n",
    "from sklearn.cluster import KMeans\n",
    "from sklearn.decomposition import PCA\n",
    "from sklearn.manifold import TSNE\n",
    "import matplotlib.pyplot as plt\n",
    "\n",
    "# ----------------------------------------------------------------------\n",
    "# 3.1  Normalise Q rows (helps k-means & cosine geometry)\n",
    "# ----------------------------------------------------------------------\n",
    "Q_norm = normalize(Q)                     # L2 row-norm = 1\n",
    "\n",
    "# Choose a cluster count (tweak or compute via silhouette)\n",
    "N_CLUSTERS = 8\n",
    "kmeans = KMeans(n_clusters=N_CLUSTERS, random_state=42, n_init='auto')\n",
    "labels = kmeans.fit_predict(Q_norm)\n",
    "\n",
    "# ----------------------------------------------------------------------\n",
    "# 3.2  2-D embeddings for visualisation\n",
    "# ----------------------------------------------------------------------\n",
    "pca_2d  = PCA(n_components=2, random_state=42).fit_transform(Q_norm)\n",
    "tsne_2d = TSNE(perplexity=40, metric='cosine', init='pca',\n",
    "               random_state=42, n_iter=1000).fit_transform(Q_norm)\n",
    "\n",
    "# ----------------------------------------------------------------------\n",
    "# 3.3  Scatter plots (PCA & t-SNE)\n",
    "# ----------------------------------------------------------------------\n",
    "fig, ax = plt.subplots(1, 2, figsize=(12, 5), dpi=110)\n",
    "\n",
    "scatter = ax[0].scatter(pca_2d[:,0], pca_2d[:,1], c=labels, s=6, cmap='tab10')\n",
    "ax[0].set_title(\"PCA 2-D projection\")\n",
    "ax[0].set_xticks([]); ax[0].set_yticks([])\n",
    "\n",
    "ax[1].scatter(tsne_2d[:,0], tsne_2d[:,1], c=labels, s=6, cmap='tab10')\n",
    "ax[1].set_title(\"t-SNE 2-D projection\")\n",
    "ax[1].set_xticks([]); ax[1].set_yticks([])\n",
    "\n",
    "fig.colorbar(scatter, ax=ax.ravel().tolist(), shrink=0.7, label='cluster id')\n",
    "plt.tight_layout()\n",
    "plt.show()\n",
    "\n",
    "# ----------------------------------------------------------------------\n",
    "# 3.4  Cluster summary\n",
    "# ----------------------------------------------------------------------\n",
    "summary_rows = []\n",
    "centroids = kmeans.cluster_centers_\n",
    "dists = np.linalg.norm(Q_norm - centroids[labels], axis=1)\n",
    "top_k = 5   \n",
    "\n",
    "for cl in range(N_CLUSTERS):\n",
    "    idx   = np.where(labels == cl)[0]\n",
    "    size  = len(idx)\n",
    "    rep_idx = idx[np.argsort(dists[idx])[:min(size, top_k)]]\n",
    "\n",
    "    summary_rows.append({\n",
    "        'cluster' : cl,\n",
    "        'size'    : size,\n",
    "        'representative_titles' : \"; \".join(meta.iloc[rep_idx]['title'])\n",
    "    })\n",
    "\n",
    "cluster_summary = (\n",
    "    pd.DataFrame(summary_rows)\n",
    "      .sort_values('cluster')\n",
    ")\n",
    "\n",
    "display(cluster_summary)\n",
    "\n"
   ]
  },
  {
   "cell_type": "code",
   "execution_count": 110,
   "id": "3628b9f2",
   "metadata": {},
   "outputs": [
    {
     "data": {
      "text/plain": [
       "'Destiny Turns on the Radio (1995); I, Worst of All (Yo, la peor de todas) (1990); Hungarian Fairy Tale, A (1987); Yankee Zulu (1994); The Courtyard (1995)'"
      ]
     },
     "execution_count": 110,
     "metadata": {},
     "output_type": "execute_result"
    }
   ],
   "source": [
    "cluster_summary['representative_titles'][6]"
   ]
  },
  {
   "cell_type": "code",
   "execution_count": 111,
   "id": "6a4041ba",
   "metadata": {},
   "outputs": [
    {
     "data": {
      "text/plain": [
       "'Double Team (1997); Steal Big, Steal Little (1995); Amos & Andrew (1993); Spy Hard (1996); Meet Wally Sparks (1997)'"
      ]
     },
     "execution_count": 111,
     "metadata": {},
     "output_type": "execute_result"
    }
   ],
   "source": [
    "cluster_summary['representative_titles'][1]"
   ]
  }
 ],
 "metadata": {
  "kernelspec": {
   "display_name": "Python 3",
   "language": "python",
   "name": "python3"
  },
  "language_info": {
   "codemirror_mode": {
    "name": "ipython",
    "version": 3
   },
   "file_extension": ".py",
   "mimetype": "text/x-python",
   "name": "python",
   "nbconvert_exporter": "python",
   "pygments_lexer": "ipython3",
   "version": "3.12.0"
  }
 },
 "nbformat": 4,
 "nbformat_minor": 5
}
