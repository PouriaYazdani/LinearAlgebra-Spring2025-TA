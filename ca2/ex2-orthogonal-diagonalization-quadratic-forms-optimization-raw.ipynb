{
 "cells": [
  {
   "cell_type": "code",
   "execution_count": null,
   "id": "60eb25df",
   "metadata": {},
   "outputs": [],
   "source": [
    "import numpy as np\n",
    "import matplotlib.pyplot as plt"
   ]
  },
  {
   "cell_type": "markdown",
   "id": "cd661e72",
   "metadata": {},
   "source": [
    "## Part A - What does orthogonal diagonalization really mean?"
   ]
  },
  {
   "cell_type": "code",
   "execution_count": null,
   "id": "292f68d6",
   "metadata": {},
   "outputs": [],
   "source": [
    "# 1. Generate a symmetric matrix A\n",
    "# 2. Orthogonal diagonalization: A = Q D Qᵀ\n",
    "# 3. Create a grid of 2D points around the origin\n",
    "# 4. Apply transformation directly\n",
    "# 4. Apply transformations step by step\n",
    "# 6. Define a plotting function to show before/after of each step\n",
    "def plot_pair(before, after, title_before, title_after, xlim=(-4, 4), ylim=(-4, 4)):\n",
    "    pass\n",
    "\n",
    "# 7. Plot results of each transformation step\n",
    "# TODO: Call plot_pair with the appropriate before/after vectors\n"
   ]
  },
  {
   "cell_type": "code",
   "execution_count": null,
   "id": "e2558c64",
   "metadata": {},
   "outputs": [],
   "source": [
    "\n",
    "def random_symmetric(n=3, seed=None):\n",
    "    \"\"\"Create a symmetric n×n matrix.\"\"\"\n",
    "    # TODO\n",
    "\n",
    "def diagonalize(A):\n",
    "    \"\"\"Return orthogonal matrix Q and eigenvalues D such that A = Q D Qᵀ\"\"\"\n",
    "    # TODO\n",
    "\n",
    "def check_factorization(A, Q, D):\n",
    "    \"\"\"Compute reconstruction and orthogonality error.\"\"\"\n",
    "    # TODO: Reconstruct A from Q, D\n",
    "    # TODO: Compute error norms\n",
    "\n",
    "# Generate and test diagonalization for several random matrices\n",
    "# TODO: Loop over multiple random matrices and check accuracy\n",
    "# TODO log every step in the pipeline\n"
   ]
  },
  {
   "cell_type": "markdown",
   "id": "ba9a49e7",
   "metadata": {},
   "source": [
    "##  Part B - Exploring Quadratic Forms Through Eigenvector Geometry"
   ]
  },
  {
   "cell_type": "code",
   "execution_count": null,
   "id": "47d1b87f",
   "metadata": {},
   "outputs": [],
   "source": [
    "def make_symmetric_with_eigs(eigs, seed=None):\n",
    "    \"\"\"\n",
    "    TODO: Create a 2x2 symmetric matrix with specified eigenvalues.\n",
    "    - Return A\n",
    "    \"\"\"\n",
    "    pass\n",
    "\n",
    "# --- TODO: Define several 2x2 matrices with different eigenvalue types including both positive, both negative, both equal(identical) and with different signs \n",
    "\n",
    "eigs1 = [__, __]   # TODO\n",
    "eigs2 = [__, __]   # TODO\n",
    "A1 = make_symmetric_with_eigs(eigs1, seed=1)\n",
    "A2 = make_symmetric_with_eigs(eigs2, seed=2)\n",
    "# A3, A4 and ...\n",
    "\n",
    "\n",
    "# FOR EACH DEFINED MATRIX\n",
    "# TODO -> show the behaviour of quadratic form in the direction of eigenvectors\n",
    "# TODO -> show the behaviour of quadratic form in the physcial space (cartesian coordinates)\n"
   ]
  },
  {
   "cell_type": "code",
   "execution_count": null,
   "id": "25809269",
   "metadata": {},
   "outputs": [],
   "source": [
    "from mpl_toolkits.mplot3d import Axes3D  # required for 3D plotting\n",
    "\n",
    "# %% TODO: Define a few 2×2 symmetric test matrices\n",
    "# - Include at least one positive definite, one with repeated eigenvalues, and one indefinite\n",
    "matrices = {\n",
    "    \"TODO: Label 1\": np.array([[__, __], [__, __]]),  # e.g. ellipse\n",
    "    \"TODO: Label 2\": np.array([[__, __], [__, __]]),  # e.g. circle\n",
    "    \"TODO: Label 3\": np.array([[__, __], [__, __]])   # e.g. saddle\n",
    "}\n",
    "\n",
    "# TODO: Prepare a meshgrid of (x₁, x₂) points for evaluating f(x)\n",
    "\n",
    "\n",
    "# TODO: Loop through each matrix and plot its behavior\n",
    "for name, A in matrices.items():\n",
    "    # TODO: Perform eigenvalue decomposition (A = Q D Qᵀ)\n",
    "\n",
    "    # TODO: Print out the quadratic form in both original and diagonalized basis \n",
    "\n",
    "    # TODO: Evaluate the quadratic form f(x) = xᵀ A x on the grid\n",
    "\n",
    "    # TODO --- 3D Surface Plot of f(x) both cartesian and eigenspaces ---\n",
    "    \n",
    "    pass"
   ]
  },
  {
   "cell_type": "markdown",
   "id": "84c7e332",
   "metadata": {},
   "source": [
    "## Part C - Optimizaion using Quadratic forms"
   ]
  },
  {
   "cell_type": "code",
   "execution_count": null,
   "id": "1e8718c9",
   "metadata": {},
   "outputs": [],
   "source": [
    "# TODO define square symmetric matrices (2x2, 3x3)\n",
    "# apply optimizaion on the defined quadratic form with unit circle constraint (|x|=1)\n",
    "# show the 3d plot of the quadratic form and the MIN and MAX values on the defined unit circle. (i.e. the constraint domain)"
   ]
  },
  {
   "cell_type": "code",
   "execution_count": null,
   "id": "2e20c346",
   "metadata": {},
   "outputs": [],
   "source": [
    "# TODO more constraints... (x_T.u1 = 0) "
   ]
  }
 ],
 "metadata": {
  "kernelspec": {
   "display_name": "deeplearning",
   "language": "python",
   "name": "python3"
  },
  "language_info": {
   "name": "python",
   "version": "3.10.15"
  }
 },
 "nbformat": 4,
 "nbformat_minor": 5
}
